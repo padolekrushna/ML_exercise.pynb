{
  "nbformat": 4,
  "nbformat_minor": 0,
  "metadata": {
    "colab": {
      "provenance": [],
      "include_colab_link": true
    },
    "kernelspec": {
      "name": "python3",
      "display_name": "Python 3"
    },
    "language_info": {
      "name": "python"
    }
  },
  "cells": [
    {
      "cell_type": "markdown",
      "metadata": {
        "id": "view-in-github",
        "colab_type": "text"
      },
      "source": [
        "<a href=\"https://colab.research.google.com/github/padolekrushna/ML_exercise.pynb/blob/main/ML_KNN_.ipynb\" target=\"_parent\"><img src=\"https://colab.research.google.com/assets/colab-badge.svg\" alt=\"Open In Colab\"/></a>"
      ]
    },
    {
      "cell_type": "code",
      "source": [
        "import pandas as pd\n",
        "import matplotlib.pyplot as plt\n",
        "import seaborn as sns\n",
        "\n",
        "from sklearn.model_selection import train_test_split, GridSearchCV\n",
        "from sklearn.neighbors import KNeighborsClassifier\n",
        "from sklearn.metrics import accuracy_score\n",
        "from sklearn.preprocessing import MinMaxScaler\n",
        "\n",
        "\n",
        "# Load the dataset\n",
        "data = pd.read_csv('/content/glass.csv')\n",
        "data.drop_duplicates(inplace=True)\n",
        "data.info()"
      ],
      "metadata": {
        "id": "n_ilVVxbX04n"
      },
      "execution_count": null,
      "outputs": []
    },
    {
      "cell_type": "code",
      "source": [
        "# Separate the features and target variable\n",
        "X = data.drop('Type', axis=1)\n",
        "y = data['Type']\n",
        "\n",
        "# Split the data into training and testing sets\n",
        "X_train, X_test, y_train, y_test = train_test_split(X, y, test_size=0.2, random_state=42)"
      ],
      "metadata": {
        "id": "q2F-AYEBYNL5"
      },
      "execution_count": null,
      "outputs": []
    },
    {
      "cell_type": "code",
      "source": [
        "# Scaling Data\n",
        "\n",
        "scaler = MinMaxScaler()\n",
        "X_train = scaler.fit_transform(X_train)\n",
        "X_test = scaler.fit_transform(X_test)"
      ],
      "metadata": {
        "id": "2XjhtKUDYNIu"
      },
      "execution_count": null,
      "outputs": []
    },
    {
      "cell_type": "code",
      "source": [
        "# Creating a model function\n",
        "\n",
        "def knn_func(train_x, train_label, test_x, k):\n",
        "    \"\"\"\n",
        "    train_x - train features\n",
        "    train_label - train targets\n",
        "    test_x - validation data(features)\n",
        "    k - nearest neighbours <int>\n",
        "    \"\"\"\n",
        "    knn = KNeighborsClassifier(n_neighbors = k)\n",
        "    knn.fit(train_x, train_label)\n",
        "    prediction = knn.predict(test_x)\n",
        "    return prediction"
      ],
      "metadata": {
        "id": "Q3s5vbhhYx-u"
      },
      "execution_count": null,
      "outputs": []
    },
    {
      "cell_type": "code",
      "source": [
        "# For best n_neighbours\n",
        "import math\n",
        "n = data.shape[0]\n",
        "k_max = math.sqrt(n)\n",
        "k_max"
      ],
      "metadata": {
        "colab": {
          "base_uri": "https://localhost:8080/"
        },
        "id": "HoNXURIyYyCP",
        "outputId": "6a394a2a-a0e6-4510-a25d-993ad8c7fb2b"
      },
      "execution_count": null,
      "outputs": [
        {
          "output_type": "execute_result",
          "data": {
            "text/plain": [
              "14.594519519326424"
            ]
          },
          "metadata": {},
          "execution_count": 8
        }
      ]
    },
    {
      "cell_type": "code",
      "source": [
        "normal_accuracy = []\n",
        "k_values = range(1,16)\n",
        "\n",
        "for k in k_values :\n",
        "    y_pred = knn_func(X_train,y_train,X_test,k)\n",
        "    accur = accuracy_score(y_test,y_pred)\n",
        "    normal_accuracy.append(accur)\n",
        "\n",
        "plt.plot(k_values,normal_accuracy,c=\"grey\",marker=\".\",ms=7,mfc=\"black\",mec=\"green\")\n",
        "plt.xlabel(\"K\")\n",
        "plt.ylabel(\"Accuracy\")\n",
        "plt.grid(True)\n",
        "plt.show()"
      ],
      "metadata": {
        "colab": {
          "base_uri": "https://localhost:8080/",
          "height": 449
        },
        "id": "9qLgnPa5ZvG-",
        "outputId": "d7fc0789-5f2e-419d-8eb2-6beceb78e8f5"
      },
      "execution_count": null,
      "outputs": [
        {
          "output_type": "display_data",
          "data": {
            "text/plain": [
              "<Figure size 640x480 with 1 Axes>"
            ],
            "image/png": "[encoded data removed]"
          },
          "metadata": {}
        }
      ]
    },
    {
      "cell_type": "markdown",
      "source": [
        "* From above graph of Accuracy vs K, best value for **n_beighbours is 8**."
      ],
      "metadata": {
        "id": "kCDO8-v8WRru"
      }
    }
  ]
}