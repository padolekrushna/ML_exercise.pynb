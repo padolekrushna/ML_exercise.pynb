{
  "nbformat": 4,
  "nbformat_minor": 0,
  "metadata": {
    "colab": {
      "provenance": [],
      "authorship_tag": "ABX9TyNJD0zVjh2/lcbG2coSuwcn",
      "include_colab_link": true
    },
    "kernelspec": {
      "name": "python3",
      "display_name": "Python 3"
    },
    "language_info": {
      "name": "python"
    }
  },
  "cells": [
    {
      "cell_type": "markdown",
      "metadata": {
        "id": "view-in-github",
        "colab_type": "text"
      },
      "source": [
        "<a href=\"https://colab.research.google.com/github/padolekrushna/ML_exercise.pynb/blob/main/Z_score.ipynb\" target=\"_parent\"><img src=\"https://colab.research.google.com/assets/colab-badge.svg\" alt=\"Open In Colab\"/></a>"
      ]
    },
    {
      "cell_type": "markdown",
      "source": [
        "##Z score for Outlier Detection – Python"
      ],
      "metadata": {
        "id": "36wekumXYgYf"
      }
    },
    {
      "cell_type": "code",
      "execution_count": 1,
      "metadata": {
        "id": "2rrUqpyFYfHb"
      },
      "outputs": [],
      "source": [
        "import numpy as np"
      ]
    },
    {
      "cell_type": "code",
      "source": [
        "data = [1, 2, 2, 2, 3, 1, 1, 15, 2, 2, 2, 3, 1, 1, 2]\n",
        "mean = np.mean(data)\n",
        "std = np.std(data)\n",
        "print('mean of the dataset is', mean)\n",
        "print('std. deviation is', std)\n"
      ],
      "metadata": {
        "colab": {
          "base_uri": "https://localhost:8080/"
        },
        "id": "mhxpS0S1Yrg1",
        "outputId": "a4f6e0e1-100c-4ee6-efb4-a07535aae02d"
      },
      "execution_count": 2,
      "outputs": [
        {
          "output_type": "stream",
          "name": "stdout",
          "text": [
            "mean of the dataset is 2.6666666666666665\n",
            "std. deviation is 3.3598941782277745\n"
          ]
        }
      ]
    },
    {
      "cell_type": "code",
      "source": [
        "threshold = 3\n",
        "outlier = []\n",
        "for i in data:\n",
        "\tz = (i-mean)/std\n",
        "\tif z > threshold:\n",
        "\t\toutlier.append(i)\n",
        "print('outlier in dataset is', outlier)\n"
      ],
      "metadata": {
        "colab": {
          "base_uri": "https://localhost:8080/"
        },
        "id": "WjSC9ErmYuMy",
        "outputId": "a9dfb521-e53b-4ad3-fbd8-b931e41c7e09"
      },
      "execution_count": 3,
      "outputs": [
        {
          "output_type": "stream",
          "name": "stdout",
          "text": [
            "outlier in dataset is [15]\n"
          ]
        }
      ]
    },
    {
      "cell_type": "code",
      "source": [
        "## Z score helps us identify outliers in the data."
      ],
      "metadata": {
        "id": "KUSe7deUYx74"
      },
      "execution_count": 5,
      "outputs": []
    }
  ]
}