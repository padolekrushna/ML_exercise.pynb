{
 "cells": [
  {
   "cell_type": "code",
   "execution_count": 1,
   "id": "ee4ae114",
   "metadata": {},
   "outputs": [
    {
     "name": "stdout",
     "output_type": "stream",
     "text": [
      "display multiplication tables of number:2\n",
      "2 x 1 = 2\n",
      "2 x 2 = 4\n",
      "2 x 3 = 6\n",
      "2 x 4 = 8\n",
      "2 x 5 = 10\n",
      "2 x 6 = 12\n",
      "2 x 7 = 14\n",
      "2 x 8 = 16\n",
      "2 x 9 = 18\n",
      "2 x 10 = 20\n"
     ]
    }
   ],
   "source": [
    "#Q1 multiplication of number.\n",
    "num=int(input(\"display multiplication tables of number:\"))\n",
    "for i in range(1,11):\n",
    "    print(num,'x',i,'=',num*i)"
   ]
  },
  {
   "cell_type": "code",
   "execution_count": 2,
   "id": "fc5186bd",
   "metadata": {},
   "outputs": [
    {
     "name": "stdout",
     "output_type": "stream",
     "text": [
      "enter number to check whether the no is palindrome or not:202\n",
      "number is palindrome\n"
     ]
    }
   ],
   "source": [
    "#Q2 palindrome of number\n",
    "num=int(input(\"enter number to check whether the no is palindrome or not:\"))\n",
    "temp=num\n",
    "rev=0\n",
    "while(num>0):\n",
    "    d=num%10\n",
    "    \n",
    "    rev=rev*10+d\n",
    "    num=num//10\n",
    "if(temp==rev):\n",
    "    print(\"number is palindrome\")\n",
    "else:\n",
    "    print(\"number is not palindrome\")"
   ]
  },
  {
   "cell_type": "code",
   "execution_count": 1,
   "id": "6f523558",
   "metadata": {},
   "outputs": [
    {
     "name": "stdout",
     "output_type": "stream",
     "text": [
      "enter number:5\n",
      "factorial of the number: 120\n"
     ]
    }
   ],
   "source": [
    "#Q3 factorial of number\n",
    "num=int(input(\"enter number:\"))\n",
    "fact=1   \n",
    "for i in range(2,num+1):\n",
    "        fact*=i\n",
    "print(\"factorial of the number:\",fact)"
   ]
  },
  {
   "cell_type": "code",
   "execution_count": 7,
   "id": "c162584f",
   "metadata": {},
   "outputs": [
    {
     "name": "stdout",
     "output_type": "stream",
     "text": [
      "enter year:2004\n",
      "the give year is leap year\n"
     ]
    }
   ],
   "source": [
    "#Q4 leap year or not \n",
    "num=int(input(\"enter year:\"))\n",
    "if((num%4==0 and num%100!=0)):\n",
    "        print(\"the give year is leap year\")\n",
    "else:\n",
    "        print(\"the give year is not leap year\")"
   ]
  },
  {
   "cell_type": "code",
   "execution_count": 5,
   "id": "29edbf86",
   "metadata": {},
   "outputs": [
    {
     "name": "stdout",
     "output_type": "stream",
     "text": [
      "enter num:5\n",
      "1 2 3 5 8 \n"
     ]
    }
   ],
   "source": [
    "#Q5 fibonacci seris\n",
    "n=int(input(\"enter num:\"))\n",
    "num1=0\n",
    "num2=1\n",
    "next_num=num2\n",
    "cnt=1\n",
    "while cnt<=n:\n",
    "    \n",
    "    print(next_num,end=\" \")\n",
    "    cnt+=1\n",
    "    num1,num2=num2,next_num\n",
    "    next_num=num1+num2\n",
    "print()"
   ]
  },
  {
   "cell_type": "code",
   "execution_count": 2,
   "id": "9442265e",
   "metadata": {},
   "outputs": [
    {
     "name": "stdout",
     "output_type": "stream",
     "text": [
      "enter a num   :4\n",
      "enter a num   :4\n",
      "enter operations to be performed:+,-,*,/    : *\n",
      "Ans : 16\n"
     ]
    }
   ],
   "source": [
    "#Q6 enter operations to be performed:+,-,*,/\n",
    "n=int(input(\"enter a num   :\"))\n",
    "n1=int(input(\"enter a num   :\"))\n",
    "ch=input(\"enter operations to be performed:+,-,*,/    : \")\n",
    "r=0\n",
    "if ch =='+':\n",
    "    r=n+n1\n",
    "elif ch =='-':\n",
    "    r=n1-n2\n",
    "elif ch =='*':\n",
    "    r=n*n1\n",
    "elif ch =='/':\n",
    "    r=n/n1\n",
    "else:\n",
    "    print(\"wrong input\")\n",
    "print(\"Ans :\",r)        \n"
   ]
  },
  {
   "cell_type": "code",
   "execution_count": 20,
   "id": "db745bf0",
   "metadata": {},
   "outputs": [
    {
     "name": "stdout",
     "output_type": "stream",
     "text": [
      "[1, 2, 3, 4, [6, 5, 4], [3, 2, 5, 3], 1, 2, 3, 4, 5, 6]\n",
      "[4, [6, 5, 4]]\n",
      "the original list1 is:[1, 2, 3, 4]\n",
      "the original list1 is:[1, 2, 3, 4]\n",
      "the list after element concatination is:[2, 4, 6, 8]\n"
     ]
    }
   ],
   "source": [
    "#Q7 implement list opration.\n",
    "lst=[1,2,3,4,[6,5,4],[3,2,5,3]]\n",
    "len(lst)\n",
    "lst2=[1,2,3,4,5,6]\n",
    "lst3=lst+lst2\n",
    "print(lst3)\n",
    "\n",
    "#sliciing\n",
    "print(lst[3:5])\n",
    "#oprations\n",
    "lst1=[10,20,[300,400,[500,600],500],30,40]\n",
    "lst1[2][2].append(7000)\n",
    "lst1\n",
    "\n",
    "#reverse list\n",
    "list=[1,2,3,4,5]\n",
    "def reverse_list(list):\n",
    "    new_list=list[::-1]\n",
    "    return new_list\n",
    "reverse_list(list)\n",
    "\n",
    "#concatination\n",
    "list1=[1,2,3,4]\n",
    "list2=[1,2,3,4]\n",
    "print(\"the original list1 is:\"+str(list1))\n",
    "print(\"the original list1 is:\"+str(list2))\n",
    "res=[]\n",
    "for i in range(len(list1)):\n",
    "    res.append(list1[i]+list2[i])\n",
    "print(\"the list after element concatination is:\"+str(res))"
   ]
  },
  {
   "cell_type": "code",
   "execution_count": null,
   "id": "cc0a4e41",
   "metadata": {},
   "outputs": [],
   "source": []
  }
 ],
 "metadata": {
  "kernelspec": {
   "display_name": "Python 3 (ipykernel)",
   "language": "python",
   "name": "python3"
  },
  "language_info": {
   "codemirror_mode": {
    "name": "ipython",
    "version": 3
   },
   "file_extension": ".py",
   "mimetype": "text/x-python",
   "name": "python",
   "nbconvert_exporter": "python",
   "pygments_lexer": "ipython3",
   "version": "3.11.5"
  }
 },
 "nbformat": 4,
 "nbformat_minor": 5
}
