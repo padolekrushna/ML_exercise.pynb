{
 "cells": [
  {
   "cell_type": "code",
   "execution_count": 8,
   "id": "14887ac9-8691-44c1-9ce2-f2a0b1ad385b",
   "metadata": {},
   "outputs": [
    {
     "name": "stdout",
     "output_type": "stream",
     "text": [
      "T#h#e# #w#o#r#l#d# #i#s# #r#o#u#n#d#"
     ]
    }
   ],
   "source": [
    "f=open(\"matter.txt\",\"w\")\n",
    "f.write(\"The world is round\")\n",
    "f.close()\n",
    "def count_hash():\n",
    "    with open(\"matter.txt\",\"r\") as f:\n",
    "        data=f.read()\n",
    "    for letter in data:\n",
    "        print(letter,end=\"#\")\n",
    "        f.close()\n",
    "count_hash()"
   ]
  },
  {
   "cell_type": "code",
   "execution_count": 10,
   "id": "93fb9e9a-53d3-4e43-854d-ef0717f01257",
   "metadata": {},
   "outputs": [
    {
     "name": "stdout",
     "output_type": "stream",
     "text": [
      "Well this is a word by itself.\n",
      " you could stretch this to be a sentence"
     ]
    }
   ],
   "source": [
    "f=open(\"words.txt\",\"w\")\n",
    "f.write(\"Well thjs js a word by jtself.\\n you could stretch thjs to be a sentence\")\n",
    "f.close()\n",
    "def jtoi():\n",
    "    with open(\"words.txt\",\"r\") as f:\n",
    "        data=f.read()\n",
    "        for letter in data:\n",
    "            if letter==\"j\" or letter==\"J\":\n",
    "                print(\"i\",end=\"\")\n",
    "            else:\n",
    "                print(letter,end=\"\")\n",
    "                f.close()\n",
    "jtoi()                \n",
    "            "
   ]
  },
  {
   "cell_type": "code",
   "execution_count": 21,
   "id": "9e37f6b9-8de5-4aff-9937-9c7007a0f389",
   "metadata": {},
   "outputs": [
    {
     "name": "stdout",
     "output_type": "stream",
     "text": [
      "a or A: 4\n",
      "m or M: 2\n"
     ]
    }
   ],
   "source": [
    "f=open(\"story.txt\",\"w\")\n",
    "f.write(\"Updated information.\\nAs simplified by official websites\")\n",
    "f.close()\n",
    "def AMCount():\n",
    "    with open(\"story.txt\",\"r\") as f:\n",
    "        data=f.read()\n",
    "        counta=0\n",
    "        countm=0\n",
    "        for letter in data:\n",
    "            if letter==\"A\" or letter==\"a\":\n",
    "                counta+=1\n",
    "            elif letter==\"m\" or letter==\"M\":\n",
    "                countm+=1\n",
    "        f.close()\n",
    "        print(\"a or A:\",counta)\n",
    "        print(\"m or M:\",countm)\n",
    "AMCount()            \n",
    "                "
   ]
  },
  {
   "cell_type": "code",
   "execution_count": 24,
   "id": "a60594da-1108-4ea6-a7f7-b161f04ea30b",
   "metadata": {},
   "outputs": [
    {
     "name": "stdin",
     "output_type": "stream",
     "text": [
      "Enter book number:  20\n",
      "Enter book Name:  Raje\n",
      "Enter author:  prakash\n",
      "Enter price:  200\n",
      "Add more record (y/n)?  y\n",
      "Enter book number:  21\n",
      "Enter book Name:  chawa\n",
      "Enter author:  prakash\n",
      "Enter price:  350\n",
      "Add more record (y/n)?  n\n",
      "Enter author name to search:  prakash\n"
     ]
    },
    {
     "name": "stdout",
     "output_type": "stream",
     "text": [
      "No of books are 2\n"
     ]
    }
   ],
   "source": [
    "import pickle\n",
    "\n",
    "def createFile():\n",
    "    file = open(\"book.dat\",\"ab\")\n",
    "    BookNo = int(input(\"Enter book number: \"))\n",
    "    Book_Name = input(\"Enter book Name: \")\n",
    "    Author =input(\"Enter author: \")\n",
    "    Price = int(input(\"Enter price: \"))\n",
    "    record = [BookNo, Book_Name, Author, Price]\n",
    "    pickle.dump(record, file)\n",
    "    file.close()\n",
    "    \n",
    "def countRec(Author):\n",
    "    file = open(\"book.dat\",\"rb\")\n",
    "    count = 0\n",
    "    try:\n",
    "        while True:\n",
    "            record = pickle.load(file)\n",
    "            if record[2]==Author:\n",
    "                count+=1\n",
    "    except EOFError:\n",
    "        pass\n",
    "    return count\n",
    "    file.close()\n",
    "\n",
    "def testProgram():\n",
    "    while True:\n",
    "        createFile()\n",
    "        choice = input(\"Add more record (y/n)? \")\n",
    "        if choice in 'Nn':\n",
    "            break\n",
    "    Author = input('Enter author name to search: ')\n",
    "    n = countRec(Author)\n",
    "    print(\"No of books are\",n)\n",
    "\n",
    "testProgram()    \n",
    "    \n"
   ]
  },
  {
   "cell_type": "code",
   "execution_count": 58,
   "id": "aa669865-8460-4983-9047-91a5c7953d89",
   "metadata": {},
   "outputs": [
    {
     "name": "stdin",
     "output_type": "stream",
     "text": [
      "Enter admission number:  20\n",
      "Enter student Name:  tejas\n",
      "Enter percentage:  75\n"
     ]
    },
    {
     "name": "stdout",
     "output_type": "stream",
     "text": [
      "[20, 'fjnejir', 80]\n",
      "no of student having more than 75 are: 1\n"
     ]
    }
   ],
   "source": [
    "import pickle\n",
    "def createFile():\n",
    "    f = open(\"student.dat\",\"ab\")\n",
    "    admission_no = int(input(\"Enter admission number: \"))\n",
    "    name = input(\"Enter student Name: \")\n",
    "    percentage = int(input(\"Enter percentage: \"))\n",
    "    record = [admission_no,name,percentage]\n",
    "    pickle.dump(record, f)\n",
    "    f.close()\n",
    "def count_rec():\n",
    "    f=open(\"student.dat\",\"rb\")\n",
    "    cnt=0\n",
    "    try:\n",
    "        while True:\n",
    "            record=pickle.load(f)\n",
    "            if record[2]>75:\n",
    "                print(record)\n",
    "                cnt+=1\n",
    "    except EOFError:\n",
    "        pass\n",
    "    print(\"no of student having more than 75 are:\",cnt)\n",
    "    f.close()\n",
    "createFile()\n",
    "count_rec()"
   ]
  },
  {
   "cell_type": "code",
   "execution_count": 72,
   "id": "2d9f54da-1adc-4c3f-b4ef-3659df2f6113",
   "metadata": {},
   "outputs": [
    {
     "name": "stdin",
     "output_type": "stream",
     "text": [
      "Enter emp number:  20\n",
      "Enter employee Name:  tejas\n",
      "Enter salary:  60000\n",
      "add more record (y/n)? y\n",
      "Enter emp number:  21\n",
      "Enter employee Name:  sanket\n",
      "Enter salary:  30000\n",
      "add more record (y/n)? n\n"
     ]
    },
    {
     "name": "stdout",
     "output_type": "stream",
     "text": [
      "employee having more than salary more than 30000 are\n",
      "{'empcode': 20, 'name': 'tejas', 'salary': 60000}\n"
     ]
    }
   ],
   "source": [
    "def createFile():\n",
    "    f = open(\"employee.dat\",\"ab\")\n",
    "    emp={}\n",
    "    emp['empcode'] = int(input(\"Enter emp number: \"))\n",
    "    emp['name'] = input(\"Enter employee Name: \")\n",
    "    emp['salary'] = int(input(\"Enter salary: \"))\n",
    "    pickle.dump(emp, f)\n",
    "    f.close()\n",
    "def add_record():\n",
    "    f=open(\"employee.dat\",\"rb\")\n",
    "    try:\n",
    "        while True:\n",
    "            emp=pickle.load(f)\n",
    "            if emp['salary']>30000:\n",
    "                print(emp)\n",
    "    except EOFError:\n",
    "        pass\n",
    "    f.close()\n",
    "def test():\n",
    "    while True:\n",
    "        createFile()\n",
    "        choice=input(\"add more record (y/n)?\")\n",
    "        if choice in 'nN':\n",
    "            break\n",
    "    print(\"employee having more than salary more than 30000 are\")\n",
    "    add_record()\n",
    "test()\n",
    "     "
   ]
  },
  {
   "cell_type": "code",
   "execution_count": 76,
   "id": "b756c60b-fd0a-4685-b73b-f448686b7ddd",
   "metadata": {},
   "outputs": [
    {
     "name": "stdin",
     "output_type": "stream",
     "text": [
      "enter roll no: 1005\n",
      "enter student name: tejas\n",
      "enter class: sy\n",
      "enter fees: 50000\n"
     ]
    },
    {
     "name": "stdout",
     "output_type": "stream",
     "text": [
      "[1005, 'tejas', 'sy', 50000]\n"
     ]
    }
   ],
   "source": [
    "def createfile():\n",
    "    f=open(\"student.dat\",\"ab\")\n",
    "    rollno=int(input(\"enter roll no:\"))\n",
    "    name=input(\"enter student name:\")\n",
    "    Class=input(\"enter class:\")\n",
    "    fees=int(input(\"enter fees:\"))\n",
    "    record=[rollno,name,Class,fees]\n",
    "    pickle.dump(record,f)\n",
    "    f.close()\n",
    "def search():\n",
    "    f=open(\"student.dat\",\"rb\")\n",
    "    try:\n",
    "        while True:\n",
    "            record=pickle.load(f)\n",
    "            if record[0]==1005:\n",
    "                print(record)\n",
    "    except EOFError:\n",
    "        pass\n",
    "    f.close()\n",
    "createfile()\n",
    "search()\n",
    "            \n",
    "    \n",
    "    "
   ]
  },
  {
   "cell_type": "code",
   "execution_count": 83,
   "id": "929b7688-b32a-4a77-bf73-52104b080b62",
   "metadata": {},
   "outputs": [
    {
     "name": "stdin",
     "output_type": "stream",
     "text": [
      "enter roll no: 52\n",
      "enter student name: tejas\n",
      "enter class: sy\n",
      "enter fees: 50000\n"
     ]
    },
    {
     "ename": "IndexError",
     "evalue": "list index out of range",
     "output_type": "error",
     "traceback": [
      "\u001b[1;31m---------------------------------------------------------------------------\u001b[0m",
      "\u001b[1;31mIndexError\u001b[0m                                Traceback (most recent call last)",
      "Cell \u001b[1;32mIn[83], line 22\u001b[0m\n\u001b[0;32m     20\u001b[0m     f\u001b[38;5;241m.\u001b[39mclose()\n\u001b[0;32m     21\u001b[0m createfile()\n\u001b[1;32m---> 22\u001b[0m \u001b[43mtotal_fees\u001b[49m\u001b[43m(\u001b[49m\u001b[43m)\u001b[49m\n",
      "Cell \u001b[1;32mIn[83], line 16\u001b[0m, in \u001b[0;36mtotal_fees\u001b[1;34m()\u001b[0m\n\u001b[0;32m     14\u001b[0m     \u001b[38;5;28;01mwhile\u001b[39;00m \u001b[38;5;28;01mTrue\u001b[39;00m:\n\u001b[0;32m     15\u001b[0m         record\u001b[38;5;241m=\u001b[39mpickle\u001b[38;5;241m.\u001b[39mload(f)\n\u001b[1;32m---> 16\u001b[0m         total\u001b[38;5;241m+\u001b[39m\u001b[38;5;241m=\u001b[39m\u001b[43mrecord\u001b[49m\u001b[43m[\u001b[49m\u001b[38;5;241;43m3\u001b[39;49m\u001b[43m]\u001b[49m\n\u001b[0;32m     17\u001b[0m \u001b[38;5;28;01mexcept\u001b[39;00m \u001b[38;5;167;01mEOFError\u001b[39;00m:\n\u001b[0;32m     18\u001b[0m     \u001b[38;5;28;01mpass\u001b[39;00m\n",
      "\u001b[1;31mIndexError\u001b[0m: list index out of range"
     ]
    }
   ],
   "source": [
    "def createFile():\n",
    "    f = open(\"student.dat\",\"ab\")\n",
    "    rollno = int(input(\"Enter admission number: \"))\n",
    "    name = input(\"Enter student Name: \")\n",
    "    Class = input(\"Enter percentage: \")\n",
    "    fess=int(input(\"enter fees:\"))\n",
    "    record = [rollno,name,Class,fees]\n",
    "    pickle.dump(record, f)\n",
    "    f.close()\n",
    "def total_fees():\n",
    "    f=open(\"student.dat\",\"rb\")\n",
    "    try:\n",
    "        total=0\n",
    "        while True:\n",
    "            record=pickle.load(f)\n",
    "            total+=record[3]\n",
    "    except EOFError:\n",
    "        pass\n",
    "    print(\"total fees:\",total)\n",
    "    f.close()\n",
    "createfile()\n",
    "total_fees()"
   ]
  },
  {
   "cell_type": "code",
   "execution_count": null,
   "id": "db12b86d-a446-4165-bf0d-f64c5728d0d6",
   "metadata": {},
   "outputs": [],
   "source": []
  }
 ],
 "metadata": {
  "kernelspec": {
   "display_name": "Python 3 (ipykernel)",
   "language": "python",
   "name": "python3"
  },
  "language_info": {
   "codemirror_mode": {
    "name": "ipython",
    "version": 3
   },
   "file_extension": ".py",
   "mimetype": "text/x-python",
   "name": "python",
   "nbconvert_exporter": "python",
   "pygments_lexer": "ipython3",
   "version": "3.12.1"
  }
 },
 "nbformat": 4,
 "nbformat_minor": 5
}
