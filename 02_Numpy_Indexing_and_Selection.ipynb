{
  "cells": [
    {
      "cell_type": "markdown",
      "metadata": {
        "id": "view-in-github",
        "colab_type": "text"
      },
      "source": [
        "<a href=\"https://colab.research.google.com/github/padolekrushna/ML_exercise.pynb/blob/main/02_Numpy_Indexing_and_Selection.ipynb\" target=\"_parent\"><img src=\"https://colab.research.google.com/assets/colab-badge.svg\" alt=\"Open In Colab\"/></a>"
      ]
    },
    {
      "cell_type": "markdown",
      "metadata": {
        "id": "JNBxGYlpPD-B"
      },
      "source": [
        "# NumPy Indexing and Selection\n",
        "\n",
        "In this lecture we will discuss how to select elements or groups of elements from an array."
      ]
    },
    {
      "cell_type": "code",
      "execution_count": null,
      "metadata": {
        "id": "PqB5-I6ePD-H"
      },
      "outputs": [],
      "source": [
        "import numpy as np"
      ]
    },
    {
      "cell_type": "code",
      "execution_count": null,
      "metadata": {
        "id": "xOW5nDmEPD-R"
      },
      "outputs": [],
      "source": [
        "#Creating sample array\n",
        "arr = np.arange(0,11)"
      ]
    },
    {
      "cell_type": "code",
      "execution_count": null,
      "metadata": {
        "id": "hXUIuYovPD-W",
        "outputId": "026f22ae-a0d6-4b0e-ecaf-a5a35017abd2"
      },
      "outputs": [
        {
          "data": {
            "text/plain": [
              "array([ 0,  1,  2,  3,  4,  5,  6,  7,  8,  9, 10])"
            ]
          },
          "execution_count": 4,
          "metadata": {},
          "output_type": "execute_result"
        }
      ],
      "source": [
        "#Show\n",
        "arr"
      ]
    },
    {
      "cell_type": "markdown",
      "metadata": {
        "id": "OTyOTds-PD-g"
      },
      "source": [
        "## Bracket Indexing and Selection\n",
        "The simplest way to pick one or some elements of an array looks very similar to python lists:"
      ]
    },
    {
      "cell_type": "code",
      "execution_count": null,
      "metadata": {
        "id": "YwICs7XMPD-k",
        "outputId": "63a75481-8255-4135-dc09-918571513e64"
      },
      "outputs": [
        {
          "data": {
            "text/plain": [
              "8"
            ]
          },
          "execution_count": 5,
          "metadata": {},
          "output_type": "execute_result"
        }
      ],
      "source": [
        "#Get a value at an index\n",
        "arr[8]"
      ]
    },
    {
      "cell_type": "code",
      "execution_count": null,
      "metadata": {
        "id": "mgUg_8mhPD-q",
        "outputId": "b994c0d8-82e5-46c2-d399-73af2f7ab59d"
      },
      "outputs": [
        {
          "data": {
            "text/plain": [
              "array([1, 2, 3, 4])"
            ]
          },
          "execution_count": 6,
          "metadata": {},
          "output_type": "execute_result"
        }
      ],
      "source": [
        "#Get values in a range\n",
        "arr[1:5]"
      ]
    },
    {
      "cell_type": "code",
      "execution_count": null,
      "metadata": {
        "id": "2-7Q6j7bPD-v",
        "outputId": "7795a5ef-6984-41db-cefc-c0dea8b44d9f"
      },
      "outputs": [
        {
          "data": {
            "text/plain": [
              "array([0, 1, 2, 3, 4])"
            ]
          },
          "execution_count": 7,
          "metadata": {},
          "output_type": "execute_result"
        }
      ],
      "source": [
        "#Get values in a range\n",
        "arr[0:5]"
      ]
    },
    {
      "cell_type": "markdown",
      "metadata": {
        "id": "ccA7Kf8ZPD-1"
      },
      "source": [
        "## Broadcasting\n",
        "\n",
        "Numpy arrays differ from a normal Python list because of their ability to broadcast:"
      ]
    },
    {
      "cell_type": "code",
      "execution_count": null,
      "metadata": {
        "id": "e-lWLJNcPD-6",
        "outputId": "8e7d6ac0-87d0-493f-d1b8-d8556277a687"
      },
      "outputs": [
        {
          "data": {
            "text/plain": [
              "array([100, 100, 100, 100, 100,   5,   6,   7,   8,   9,  10])"
            ]
          },
          "execution_count": 8,
          "metadata": {},
          "output_type": "execute_result"
        }
      ],
      "source": [
        "#Setting a value with index range (Broadcasting)\n",
        "arr[0:5]=100\n",
        "\n",
        "#Show\n",
        "arr"
      ]
    },
    {
      "cell_type": "code",
      "execution_count": null,
      "metadata": {
        "id": "YAVzp1Y-PD-_",
        "outputId": "3fd320ce-45b5-4a0f-b8a6-3d3b28bc0a55"
      },
      "outputs": [
        {
          "data": {
            "text/plain": [
              "array([ 0,  1,  2,  3,  4,  5,  6,  7,  8,  9, 10])"
            ]
          },
          "execution_count": 9,
          "metadata": {},
          "output_type": "execute_result"
        }
      ],
      "source": [
        "# Reset array, we'll see why I had to reset in  a moment\n",
        "arr = np.arange(0,11)\n",
        "\n",
        "#Show\n",
        "arr"
      ]
    },
    {
      "cell_type": "code",
      "execution_count": null,
      "metadata": {
        "id": "ex2nSLG3PD_D",
        "outputId": "67986366-92af-4dbe-c10a-39141423d140"
      },
      "outputs": [
        {
          "data": {
            "text/plain": [
              "array([0, 1, 2, 3, 4, 5])"
            ]
          },
          "execution_count": 10,
          "metadata": {},
          "output_type": "execute_result"
        }
      ],
      "source": [
        "#Important notes on Slices\n",
        "slice_of_arr = arr[0:6]\n",
        "\n",
        "#Show slice\n",
        "slice_of_arr"
      ]
    },
    {
      "cell_type": "code",
      "execution_count": null,
      "metadata": {
        "id": "Qkjx9v5jPD_I",
        "outputId": "2a399428-054a-4fb6-e7c7-fd52a9e85a1a"
      },
      "outputs": [
        {
          "data": {
            "text/plain": [
              "array([99, 99, 99, 99, 99, 99])"
            ]
          },
          "execution_count": 11,
          "metadata": {},
          "output_type": "execute_result"
        }
      ],
      "source": [
        "#Change Slice\n",
        "slice_of_arr[:]=99\n",
        "\n",
        "#Show Slice again\n",
        "slice_of_arr"
      ]
    },
    {
      "cell_type": "markdown",
      "metadata": {
        "id": "iAYMdO81PD_M"
      },
      "source": [
        "Now note the changes also occur in our original array!"
      ]
    },
    {
      "cell_type": "code",
      "execution_count": null,
      "metadata": {
        "id": "xaUjePkiPD_O",
        "outputId": "a61aabb0-f440-4e4e-9bf5-d35c2ffc1d6b"
      },
      "outputs": [
        {
          "data": {
            "text/plain": [
              "array([99, 99, 99, 99, 99, 99,  6,  7,  8,  9, 10])"
            ]
          },
          "execution_count": 12,
          "metadata": {},
          "output_type": "execute_result"
        }
      ],
      "source": [
        "arr"
      ]
    },
    {
      "cell_type": "markdown",
      "metadata": {
        "id": "3yxicFYTPD_S"
      },
      "source": [
        "Data is not copied, it's a view of the original array! This avoids memory problems!"
      ]
    },
    {
      "cell_type": "code",
      "execution_count": null,
      "metadata": {
        "id": "lYkYq27hPD_U",
        "outputId": "330929b7-f7e2-4c1f-e0a9-4acd02b0600f"
      },
      "outputs": [
        {
          "data": {
            "text/plain": [
              "array([99, 99, 99, 99, 99, 99,  6,  7,  8,  9, 10])"
            ]
          },
          "execution_count": 13,
          "metadata": {},
          "output_type": "execute_result"
        }
      ],
      "source": [
        "#To get a copy, need to be explicit\n",
        "arr_copy = arr.copy()\n",
        "\n",
        "arr_copy"
      ]
    },
    {
      "cell_type": "markdown",
      "metadata": {
        "id": "CbwozFCFPD_X"
      },
      "source": [
        "## Indexing a 2D array (matrices)\n",
        "\n",
        "The general format is **arr_2d[row][col]** or **arr_2d[row,col]**. I recommend usually using the comma notation for clarity."
      ]
    },
    {
      "cell_type": "code",
      "execution_count": 2,
      "metadata": {
        "colab": {
          "base_uri": "https://localhost:8080/"
        },
        "id": "ZEFLgm0WPD_Z",
        "outputId": "3719567d-e02f-4b2d-bb19-aea192e44082"
      },
      "outputs": [
        {
          "output_type": "execute_result",
          "data": {
            "text/plain": [
              "array([[ 5, 10, 15],\n",
              "       [20, 25, 30],\n",
              "       [35, 40, 45]])"
            ]
          },
          "metadata": {},
          "execution_count": 2
        }
      ],
      "source": [
        "import numpy as np\n",
        "arr_2d = np.array(([5,10,15],[20,25,30],[35,40,45]))\n",
        "\n",
        "#Show\n",
        "arr_2d"
      ]
    },
    {
      "cell_type": "code",
      "execution_count": null,
      "metadata": {
        "id": "LrEzlMG6PD_c",
        "outputId": "e9a4c0dd-d14e-467d-8499-b865094ba126"
      },
      "outputs": [
        {
          "data": {
            "text/plain": [
              "array([20, 25, 30])"
            ]
          },
          "execution_count": 15,
          "metadata": {},
          "output_type": "execute_result"
        }
      ],
      "source": [
        "#Indexing row\n",
        "arr_2d[1]\n"
      ]
    },
    {
      "cell_type": "code",
      "execution_count": null,
      "metadata": {
        "id": "ovWV_KPXPD_e",
        "outputId": "ea528b3c-4c2e-4482-9257-c9c61f1ac9ef"
      },
      "outputs": [
        {
          "data": {
            "text/plain": [
              "20"
            ]
          },
          "execution_count": 16,
          "metadata": {},
          "output_type": "execute_result"
        }
      ],
      "source": [
        "# Format is arr_2d[row][col] or arr_2d[row,col]\n",
        "\n",
        "# Getting individual element value\n",
        "arr_2d[1][0]"
      ]
    },
    {
      "cell_type": "code",
      "execution_count": 3,
      "metadata": {
        "colab": {
          "base_uri": "https://localhost:8080/"
        },
        "id": "xD7fcsDtPD_g",
        "outputId": "40580528-fdd8-40cb-95a7-4b0bb576befe"
      },
      "outputs": [
        {
          "output_type": "execute_result",
          "data": {
            "text/plain": [
              "20"
            ]
          },
          "metadata": {},
          "execution_count": 3
        }
      ],
      "source": [
        "# Getting individual element value\n",
        "arr_2d[1,0]"
      ]
    },
    {
      "cell_type": "code",
      "execution_count": null,
      "metadata": {
        "id": "7hRDtbMYPD_k",
        "outputId": "5ab95eec-7354-476a-8842-c245a2ddd34d"
      },
      "outputs": [
        {
          "data": {
            "text/plain": [
              "array([[10, 15],\n",
              "       [25, 30]])"
            ]
          },
          "execution_count": 18,
          "metadata": {},
          "output_type": "execute_result"
        }
      ],
      "source": [
        "# 2D array slicing\n",
        "\n",
        "#Shape (2,2) from top right corner\n",
        "arr_2d[:2,1:]"
      ]
    },
    {
      "cell_type": "code",
      "execution_count": null,
      "metadata": {
        "id": "6qm-K7eBPD_l",
        "outputId": "111f9e32-17fe-49aa-aab3-15a50c1b6156"
      },
      "outputs": [
        {
          "data": {
            "text/plain": [
              "array([35, 40, 45])"
            ]
          },
          "execution_count": 19,
          "metadata": {},
          "output_type": "execute_result"
        }
      ],
      "source": [
        "#Shape bottom row\n",
        "arr_2d[2]"
      ]
    },
    {
      "cell_type": "code",
      "execution_count": null,
      "metadata": {
        "id": "LNgzs9jSPD_n",
        "outputId": "635e5908-73f5-4dc8-b9e9-d858dfb38bd1"
      },
      "outputs": [
        {
          "data": {
            "text/plain": [
              "array([35, 40, 45])"
            ]
          },
          "execution_count": 20,
          "metadata": {},
          "output_type": "execute_result"
        }
      ],
      "source": [
        "#Shape bottom row\n",
        "arr_2d[2,:]"
      ]
    },
    {
      "cell_type": "markdown",
      "metadata": {
        "id": "elSryJD3PD_o"
      },
      "source": [
        "### Fancy Indexing\n",
        "\n",
        "Fancy indexing allows you to select entire rows or columns out of order,to show this, let's quickly build out a numpy array:"
      ]
    },
    {
      "cell_type": "code",
      "execution_count": 6,
      "metadata": {
        "id": "0Iv5YNZMPD_q"
      },
      "outputs": [],
      "source": [
        "#Set up matrix\n",
        "arr2d = np.zeros((10,10))\n"
      ]
    },
    {
      "cell_type": "code",
      "execution_count": 10,
      "metadata": {
        "id": "lZu6ymZXPD_t",
        "outputId": "255380ff-766d-4623-f255-d90ed0d92cea",
        "colab": {
          "base_uri": "https://localhost:8080/"
        }
      },
      "outputs": [
        {
          "output_type": "execute_result",
          "data": {
            "text/plain": [
              "array([[0., 0., 0., 0., 0., 0., 0., 0., 0., 0.],\n",
              "       [1., 1., 1., 1., 1., 1., 1., 1., 1., 1.],\n",
              "       [2., 2., 2., 2., 2., 2., 2., 2., 2., 2.],\n",
              "       [3., 3., 3., 3., 3., 3., 3., 3., 3., 3.],\n",
              "       [4., 4., 4., 4., 4., 4., 4., 4., 4., 4.],\n",
              "       [5., 5., 5., 5., 5., 5., 5., 5., 5., 5.],\n",
              "       [6., 6., 6., 6., 6., 6., 6., 6., 6., 6.],\n",
              "       [7., 7., 7., 7., 7., 7., 7., 7., 7., 7.],\n",
              "       [8., 8., 8., 8., 8., 8., 8., 8., 8., 8.],\n",
              "       [9., 9., 9., 9., 9., 9., 9., 9., 9., 9.]])"
            ]
          },
          "metadata": {},
          "execution_count": 10
        }
      ],
      "source": [
        "#Set up array\n",
        "\n",
        "for i in range(arr_length):\n",
        "    arr2d[i] = i\n",
        "\n",
        "arr2d"
      ]
    },
    {
      "cell_type": "markdown",
      "metadata": {
        "id": "xsOsYM9WPD_v"
      },
      "source": [
        "Fancy indexing allows the following"
      ]
    },
    {
      "cell_type": "code",
      "execution_count": 9,
      "metadata": {
        "id": "xG7jFiOaPD_r"
      },
      "outputs": [],
      "source": [
        "#Length of array\n",
        "arr_length = arr2d.shape[1]"
      ]
    },
    {
      "cell_type": "code",
      "execution_count": null,
      "metadata": {
        "colab": {
          "base_uri": "https://localhost:8080/"
        },
        "id": "qR3l_l0EPD_w",
        "outputId": "57abda66-9f68-4e5a-93af-b27a4f07fa75"
      },
      "outputs": [
        {
          "data": {
            "text/plain": [
              "array([[0., 0., 0., 0., 0., 0., 0., 0., 0., 0.],\n",
              "       [0., 0., 0., 0., 0., 0., 0., 0., 0., 0.],\n",
              "       [0., 0., 0., 0., 0., 0., 0., 0., 0., 0.],\n",
              "       [0., 0., 0., 0., 0., 0., 0., 0., 0., 0.]])"
            ]
          },
          "execution_count": 8,
          "metadata": {},
          "output_type": "execute_result"
        }
      ],
      "source": [
        "arr2d[[2,4,6,8]]"
      ]
    },
    {
      "cell_type": "code",
      "execution_count": null,
      "metadata": {
        "id": "M7_gHa5dPD_x",
        "outputId": "0a65ff6e-3f66-4781-fb20-053f8bdf2d38"
      },
      "outputs": [
        {
          "data": {
            "text/plain": [
              "array([[ 6.,  6.,  6.,  6.,  6.,  6.,  6.,  6.,  6.,  6.],\n",
              "       [ 4.,  4.,  4.,  4.,  4.,  4.,  4.,  4.,  4.,  4.],\n",
              "       [ 2.,  2.,  2.,  2.,  2.,  2.,  2.,  2.,  2.,  2.],\n",
              "       [ 7.,  7.,  7.,  7.,  7.,  7.,  7.,  7.,  7.,  7.]])"
            ]
          },
          "execution_count": 25,
          "metadata": {},
          "output_type": "execute_result"
        }
      ],
      "source": [
        "#Allows in any order\n",
        "arr2d[[6,4,2,7]]"
      ]
    },
    {
      "cell_type": "markdown",
      "metadata": {
        "id": "8a1OWB3DPD_z"
      },
      "source": [
        "## More Indexing Help\n",
        "Indexing a 2d matrix can be a bit confusing at first, especially when you start to add in step size. Try google image searching NumPy indexing to fins useful images, like this one:"
      ]
    },
    {
      "cell_type": "markdown",
      "metadata": {
        "id": "gEmNNeBAPD_0"
      },
      "source": [
        "## Selection\n",
        "\n",
        "Let's briefly go over how to use brackets for selection based off of comparison operators."
      ]
    },
    {
      "cell_type": "code",
      "execution_count": null,
      "metadata": {
        "id": "pXvQcezQPD_1",
        "outputId": "09fb4897-a139-42be-aa56-f8ebdf2050aa"
      },
      "outputs": [
        {
          "data": {
            "text/plain": [
              "array([ 1,  2,  3,  4,  5,  6,  7,  8,  9, 10])"
            ]
          },
          "execution_count": 28,
          "metadata": {},
          "output_type": "execute_result"
        }
      ],
      "source": [
        "arr = np.arange(1,11)\n",
        "arr"
      ]
    },
    {
      "cell_type": "code",
      "execution_count": null,
      "metadata": {
        "id": "aWwJK0i7PD_4",
        "outputId": "3f858db6-591b-46cd-9a7c-d70897833692"
      },
      "outputs": [
        {
          "data": {
            "text/plain": [
              "array([False, False, False, False,  True,  True,  True,  True,  True,  True], dtype=bool)"
            ]
          },
          "execution_count": 30,
          "metadata": {},
          "output_type": "execute_result"
        }
      ],
      "source": [
        "arr > 4"
      ]
    },
    {
      "cell_type": "code",
      "execution_count": null,
      "metadata": {
        "collapsed": true,
        "id": "_d6NFmj-PD_5"
      },
      "outputs": [],
      "source": [
        "bool_arr = arr>4"
      ]
    },
    {
      "cell_type": "code",
      "execution_count": null,
      "metadata": {
        "id": "kWzvcIc-PD_7",
        "outputId": "e817ad98-157b-476a-a5bd-6e2c2a3ab32b"
      },
      "outputs": [
        {
          "data": {
            "text/plain": [
              "array([False, False, False, False,  True,  True,  True,  True,  True,  True], dtype=bool)"
            ]
          },
          "execution_count": 32,
          "metadata": {},
          "output_type": "execute_result"
        }
      ],
      "source": [
        "bool_arr"
      ]
    },
    {
      "cell_type": "code",
      "execution_count": null,
      "metadata": {
        "id": "0rwCaXAjPD_9",
        "outputId": "00ec9ca4-05e0-4f84-c89a-f447f4156180"
      },
      "outputs": [
        {
          "data": {
            "text/plain": [
              "array([ 5,  6,  7,  8,  9, 10])"
            ]
          },
          "execution_count": 33,
          "metadata": {},
          "output_type": "execute_result"
        }
      ],
      "source": [
        "arr[bool_arr]"
      ]
    },
    {
      "cell_type": "code",
      "execution_count": null,
      "metadata": {
        "id": "MHf2yLh0PD_-",
        "outputId": "f08ada51-40aa-4b9e-a6a2-d10d31ef4bda"
      },
      "outputs": [
        {
          "data": {
            "text/plain": [
              "array([ 3,  4,  5,  6,  7,  8,  9, 10])"
            ]
          },
          "execution_count": 34,
          "metadata": {},
          "output_type": "execute_result"
        }
      ],
      "source": [
        "arr[arr>2]"
      ]
    },
    {
      "cell_type": "code",
      "execution_count": null,
      "metadata": {
        "id": "P1-R4U90PD__",
        "outputId": "d11e102e-9841-428b-8ad0-207e7f7978ba"
      },
      "outputs": [
        {
          "data": {
            "text/plain": [
              "array([ 3,  4,  5,  6,  7,  8,  9, 10])"
            ]
          },
          "execution_count": 37,
          "metadata": {},
          "output_type": "execute_result"
        }
      ],
      "source": [
        "x = 2\n",
        "arr[arr>x]"
      ]
    },
    {
      "cell_type": "markdown",
      "metadata": {
        "id": "K-7-krLdPEAB"
      },
      "source": [
        "# Great Job!\n"
      ]
    }
  ],
  "metadata": {
    "colab": {
      "provenance": [],
      "include_colab_link": true
    },
    "kernelspec": {
      "display_name": "Python 3 (ipykernel)",
      "language": "python",
      "name": "python3"
    },
    "language_info": {
      "codemirror_mode": {
        "name": "ipython",
        "version": 3
      },
      "file_extension": ".py",
      "mimetype": "text/x-python",
      "name": "python",
      "nbconvert_exporter": "python",
      "pygments_lexer": "ipython3",
      "version": "3.10.9"
    }
  },
  "nbformat": 4,
  "nbformat_minor": 0
}