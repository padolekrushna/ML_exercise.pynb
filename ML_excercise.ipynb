{
  "nbformat": 4,
  "nbformat_minor": 0,
  "metadata": {
    "colab": {
      "provenance": []
    },
    "kernelspec": {
      "name": "python3",
      "display_name": "Python 3"
    },
    "language_info": {
      "name": "python"
    }
  },
  "cells": [
    {
      "cell_type": "code",
      "execution_count": 2,
      "metadata": {
        "id": "aqfzslpbt4i-"
      },
      "outputs": [],
      "source": [
        "import numpy as np"
      ]
    },
    {
      "cell_type": "code",
      "source": [
        "np.zeros(100)"
      ],
      "metadata": {
        "colab": {
          "base_uri": "https://localhost:8080/"
        },
        "id": "lTFdtCKdw_vj",
        "outputId": "bbb83eec-c6fa-491b-a99f-5c3e2346c307"
      },
      "execution_count": 5,
      "outputs": [
        {
          "output_type": "execute_result",
          "data": {
            "text/plain": [
              "array([0., 0., 0., 0., 0., 0., 0., 0., 0., 0., 0., 0., 0., 0., 0., 0., 0.,\n",
              "       0., 0., 0., 0., 0., 0., 0., 0., 0., 0., 0., 0., 0., 0., 0., 0., 0.,\n",
              "       0., 0., 0., 0., 0., 0., 0., 0., 0., 0., 0., 0., 0., 0., 0., 0., 0.,\n",
              "       0., 0., 0., 0., 0., 0., 0., 0., 0., 0., 0., 0., 0., 0., 0., 0., 0.,\n",
              "       0., 0., 0., 0., 0., 0., 0., 0., 0., 0., 0., 0., 0., 0., 0., 0., 0.,\n",
              "       0., 0., 0., 0., 0., 0., 0., 0., 0., 0., 0., 0., 0., 0., 0.])"
            ]
          },
          "metadata": {},
          "execution_count": 5
        }
      ]
    },
    {
      "cell_type": "code",
      "source": [
        "np.zeros(5)+2"
      ],
      "metadata": {
        "colab": {
          "base_uri": "https://localhost:8080/"
        },
        "id": "5ji80zKFxVjJ",
        "outputId": "0747be8d-beb6-4929-a65f-8846ddd20ee7"
      },
      "execution_count": 6,
      "outputs": [
        {
          "output_type": "execute_result",
          "data": {
            "text/plain": [
              "array([2., 2., 2., 2., 2.])"
            ]
          },
          "metadata": {},
          "execution_count": 6
        }
      ]
    },
    {
      "cell_type": "code",
      "source": [
        "np.zeros(5)*2"
      ],
      "metadata": {
        "colab": {
          "base_uri": "https://localhost:8080/"
        },
        "id": "6nDJdKC_xjon",
        "outputId": "70416dd0-69bc-466a-9a35-a289173d5e91"
      },
      "execution_count": 7,
      "outputs": [
        {
          "output_type": "execute_result",
          "data": {
            "text/plain": [
              "array([0., 0., 0., 0., 0.])"
            ]
          },
          "metadata": {},
          "execution_count": 7
        }
      ]
    },
    {
      "cell_type": "code",
      "source": [
        "np.arange(10,50)"
      ],
      "metadata": {
        "colab": {
          "base_uri": "https://localhost:8080/"
        },
        "id": "hB2qII-Vxpvi",
        "outputId": "7af2702b-39d9-4ff7-ba0f-d8230b0ea3b7"
      },
      "execution_count": 11,
      "outputs": [
        {
          "output_type": "execute_result",
          "data": {
            "text/plain": [
              "array([10, 11, 12, 13, 14, 15, 16, 17, 18, 19, 20, 21, 22, 23, 24, 25, 26,\n",
              "       27, 28, 29, 30, 31, 32, 33, 34, 35, 36, 37, 38, 39, 40, 41, 42, 43,\n",
              "       44, 45, 46, 47, 48, 49])"
            ]
          },
          "metadata": {},
          "execution_count": 11
        }
      ]
    },
    {
      "cell_type": "code",
      "source": [
        "np.arange(0,9).reshape(3,3)"
      ],
      "metadata": {
        "colab": {
          "base_uri": "https://localhost:8080/"
        },
        "id": "5u_DueLFyIF-",
        "outputId": "0c05c946-93b3-4f39-d2c5-b20a78198f33"
      },
      "execution_count": 12,
      "outputs": [
        {
          "output_type": "execute_result",
          "data": {
            "text/plain": [
              "array([[0, 1, 2],\n",
              "       [3, 4, 5],\n",
              "       [6, 7, 8]])"
            ]
          },
          "metadata": {},
          "execution_count": 12
        }
      ]
    },
    {
      "cell_type": "code",
      "source": [
        "np.eye(3)"
      ],
      "metadata": {
        "colab": {
          "base_uri": "https://localhost:8080/"
        },
        "id": "_Mc4wM_uydLt",
        "outputId": "852e8b8f-d64b-4e59-d068-3bd67bac8381"
      },
      "execution_count": 14,
      "outputs": [
        {
          "output_type": "execute_result",
          "data": {
            "text/plain": [
              "array([[1., 0., 0.],\n",
              "       [0., 1., 0.],\n",
              "       [0., 0., 1.]])"
            ]
          },
          "metadata": {},
          "execution_count": 14
        }
      ]
    },
    {
      "cell_type": "markdown",
      "source": [
        "identity matrix"
      ],
      "metadata": {
        "id": "ymiHZ3ONzOAL"
      }
    },
    {
      "cell_type": "code",
      "source": [
        "np.identity(3)"
      ],
      "metadata": {
        "colab": {
          "base_uri": "https://localhost:8080/"
        },
        "id": "vaTHJJody2U2",
        "outputId": "66e3b3b3-84fc-4a45-d851-04c4dc6af4b0"
      },
      "execution_count": 15,
      "outputs": [
        {
          "output_type": "execute_result",
          "data": {
            "text/plain": [
              "array([[1., 0., 0.],\n",
              "       [0., 1., 0.],\n",
              "       [0., 0., 1.]])"
            ]
          },
          "metadata": {},
          "execution_count": 15
        }
      ]
    },
    {
      "cell_type": "markdown",
      "source": [
        "### random no 0 & 1"
      ],
      "metadata": {
        "id": "bqtPO3C-zihy"
      }
    },
    {
      "cell_type": "code",
      "source": [
        "np.random.rand(10)"
      ],
      "metadata": {
        "colab": {
          "base_uri": "https://localhost:8080/"
        },
        "id": "uYbMJN7pzCu1",
        "outputId": "fcdf46b7-b15f-4ec1-ce33-6225cf7e949c"
      },
      "execution_count": 16,
      "outputs": [
        {
          "output_type": "execute_result",
          "data": {
            "text/plain": [
              "array([0.80374451, 0.55848011, 0.53553634, 0.20839837, 0.31903421,\n",
              "       0.74918543, 0.88659346, 0.69289538, 0.42689717, 0.893785  ])"
            ]
          },
          "metadata": {},
          "execution_count": 16
        }
      ]
    },
    {
      "cell_type": "code",
      "source": [
        "np.random.rand()"
      ],
      "metadata": {
        "colab": {
          "base_uri": "https://localhost:8080/"
        },
        "id": "RnUUUkIQ0QM5",
        "outputId": "f87e821c-4363-42d2-9914-1d526e6175d4"
      },
      "execution_count": 17,
      "outputs": [
        {
          "output_type": "execute_result",
          "data": {
            "text/plain": [
              "0.6332754045658485"
            ]
          },
          "metadata": {},
          "execution_count": 17
        }
      ]
    },
    {
      "cell_type": "markdown",
      "source": [
        "[link text](https://)"
      ],
      "metadata": {
        "id": "MxdTLr2P0z3w"
      }
    },
    {
      "cell_type": "markdown",
      "source": [
        "standard normal distributation"
      ],
      "metadata": {
        "id": "xzpSI-tz04P_"
      }
    },
    {
      "cell_type": "code",
      "source": [
        "np.random.randn(25)"
      ],
      "metadata": {
        "colab": {
          "base_uri": "https://localhost:8080/"
        },
        "id": "XhoNAcIE0Z_o",
        "outputId": "3cfe4bc1-7253-4285-bbc8-ae2ec006ebb5"
      },
      "execution_count": 20,
      "outputs": [
        {
          "output_type": "execute_result",
          "data": {
            "text/plain": [
              "array([ 0.87411465,  1.98111445,  1.10702374, -0.56866086,  0.90374132,\n",
              "        1.39685804,  2.19541561, -0.86359761, -1.67747499,  0.84806067,\n",
              "       -1.88306932,  0.23948641,  1.2099331 ,  0.95423523,  0.81298052,\n",
              "        0.40050291, -0.10768368, -1.18482693, -0.43766382, -1.6675716 ,\n",
              "       -0.02559974,  0.09235967,  0.81456796, -1.41206467, -0.39551412])"
            ]
          },
          "metadata": {},
          "execution_count": 20
        }
      ]
    },
    {
      "cell_type": "code",
      "source": [
        "np.random.rand(25)"
      ],
      "metadata": {
        "colab": {
          "base_uri": "https://localhost:8080/"
        },
        "id": "Jjbn2Xm71hCx",
        "outputId": "6b9829c1-ea61-4772-d513-074307b3576a"
      },
      "execution_count": 21,
      "outputs": [
        {
          "output_type": "execute_result",
          "data": {
            "text/plain": [
              "array([0.45434938, 0.93531788, 0.66839814, 0.47079086, 0.67733899,\n",
              "       0.38701857, 0.69008968, 0.20570542, 0.90394069, 0.12749455,\n",
              "       0.79374134, 0.52767229, 0.17680637, 0.3906094 , 0.28828409,\n",
              "       0.00677977, 0.96733469, 0.71872151, 0.82265187, 0.87432802,\n",
              "       0.82982936, 0.69632072, 0.68736017, 0.89607708, 0.13936463])"
            ]
          },
          "metadata": {},
          "execution_count": 21
        }
      ]
    },
    {
      "cell_type": "code",
      "source": [
        "np.random.randn(100)"
      ],
      "metadata": {
        "colab": {
          "base_uri": "https://localhost:8080/"
        },
        "id": "8K5HymWr1okY",
        "outputId": "fc2b9042-30b6-4f2e-92e9-246ca2db1e97"
      },
      "execution_count": 22,
      "outputs": [
        {
          "output_type": "execute_result",
          "data": {
            "text/plain": [
              "array([-1.93974364,  0.15469255,  0.37561802, -0.19778597,  2.2075807 ,\n",
              "        0.11386872, -1.33557846, -0.31556188, -0.90418641, -0.71906056,\n",
              "       -0.14155706, -0.13849033, -0.12675151, -0.87462479, -0.83262999,\n",
              "        0.40943511, -0.02320051,  0.32542418,  0.23653713,  0.13064028,\n",
              "       -2.21931749, -1.39121258,  0.43004369, -0.69154005,  1.09687151,\n",
              "       -0.64603637,  1.38949853, -0.12801314, -0.83586765,  1.62302961,\n",
              "       -0.23547735, -0.81955767, -0.41691905, -0.43749128, -0.81780758,\n",
              "       -0.64169716,  1.1727121 , -1.11808942, -0.49461609,  1.71148099,\n",
              "        0.09150445,  1.1234165 ,  0.1968634 , -0.20475112,  1.6342317 ,\n",
              "        0.21013285, -1.01194315, -0.86130851, -0.62983723, -1.80505007,\n",
              "       -0.5958997 , -1.09166522,  0.34435268,  1.20053573, -0.52808715,\n",
              "       -1.08540315,  0.20516227,  0.8392807 , -1.52741313, -1.14464165,\n",
              "        0.36832577,  0.33090662, -0.65006063, -2.17734867,  1.0441359 ,\n",
              "        1.9350328 ,  0.23877019,  0.96558319, -0.93049564,  0.54350987,\n",
              "       -0.02979192, -0.00730305,  0.10765431, -0.17667921, -0.75191722,\n",
              "       -0.04553675,  1.87742603,  0.4366768 ,  0.09590956, -0.83549247,\n",
              "       -1.19040295,  0.22400366,  0.40765043,  0.92074193,  0.71723081,\n",
              "        0.34313336,  1.34759803,  0.99402369,  1.54883324,  0.33637517,\n",
              "        0.80752063,  0.49178226, -0.22978376, -1.11261506,  1.58380468,\n",
              "        1.3401272 ,  0.61722306, -0.7038467 ,  0.63661309, -0.82560614])"
            ]
          },
          "metadata": {},
          "execution_count": 22
        }
      ]
    },
    {
      "cell_type": "code",
      "source": [
        "np.arange(0.01,1.01,0.01).reshape(10,10)"
      ],
      "metadata": {
        "colab": {
          "base_uri": "https://localhost:8080/"
        },
        "id": "UKiRp_0B1zmz",
        "outputId": "275d654a-1986-40aa-c976-6bf9a6be8f09"
      },
      "execution_count": 33,
      "outputs": [
        {
          "output_type": "execute_result",
          "data": {
            "text/plain": [
              "array([[0.01, 0.02, 0.03, 0.04, 0.05, 0.06, 0.07, 0.08, 0.09, 0.1 ],\n",
              "       [0.11, 0.12, 0.13, 0.14, 0.15, 0.16, 0.17, 0.18, 0.19, 0.2 ],\n",
              "       [0.21, 0.22, 0.23, 0.24, 0.25, 0.26, 0.27, 0.28, 0.29, 0.3 ],\n",
              "       [0.31, 0.32, 0.33, 0.34, 0.35, 0.36, 0.37, 0.38, 0.39, 0.4 ],\n",
              "       [0.41, 0.42, 0.43, 0.44, 0.45, 0.46, 0.47, 0.48, 0.49, 0.5 ],\n",
              "       [0.51, 0.52, 0.53, 0.54, 0.55, 0.56, 0.57, 0.58, 0.59, 0.6 ],\n",
              "       [0.61, 0.62, 0.63, 0.64, 0.65, 0.66, 0.67, 0.68, 0.69, 0.7 ],\n",
              "       [0.71, 0.72, 0.73, 0.74, 0.75, 0.76, 0.77, 0.78, 0.79, 0.8 ],\n",
              "       [0.81, 0.82, 0.83, 0.84, 0.85, 0.86, 0.87, 0.88, 0.89, 0.9 ],\n",
              "       [0.91, 0.92, 0.93, 0.94, 0.95, 0.96, 0.97, 0.98, 0.99, 1.  ]])"
            ]
          },
          "metadata": {},
          "execution_count": 33
        }
      ]
    },
    {
      "cell_type": "code",
      "source": [
        "np.linspace(1,100,100).reshape(10,10)/100"
      ],
      "metadata": {
        "colab": {
          "base_uri": "https://localhost:8080/"
        },
        "id": "cqQ3hXQO2KIF",
        "outputId": "4b1effae-dac5-4a58-824e-1f0760d2ef48"
      },
      "execution_count": 35,
      "outputs": [
        {
          "output_type": "execute_result",
          "data": {
            "text/plain": [
              "array([[0.01, 0.02, 0.03, 0.04, 0.05, 0.06, 0.07, 0.08, 0.09, 0.1 ],\n",
              "       [0.11, 0.12, 0.13, 0.14, 0.15, 0.16, 0.17, 0.18, 0.19, 0.2 ],\n",
              "       [0.21, 0.22, 0.23, 0.24, 0.25, 0.26, 0.27, 0.28, 0.29, 0.3 ],\n",
              "       [0.31, 0.32, 0.33, 0.34, 0.35, 0.36, 0.37, 0.38, 0.39, 0.4 ],\n",
              "       [0.41, 0.42, 0.43, 0.44, 0.45, 0.46, 0.47, 0.48, 0.49, 0.5 ],\n",
              "       [0.51, 0.52, 0.53, 0.54, 0.55, 0.56, 0.57, 0.58, 0.59, 0.6 ],\n",
              "       [0.61, 0.62, 0.63, 0.64, 0.65, 0.66, 0.67, 0.68, 0.69, 0.7 ],\n",
              "       [0.71, 0.72, 0.73, 0.74, 0.75, 0.76, 0.77, 0.78, 0.79, 0.8 ],\n",
              "       [0.81, 0.82, 0.83, 0.84, 0.85, 0.86, 0.87, 0.88, 0.89, 0.9 ],\n",
              "       [0.91, 0.92, 0.93, 0.94, 0.95, 0.96, 0.97, 0.98, 0.99, 1.  ]])"
            ]
          },
          "metadata": {},
          "execution_count": 35
        }
      ]
    },
    {
      "cell_type": "code",
      "source": [],
      "metadata": {
        "id": "kA4WmaaK3Pd2"
      },
      "execution_count": null,
      "outputs": []
    },
    {
      "cell_type": "markdown",
      "source": [
        "create an array of 20 linear spaced points betn 0 & 1"
      ],
      "metadata": {
        "id": "dIn8kSiz3uj1"
      }
    },
    {
      "cell_type": "code",
      "source": [
        "arr=np.arange(1,26).reshape(5,5)\n",
        "arr"
      ],
      "metadata": {
        "colab": {
          "base_uri": "https://localhost:8080/"
        },
        "id": "xEhrR6lg371G",
        "outputId": "f1df6fb6-fafa-499e-92e1-b2a40e97a147"
      },
      "execution_count": 39,
      "outputs": [
        {
          "output_type": "execute_result",
          "data": {
            "text/plain": [
              "array([[ 1,  2,  3,  4,  5],\n",
              "       [ 6,  7,  8,  9, 10],\n",
              "       [11, 12, 13, 14, 15],\n",
              "       [16, 17, 18, 19, 20],\n",
              "       [21, 22, 23, 24, 25]])"
            ]
          },
          "metadata": {},
          "execution_count": 39
        }
      ]
    },
    {
      "cell_type": "code",
      "source": [
        "arr.sum()"
      ],
      "metadata": {
        "colab": {
          "base_uri": "https://localhost:8080/"
        },
        "id": "1Pp-wSmc4Elx",
        "outputId": "7c49526c-6e14-4c96-965c-07cba5b69307"
      },
      "execution_count": 40,
      "outputs": [
        {
          "output_type": "execute_result",
          "data": {
            "text/plain": [
              "325"
            ]
          },
          "metadata": {},
          "execution_count": 40
        }
      ]
    },
    {
      "cell_type": "code",
      "source": [
        "np.sum(arr,axis=1)"
      ],
      "metadata": {
        "colab": {
          "base_uri": "https://localhost:8080/"
        },
        "id": "LCCraFvb4nmz",
        "outputId": "ae85cb3e-6769-49c0-f523-a4d1f310983d"
      },
      "execution_count": 49,
      "outputs": [
        {
          "output_type": "execute_result",
          "data": {
            "text/plain": [
              "array([ 15,  40,  65,  90, 115])"
            ]
          },
          "metadata": {},
          "execution_count": 49
        }
      ]
    },
    {
      "cell_type": "code",
      "source": [],
      "metadata": {
        "id": "dHeIEk9l5RmB"
      },
      "execution_count": null,
      "outputs": []
    }
  ]
}