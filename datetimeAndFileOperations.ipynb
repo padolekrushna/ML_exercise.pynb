{
  "cells": [
    {
      "cell_type": "markdown",
      "metadata": {
        "id": "view-in-github",
        "colab_type": "text"
      },
      "source": [
        "<a href=\"https://colab.research.google.com/github/padolekrushna/ML_exercise.pynb/blob/main/datetimeAndFileOperations.ipynb\" target=\"_parent\"><img src=\"https://colab.research.google.com/assets/colab-badge.svg\" alt=\"Open In Colab\"/></a>"
      ]
    },
    {
      "cell_type": "markdown",
      "metadata": {
        "id": "9EKNtxW6_s2U"
      },
      "source": [
        "Python has a module named datetime to work with dates and times."
      ]
    },
    {
      "cell_type": "code",
      "execution_count": null,
      "metadata": {
        "id": "S5v2DfKG_s2W"
      },
      "outputs": [],
      "source": []
    },
    {
      "cell_type": "code",
      "execution_count": null,
      "metadata": {
        "id": "bdcpD565_s2Z",
        "outputId": "f1e1a1ee-2499-4e46-fb60-ef9dfef90f33"
      },
      "outputs": [
        {
          "name": "stdout",
          "output_type": "stream",
          "text": [
            "2019-08-08 06:57:56.367660\n"
          ]
        }
      ],
      "source": [
        "import datetime\n",
        "datetime_object = datetime.datetime.now()\n",
        "print(datetime_object)"
      ]
    },
    {
      "cell_type": "markdown",
      "metadata": {
        "id": "ld_YVmjd_s2c"
      },
      "source": [
        "Explanation :\n",
        "Here, we have imported datetime module using import datetime statement.\n",
        "One of the classes defined in the datetime module is datetime class.\n",
        "We then used now() method to create a datetime object containing the current local date and time."
      ]
    },
    {
      "cell_type": "markdown",
      "metadata": {
        "id": "yDas0ty3_s2d"
      },
      "source": [
        "Get Current Date"
      ]
    },
    {
      "cell_type": "code",
      "execution_count": null,
      "metadata": {
        "id": "FxPdy6fr_s2f",
        "outputId": "31f4f1e5-be9e-4d4a-a62d-cb8ca715d39c"
      },
      "outputs": [
        {
          "name": "stdout",
          "output_type": "stream",
          "text": [
            "2019-08-08\n"
          ]
        }
      ],
      "source": [
        "import datetime\n",
        "date_object = datetime.date.today()\n",
        "print(date_object)"
      ]
    },
    {
      "cell_type": "markdown",
      "metadata": {
        "id": "jC3F-DvH_s2g"
      },
      "source": [
        "Explanation : In this program, we have used today() method defined in the date class to get\n",
        "    a date object containing the current local date."
      ]
    },
    {
      "cell_type": "markdown",
      "metadata": {
        "id": "zUc6c4xC_s2h"
      },
      "source": [
        "What's inside datetime?\n",
        "We can use dir() function to get a list containing all attributes of a module."
      ]
    },
    {
      "cell_type": "code",
      "execution_count": null,
      "metadata": {
        "id": "SaVJvPKu_s2i",
        "outputId": "fa600de5-38ec-41cd-de4a-9a29cfc8c230"
      },
      "outputs": [
        {
          "name": "stdout",
          "output_type": "stream",
          "text": [
            "['MAXYEAR', 'MINYEAR', '__builtins__', '__cached__', '__doc__', '__file__', '__loader__', '__name__', '__package__', '__spec__', 'date', 'datetime', 'datetime_CAPI', 'sys', 'time', 'timedelta', 'timezone', 'tzinfo']\n"
          ]
        }
      ],
      "source": [
        "import datetime\n",
        "print(dir(datetime))"
      ]
    },
    {
      "cell_type": "markdown",
      "metadata": {
        "id": "NMioISKr_s2j"
      },
      "source": [
        "Commonly used classes in the datetime module are:\n",
        "\n",
        "date Class\n",
        "time Class\n",
        "datetime Class\n",
        "timedelta Class"
      ]
    },
    {
      "cell_type": "markdown",
      "metadata": {
        "id": "j8knJWWJ_s2k"
      },
      "source": [
        "1. datetime.date Class\n",
        "\n",
        "You can instantiate date objects from the date class.\n",
        "A date object represents a date (year, month and day)."
      ]
    },
    {
      "cell_type": "code",
      "execution_count": null,
      "metadata": {
        "id": "mJ5OS5qr_s2l",
        "outputId": "80776e1a-1119-4699-ffa6-28c3e96f12ce"
      },
      "outputs": [
        {
          "name": "stdout",
          "output_type": "stream",
          "text": [
            "2019-04-15\n"
          ]
        }
      ],
      "source": [
        "# Date object to represent a date\n",
        "import datetime\n",
        "d = datetime.date(2019, 4, 15)\n",
        "print(d)"
      ]
    },
    {
      "cell_type": "code",
      "execution_count": null,
      "metadata": {
        "id": "815ih-7O_s2n",
        "outputId": "2d097d34-20c7-42ed-cb5b-9ac11b953ceb"
      },
      "outputs": [
        {
          "name": "stdout",
          "output_type": "stream",
          "text": [
            "Current date = 2019-08-08\n"
          ]
        }
      ],
      "source": [
        "# Get current date\n",
        "#You can create a date object containing the current date by using a classmethod named today()\n",
        "\n",
        "from datetime import date\n",
        "today = date.today()\n",
        "print(\"Current date =\", today)"
      ]
    },
    {
      "cell_type": "markdown",
      "metadata": {
        "id": "EFlTkEq7_s2o"
      },
      "source": [
        "Print today's year, month and day"
      ]
    },
    {
      "cell_type": "code",
      "execution_count": null,
      "metadata": {
        "id": "UT87Etdc_s2o",
        "outputId": "0e27c180-f708-4c87-a7c1-719be0ed3a15"
      },
      "outputs": [
        {
          "name": "stdout",
          "output_type": "stream",
          "text": [
            "Current year: 2019\n",
            "Current month: 8\n",
            "Current day: 8\n"
          ]
        }
      ],
      "source": [
        "#We can get year, month, day, day of the week etc. from the date object\n",
        "\n",
        "from datetime import date\n",
        "# date object of today's date\n",
        "today = date.today()\n",
        "print(\"Current year:\", today.year)\n",
        "print(\"Current month:\", today.month)\n",
        "print(\"Current day:\", today.day)"
      ]
    },
    {
      "cell_type": "markdown",
      "metadata": {
        "id": "yp9hX5dQ_s2p"
      },
      "source": [
        "Time object to represent time"
      ]
    },
    {
      "cell_type": "code",
      "execution_count": null,
      "metadata": {
        "id": "6EYbUui3_s2p",
        "outputId": "4a97cb67-0b18-4465-bbe4-70bd29d9c324"
      },
      "outputs": [
        {
          "name": "stdout",
          "output_type": "stream",
          "text": [
            "a = 00:00:00\n",
            "b = 11:34:56\n",
            "c = 11:34:56\n",
            "d = 11:34:56.234566\n"
          ]
        }
      ],
      "source": [
        "from datetime import time\n",
        "# time(hour = 0, minute = 0, second = 0)\n",
        "a = time()\n",
        "print(\"a =\", a)\n",
        "# time(hour, minute and second)\n",
        "b = time(11, 34, 56)\n",
        "print(\"b =\", b)\n",
        "# time(hour, minute and second)\n",
        "c = time(hour = 11, minute = 34, second = 56)\n",
        "print(\"c =\", c)\n",
        "# time(hour, minute, second, microsecond)\n",
        "d = time(11, 34, 56, 234566)\n",
        "print(\"d =\", d)"
      ]
    },
    {
      "cell_type": "markdown",
      "metadata": {
        "id": "FYzc8MXU_s2p"
      },
      "source": [
        "Print hour, minute, second and microsecond"
      ]
    },
    {
      "cell_type": "code",
      "execution_count": null,
      "metadata": {
        "id": "UoC3IqKt_s2q",
        "outputId": "45d6a3d7-6f9a-4a9e-95ac-a1ced9d6809d"
      },
      "outputs": [
        {
          "name": "stdout",
          "output_type": "stream",
          "text": [
            "hour = 11\n",
            "minute = 34\n",
            "second = 56\n",
            "microsecond = 0\n"
          ]
        }
      ],
      "source": [
        "# Once you create a time object, you can easily print its attributes such as hour, minute etc.\n",
        "\n",
        "from datetime import time\n",
        "a = time(11, 34, 56)\n",
        "print(\"hour =\", a.hour)\n",
        "print(\"minute =\", a.minute)\n",
        "print(\"second =\", a.second)\n",
        "print(\"microsecond =\", a.microsecond)"
      ]
    },
    {
      "cell_type": "markdown",
      "metadata": {
        "id": "PT0nS2QU_s2r"
      },
      "source": [
        "Python File I/O"
      ]
    },
    {
      "cell_type": "markdown",
      "metadata": {
        "id": "LBUj-3Lf_s2s"
      },
      "source": [
        "What is a file?\n",
        "File is a named location on disk to store related information.\n",
        "It is used to permanently store data in a non-volatile memory (e.g. hard disk).\n",
        "\n",
        "Since, random access memory (RAM) is volatile which loses its data when computer is turned off,\n",
        "we use files for future use of the data.\n",
        "\n",
        "When we want to read from or write to a file we need to open it first.\n",
        "When we are done, it needs to be closed, so that resources that are tied with the file are freed.\n",
        "\n",
        "Hence, in Python, a file operation takes place in the following order.\n",
        "\n",
        "Open a file\n",
        "Read or write (perform operation)\n",
        "Close the file"
      ]
    },
    {
      "cell_type": "code",
      "execution_count": null,
      "metadata": {
        "id": "TiHSZ1Cz_s2s"
      },
      "outputs": [],
      "source": [
        "# How to open a file?\n",
        "\n",
        "#Python has a built-in function open() to open a file.\n",
        "#This function returns a file object, also called a handle,\n",
        "#as it is used to read or modify the file accordingly.\n",
        "\n",
        "import os"
      ]
    },
    {
      "cell_type": "code",
      "execution_count": null,
      "metadata": {
        "id": "jWdMQFuL_s2s",
        "outputId": "05a8277c-cdd7-4a2f-ccd3-13fb72411d45"
      },
      "outputs": [
        {
          "data": {
            "text/plain": [
              "'C:\\\\Users\\\\USER\\\\Desktop\\\\01-Python-Crash-Course'"
            ]
          },
          "execution_count": 108,
          "metadata": {},
          "output_type": "execute_result"
        }
      ],
      "source": [
        "os.getcwd()"
      ]
    },
    {
      "cell_type": "code",
      "execution_count": null,
      "metadata": {
        "id": "2Nll7S9i_s2s"
      },
      "outputs": [],
      "source": [
        "f = open(\"test.txt\")"
      ]
    },
    {
      "cell_type": "code",
      "execution_count": null,
      "metadata": {
        "id": "bUFRakBa_s2t"
      },
      "outputs": [],
      "source": [
        "f = open(\"C:\\\\Users\\\\USER\\\\Desktop\\\\01-Python-Crash-Course\\\\test.txt\")  # specifying full path"
      ]
    },
    {
      "cell_type": "markdown",
      "metadata": {
        "id": "Xk_mg4jQ_s2u"
      },
      "source": [
        "We can specify the mode while opening a file. In mode, we specify whether we want to read 'r', write 'w' or append 'a' to the file.\n",
        "We also specify if we want to open the file in text mode or binary mode.\n",
        "\n",
        "The default is reading in text mode. In this mode, we get strings when reading from the file.\n",
        "\n",
        "On the other hand, binary mode returns bytes and this is the mode to be used when dealing\n",
        "with non-text files like image or exe files."
      ]
    },
    {
      "cell_type": "code",
      "execution_count": null,
      "metadata": {
        "id": "D3F1456N_s2u"
      },
      "outputs": [],
      "source": [
        "#Python File Modes\n",
        "#Mode\tDescription\n",
        "#'r'\tOpen a file for reading. (default)\n",
        "#'w'\tOpen a file for writing. Creates a new file if it does not exist or truncates the file if it exists.\n",
        "#'x'\tOpen a file for exclusive creation. If the file already exists, the operation fails.\n",
        "#'a'\tOpen for appending at the end of the file without truncating it. Creates a new file if it does not exist.\n",
        "#'t'\tOpen in text mode. (default)\n",
        "#'b'\tOpen in binary mode.\n",
        "#'+'\tOpen a file for updating (reading and writing)"
      ]
    },
    {
      "cell_type": "code",
      "execution_count": null,
      "metadata": {
        "id": "tAtzK5oc_s2v"
      },
      "outputs": [],
      "source": [
        "f = open(\"test.txt\")      # equivalent to 'r' or 'rt'\n",
        "f = open(\"test.txt\",'w')  # write in text mode\n",
        "#f = open(\"img.bmp\",'r+b') # read and write in binary mode"
      ]
    },
    {
      "cell_type": "markdown",
      "metadata": {
        "id": "LLRPudN5_s2w"
      },
      "source": [
        "Unlike other languages, the character 'a' does not imply the number 97 until\n",
        "it is encoded using ASCII (or other equivalent encodings).\n",
        "\n",
        "Moreover, the default encoding is platform dependent.\n",
        "In windows, it is 'cp1252' but 'utf-8' in Linux.\n",
        "\n",
        "So, we must not also rely on the default encoding or else our code will behave\n",
        "differently in different platforms.\n",
        "\n",
        "Hence, when working with files in text mode,\n",
        "it is highly recommended to specify the encoding type."
      ]
    },
    {
      "cell_type": "code",
      "execution_count": null,
      "metadata": {
        "id": "3WV1IL-__s2w",
        "outputId": "a00179aa-ed34-45e9-af19-a58679411515"
      },
      "outputs": [
        {
          "name": "stdout",
          "output_type": "stream",
          "text": [
            "<_io.TextIOWrapper name='test.txt' mode='r' encoding='utf-8'>\n"
          ]
        }
      ],
      "source": [
        "f = open(\"test.txt\",mode = 'r',encoding = 'utf-8')\n",
        "print(f)"
      ]
    },
    {
      "cell_type": "markdown",
      "metadata": {
        "id": "ezhI0bC1_s2x"
      },
      "source": [
        "How to close a file Using Python?"
      ]
    },
    {
      "cell_type": "markdown",
      "metadata": {
        "id": "vI9zn_IQ_s2x"
      },
      "source": [
        "When we are done with operations to the file, we need to properly close the file.\n",
        "\n",
        "Closing a file will free up the resources that were tied with the file and is done\n",
        "using Python close() method.\n",
        "\n",
        "Python has a garbage collector to clean up unreferenced objects but,\n",
        "we must not rely on it to close the file."
      ]
    },
    {
      "cell_type": "code",
      "execution_count": null,
      "metadata": {
        "id": "_WwvHCrh_s2x"
      },
      "outputs": [],
      "source": [
        "f = open(\"test.txt\",encoding = 'utf-8')\n",
        "# perform file operations\n",
        "f.close()"
      ]
    },
    {
      "cell_type": "markdown",
      "metadata": {
        "id": "o970u_V1_s2y"
      },
      "source": [
        "This method is not entirely safe.\n",
        "If an exception occurs when we are performing some operation with the file,\n",
        "the code exits without closing the file."
      ]
    },
    {
      "cell_type": "code",
      "execution_count": null,
      "metadata": {
        "id": "7PD56an7_s2y"
      },
      "outputs": [],
      "source": [
        "#A safer way is to use a try...finally block.\n",
        "\n",
        "try:\n",
        "   f = open(\"test.txt\",encoding = 'utf-8\n",
        "   # perform file oper')ations\n",
        "finally:\n",
        "   f.close()"
      ]
    },
    {
      "cell_type": "markdown",
      "metadata": {
        "id": "MWAIjrYD_s2y"
      },
      "source": [
        "This way, we are guaranteed that the file is properly closed even if an exception is raised, causing program flow to stop.\n",
        "\n",
        "The best way to do this is using the with statement. This ensures that the file is closed when the block inside with is exited.\n",
        "\n",
        "We don't need to explicitly call the close() method. It is done internally."
      ]
    },
    {
      "cell_type": "code",
      "execution_count": null,
      "metadata": {
        "id": "15NhvjX6_s2z",
        "outputId": "48260ffb-07d3-4ebc-dec8-53ea6f2dc6be"
      },
      "outputs": [
        {
          "ename": "SyntaxError",
          "evalue": "unexpected EOF while parsing (<ipython-input-7-8c33bbc5ef7f>, line 1)",
          "output_type": "error",
          "traceback": [
            "\u001b[1;36m  File \u001b[1;32m\"<ipython-input-7-8c33bbc5ef7f>\"\u001b[1;36m, line \u001b[1;32m1\u001b[0m\n\u001b[1;33m    with open(\"test.txt\",encoding = 'utf-8') as f:\u001b[0m\n\u001b[1;37m                                                  ^\u001b[0m\n\u001b[1;31mSyntaxError\u001b[0m\u001b[1;31m:\u001b[0m unexpected EOF while parsing\n"
          ]
        }
      ],
      "source": [
        "with open(\"test.txt\",encoding = 'utf-8') as f:"
      ]
    },
    {
      "cell_type": "markdown",
      "metadata": {
        "id": "2t3jdK8v_s2z"
      },
      "source": [
        "How to write to File Using Python?\n",
        "\n",
        "In order to write into a file in Python, we need to open it in write 'w', append 'a' or\n",
        "exclusive creation 'x' mode.\n",
        "\n",
        "We need to be careful with the 'w' mode as it will overwrite into the file if it already exists.\n",
        "All previous data are erased.\n",
        "\n",
        "Writing a string or sequence of bytes (for binary files) is done using write() method.\n",
        "This method returns the number of characters written to the file."
      ]
    },
    {
      "cell_type": "code",
      "execution_count": null,
      "metadata": {
        "id": "-JTf35Zv_s2z"
      },
      "outputs": [],
      "source": [
        "with open(\"test.txt\",'w',encoding = 'utf-8') as f:\n",
        "   f.write(\"my first file\\n\")\n",
        "   f.write(\"This file\\n\\n\")\n",
        "   f.write(\"contains three lines\\n\")\n",
        "\n",
        "\n",
        "#This program will create a new file named 'test.txt' if it does not exist.\n",
        "#If it does exist, it is overwritten.\n",
        "\n",
        "#We must include the newline characters ourselves to distinguish different lines."
      ]
    },
    {
      "cell_type": "markdown",
      "metadata": {
        "id": "vcOPo5zc_s20"
      },
      "source": [
        "How to read files in Python?\n",
        "\n",
        "To read a file in Python, we must open the file in reading mode.\n",
        "\n",
        "There are various methods available for this purpose.\n",
        "We can use the read(size) method to read in size number of data.\n",
        "If size parameter is not specified, it reads and returns up to the end of the file."
      ]
    },
    {
      "cell_type": "code",
      "execution_count": null,
      "metadata": {
        "id": "3wn8f7Xt_s21"
      },
      "outputs": [],
      "source": [
        " f = open(\"test.txt\",'r',encoding = 'utf-8')"
      ]
    },
    {
      "cell_type": "code",
      "execution_count": null,
      "metadata": {
        "id": "tx_ytLtV_s22",
        "outputId": "b4c6f69b-8731-4af6-9651-2cdcafc7ef24"
      },
      "outputs": [
        {
          "data": {
            "text/plain": [
              "''"
            ]
          },
          "execution_count": 11,
          "metadata": {},
          "output_type": "execute_result"
        }
      ],
      "source": [
        "f.read() # read the first 4 data"
      ]
    },
    {
      "cell_type": "code",
      "execution_count": null,
      "metadata": {
        "id": "BFKWW8ZU_s22",
        "outputId": "75aeef83-4ef5-43b8-f314-48e4aaeee2bc"
      },
      "outputs": [
        {
          "data": {
            "text/plain": [
              "'irst file\\n'"
            ]
          },
          "execution_count": 16,
          "metadata": {},
          "output_type": "execute_result"
        }
      ],
      "source": [
        "f.read(10)    # read the next 4 data"
      ]
    },
    {
      "cell_type": "code",
      "execution_count": null,
      "metadata": {
        "id": "plM6eRRE_s23",
        "outputId": "d61ba703-f8df-4dca-c737-09a7217ef7fa"
      },
      "outputs": [
        {
          "data": {
            "text/plain": [
              "' file\\nThis file\\n\\ncontains three lines\\n'"
            ]
          },
          "execution_count": 12,
          "metadata": {},
          "output_type": "execute_result"
        }
      ],
      "source": [
        "f.read()     # read in the rest till end of file"
      ]
    },
    {
      "cell_type": "code",
      "execution_count": null,
      "metadata": {
        "id": "T3bYZxf3_s24",
        "outputId": "e0785b28-9fec-42be-a0cc-e3a1381c1dc3"
      },
      "outputs": [
        {
          "data": {
            "text/plain": [
              "'rst file\\nThis file\\n\\ncontains three lines\\n'"
            ]
          },
          "execution_count": 20,
          "metadata": {},
          "output_type": "execute_result"
        }
      ],
      "source": [
        "f.read()  # further reading returns empty sting"
      ]
    },
    {
      "cell_type": "markdown",
      "metadata": {
        "id": "HjAwtGqE_s24"
      },
      "source": [
        "We can see that, the read() method returns newline as '\\n'.\n",
        "Once the end of file is reached, we get empty string on further reading."
      ]
    },
    {
      "cell_type": "code",
      "execution_count": null,
      "metadata": {
        "id": "vLpRnWg2_s25"
      },
      "outputs": [],
      "source": [
        "#We can change our current file cursor (position) using the seek() method.\n",
        "#Similarly, the tell() method returns our current position (in number of bytes)."
      ]
    },
    {
      "cell_type": "code",
      "execution_count": null,
      "metadata": {
        "id": "ClwnOoY-_s25",
        "outputId": "b5fab79e-e3a4-43e9-fe6b-cc47149aae3a"
      },
      "outputs": [
        {
          "data": {
            "text/plain": [
              "5"
            ]
          },
          "execution_count": 19,
          "metadata": {},
          "output_type": "execute_result"
        }
      ],
      "source": [
        "f.tell()    # get the current file position"
      ]
    },
    {
      "cell_type": "code",
      "execution_count": null,
      "metadata": {
        "id": "DUsbe6AU_s25",
        "outputId": "2a9ad94a-a772-4203-eef8-0fc9bb4c2d5d"
      },
      "outputs": [
        {
          "data": {
            "text/plain": [
              "5"
            ]
          },
          "execution_count": 18,
          "metadata": {},
          "output_type": "execute_result"
        }
      ],
      "source": [
        "f.seek(0)   # bring file cursor to initial position"
      ]
    },
    {
      "cell_type": "code",
      "execution_count": null,
      "metadata": {
        "id": "yO3_pctX_s26",
        "outputId": "616d75d6-03fd-4043-f759-dbb84e1c444d"
      },
      "outputs": [
        {
          "name": "stdout",
          "output_type": "stream",
          "text": [
            " first file\n",
            "This file\n",
            "\n",
            "contains three lines\n",
            "\n"
          ]
        }
      ],
      "source": [
        "print(f.read())  # read the entire file"
      ]
    },
    {
      "cell_type": "code",
      "execution_count": null,
      "metadata": {
        "id": "T4ogJFPT_s27",
        "outputId": "1510e72b-a332-4f16-9bb9-4f085bc4f171"
      },
      "outputs": [
        {
          "name": "stdout",
          "output_type": "stream",
          "text": [
            "my first file\n",
            "This file\n",
            "\n",
            "contains three lines\n"
          ]
        }
      ],
      "source": [
        "#We can read a file line-by-line using a for loop. This is both efficient and fast.\n",
        "\n",
        "for line in f:\n",
        "    print(line,end = '')"
      ]
    },
    {
      "cell_type": "code",
      "execution_count": null,
      "metadata": {
        "id": "c-xKhQ7Q_s28"
      },
      "outputs": [],
      "source": [
        "#The lines in file itself has a newline character '\\n'.\n",
        "\n",
        "#Moreover, the print() end parameter to avoid two newlines when printing."
      ]
    },
    {
      "cell_type": "markdown",
      "metadata": {
        "id": "09d-a5dq_s28"
      },
      "source": [
        "Alternately, we can use readline() method to read individual lines of a file.\n",
        "This method reads a file till the newline, including the newline character."
      ]
    },
    {
      "cell_type": "code",
      "execution_count": null,
      "metadata": {
        "id": "r0e8N5H5_s29",
        "outputId": "76a4d22e-d509-4da1-92b6-a5133731e31c"
      },
      "outputs": [
        {
          "data": {
            "text/plain": [
              "0"
            ]
          },
          "execution_count": 34,
          "metadata": {},
          "output_type": "execute_result"
        }
      ],
      "source": [
        "f.seek(0)"
      ]
    },
    {
      "cell_type": "code",
      "execution_count": null,
      "metadata": {
        "id": "UOMA1bWs_s29",
        "outputId": "99c4a119-80cb-459e-e355-9c5a75fc9a61"
      },
      "outputs": [
        {
          "data": {
            "text/plain": [
              "'my first file\\n'"
            ]
          },
          "execution_count": 23,
          "metadata": {},
          "output_type": "execute_result"
        }
      ],
      "source": [
        "f.readline()"
      ]
    },
    {
      "cell_type": "code",
      "execution_count": null,
      "metadata": {
        "id": "THmIFO10_s2-",
        "outputId": "6d7938a8-1c8d-4846-8e44-f10e8c3b31b4"
      },
      "outputs": [
        {
          "data": {
            "text/plain": [
              "'This file\\n'"
            ]
          },
          "execution_count": 24,
          "metadata": {},
          "output_type": "execute_result"
        }
      ],
      "source": [
        "f.readline()"
      ]
    },
    {
      "cell_type": "code",
      "execution_count": null,
      "metadata": {
        "id": "8-3ZI9XI_s2_",
        "outputId": "ea0772ee-78b1-4366-d896-4dde97673d72"
      },
      "outputs": [
        {
          "data": {
            "text/plain": [
              "'\\n'"
            ]
          },
          "execution_count": 25,
          "metadata": {},
          "output_type": "execute_result"
        }
      ],
      "source": [
        "f.readline()"
      ]
    },
    {
      "cell_type": "code",
      "execution_count": null,
      "metadata": {
        "id": "AMZfDllT_s2_",
        "outputId": "4b7f98c4-57a4-4904-b58b-c7cac0aa3f67"
      },
      "outputs": [
        {
          "data": {
            "text/plain": [
              "'contains three lines\\n'"
            ]
          },
          "execution_count": 26,
          "metadata": {},
          "output_type": "execute_result"
        }
      ],
      "source": [
        "f.readline()"
      ]
    },
    {
      "cell_type": "code",
      "execution_count": null,
      "metadata": {
        "id": "EBaVBRT2_s3A",
        "outputId": "a09d067e-3fa8-4172-87b5-f25f1f0ee33b"
      },
      "outputs": [
        {
          "data": {
            "text/plain": [
              "''"
            ]
          },
          "execution_count": 27,
          "metadata": {},
          "output_type": "execute_result"
        }
      ],
      "source": [
        "f.readline()"
      ]
    },
    {
      "cell_type": "markdown",
      "metadata": {
        "id": "aMiztEIU_s3A"
      },
      "source": [
        "Lastly, the readlines() method returns a list of remaining lines of the entire file.\n",
        "All these reading method return empty values when end of file (EOF) is reached."
      ]
    },
    {
      "cell_type": "code",
      "execution_count": null,
      "metadata": {
        "id": "-4Kcrfsf_s3B",
        "outputId": "0c10d279-3eb6-48eb-df28-56d511f19b07"
      },
      "outputs": [
        {
          "data": {
            "text/plain": [
              "['my first file\\n', 'This file\\n', '\\n', 'contains three lines\\n']"
            ]
          },
          "execution_count": 35,
          "metadata": {},
          "output_type": "execute_result"
        }
      ],
      "source": [
        "f.readlines()"
      ]
    }
  ],
  "metadata": {
    "kernelspec": {
      "display_name": "Python 3",
      "language": "python",
      "name": "python3"
    },
    "language_info": {
      "codemirror_mode": {
        "name": "ipython",
        "version": 3
      },
      "file_extension": ".py",
      "mimetype": "text/x-python",
      "name": "python",
      "nbconvert_exporter": "python",
      "pygments_lexer": "ipython3",
      "version": "3.7.3"
    },
    "colab": {
      "provenance": [],
      "include_colab_link": true
    }
  },
  "nbformat": 4,
  "nbformat_minor": 0
}