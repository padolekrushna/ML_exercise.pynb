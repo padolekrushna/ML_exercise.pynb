{
 "cells": [
  {
   "cell_type": "code",
   "execution_count": 27,
   "id": "52d87a08-4368-42de-b880-f6a1b9fb880c",
   "metadata": {},
   "outputs": [
    {
     "name": "stdout",
     "output_type": "stream",
     "text": [
      "True\n"
     ]
    }
   ],
   "source": [
    "'''#1 Write a Python program to check that a string contains only a certain set of characters (in this\n",
    "case a-z, A-Z and 0-9).'''\n",
    "\n",
    "import re\n",
    "def check(string):\n",
    "    res=re.compile(r'[a-zA-Z0-9]')\n",
    "    if re.match(res,string):\n",
    "        return True\n",
    "    else:\n",
    "        return False\n",
    "string='area123'\n",
    "result=check(string)\n",
    "print(result)"
   ]
  },
  {
   "cell_type": "code",
   "execution_count": 31,
   "id": "352b0205-4534-4868-b1e7-c50cad8a16a4",
   "metadata": {},
   "outputs": [
    {
     "name": "stdout",
     "output_type": "stream",
     "text": [
      "True\n"
     ]
    }
   ],
   "source": [
    "'''#2 Write a Python program that matches a string that has an a followed by zero or more b's '''\n",
    "def check(string):\n",
    "    res=re.compile('^a(b*)$')\n",
    "    if re.match(res,string):\n",
    "        return True\n",
    "    else:\n",
    "        return False\n",
    "string='abb'\n",
    "resul=check(string)\n",
    "print(resul)        "
   ]
  },
  {
   "cell_type": "code",
   "execution_count": 33,
   "id": "1f25f089-1e4f-44ba-91ac-1dab19211902",
   "metadata": {},
   "outputs": [
    {
     "name": "stdout",
     "output_type": "stream",
     "text": [
      "False\n"
     ]
    }
   ],
   "source": [
    "#3 Write a Python program that matches a string that has an a followed by one or more b's.\n",
    "def check(string):\n",
    "    res=re.compile(r'ab+?')\n",
    "    if re.match(res,string):\n",
    "        return True\n",
    "    else:\n",
    "        return False\n",
    "string='a'\n",
    "resul=check(string)\n",
    "print(resul) "
   ]
  },
  {
   "cell_type": "code",
   "execution_count": 57,
   "id": "05f7bca6-4ce8-4d3e-aca8-2113a907092f",
   "metadata": {},
   "outputs": [
    {
     "name": "stdout",
     "output_type": "stream",
     "text": [
      "True\n"
     ]
    }
   ],
   "source": [
    "#4  Write a Python program that matches a string that has an a followed by zero or one 'b'.\n",
    "def check(string):\n",
    "    res=re.compile('ab?')\n",
    "    if re.match(res,string):\n",
    "        return True\n",
    "    else:\n",
    "        return False\n",
    "string='ac'\n",
    "resul=check(string)\n",
    "print(resul) "
   ]
  },
  {
   "cell_type": "code",
   "execution_count": 59,
   "id": "f6231c43-fa10-4b23-914a-70a3c66752c2",
   "metadata": {},
   "outputs": [
    {
     "name": "stdout",
     "output_type": "stream",
     "text": [
      "True\n"
     ]
    }
   ],
   "source": [
    "#5. Write a Python program that matches a string that has an a followed by two to three 'b'.\n",
    "def check(string):\n",
    "    res=re.compile(r'bb|bbb')\n",
    "    if re.match(res,string):\n",
    "        return True\n",
    "    else:\n",
    "        return False\n",
    "string='bb'\n",
    "resul=check(string)\n",
    "print(resul) "
   ]
  },
  {
   "cell_type": "code",
   "execution_count": 63,
   "id": "ce409a3f-b2f4-4d58-9702-0db35b67699f",
   "metadata": {},
   "outputs": [
    {
     "name": "stdout",
     "output_type": "stream",
     "text": [
      "True\n"
     ]
    }
   ],
   "source": [
    "#6 Write a Python program to find sequences of lowercase letters joined by an underscore.\n",
    "def check(string):\n",
    "    res=re.compile(r'^[a-z]+_[a-z]+$')\n",
    "    if re.match(res,string):\n",
    "        return True\n",
    "    else:\n",
    "        return False\n",
    "string='duh_hih'\n",
    "resul=check(string)\n",
    "print(resul) "
   ]
  },
  {
   "cell_type": "code",
   "execution_count": 72,
   "id": "c878fa43-19ad-4c24-9f06-042541c7d2fc",
   "metadata": {},
   "outputs": [
    {
     "name": "stdout",
     "output_type": "stream",
     "text": [
      "True\n"
     ]
    }
   ],
   "source": [
    "#7  Write a Python program to find the sequences of one upper case letter followed by lower case letters.\n",
    "def check(string):\n",
    "    res=re.compile(r'[A-Z]+[a-z]+$')\n",
    "    if re.match(res,string):\n",
    "        return True\n",
    "    else:\n",
    "        return False\n",
    "string='Add '\n",
    "resul=check(string)\n",
    "print(resul) "
   ]
  },
  {
   "cell_type": "code",
   "execution_count": 80,
   "id": "417da9de-0666-42ad-aacf-b4a5eeb1d4e0",
   "metadata": {},
   "outputs": [
    {
     "name": "stdout",
     "output_type": "stream",
     "text": [
      "True\n"
     ]
    }
   ],
   "source": [
    "#8 Write a Python program that matches a string that has an 'a' followed by anything ending in 'b'.\n",
    "def check(string):\n",
    "    res=re.compile(r'a.*?b$')\n",
    "    if re.match(res,string):\n",
    "        return True\n",
    "    else:\n",
    "        return False\n",
    "string='amanb'\n",
    "resul=check(string)\n",
    "print(resul) "
   ]
  },
  {
   "cell_type": "code",
   "execution_count": 88,
   "id": "7d53d49f-3a91-4549-9cd0-391a22b27039",
   "metadata": {},
   "outputs": [
    {
     "name": "stdout",
     "output_type": "stream",
     "text": [
      "True\n"
     ]
    }
   ],
   "source": [
    "#9 Write a Python program that matches a word at the beginning of a string.\n",
    "def check(string):\n",
    "    res=re.compile(r'^\\w+')\n",
    "    if re.match(res,string):\n",
    "        return True\n",
    "    else:\n",
    "        return False\n",
    "string='Teja'\n",
    "resul=check(string)\n",
    "print(resul) "
   ]
  },
  {
   "cell_type": "code",
   "execution_count": 12,
   "id": "35cd4ade-a88b-4029-9f4e-681eff194a82",
   "metadata": {},
   "outputs": [
    {
     "name": "stdout",
     "output_type": "stream",
     "text": [
      "False\n"
     ]
    }
   ],
   "source": [
    "#10\n",
    "def check(string):\n",
    "    res=re.compile(r'a..z!$')\n",
    "    if re.match(res,string):\n",
    "        return True\n",
    "    else:\n",
    "        return False\n",
    "string='Tejaz!'\n",
    "resul=check(string)\n",
    "print(resul) "
   ]
  },
  {
   "cell_type": "code",
   "execution_count": 13,
   "id": "a448a56c-4d64-4753-a062-8a5acc68f62a",
   "metadata": {},
   "outputs": [
    {
     "name": "stdout",
     "output_type": "stream",
     "text": [
      "True\n"
     ]
    }
   ],
   "source": [
    "#11\n",
    "def check(string):\n",
    "    res=re.compile(r'\\b\\w*z\\w*\\b')\n",
    "    if re.match(res,string):\n",
    "        return True\n",
    "    else:\n",
    "        return False\n",
    "string='ezas'\n",
    "resul=check(string)\n",
    "print(resul) "
   ]
  },
  {
   "cell_type": "code",
   "execution_count": 2,
   "id": "c599dc98-d8aa-438a-9d74-cbbdcb0edfcd",
   "metadata": {},
   "outputs": [
    {
     "ename": "NameError",
     "evalue": "name 're' is not defined",
     "output_type": "error",
     "traceback": [
      "\u001b[1;31m---------------------------------------------------------------------------\u001b[0m",
      "\u001b[1;31mNameError\u001b[0m                                 Traceback (most recent call last)",
      "Cell \u001b[1;32mIn[2], line 9\u001b[0m\n\u001b[0;32m      7\u001b[0m         \u001b[38;5;28;01mreturn\u001b[39;00m \u001b[38;5;28;01mFalse\u001b[39;00m\n\u001b[0;32m      8\u001b[0m string\u001b[38;5;241m=\u001b[39m\u001b[38;5;124m'\u001b[39m\u001b[38;5;124mtezas\u001b[39m\u001b[38;5;124m'\u001b[39m\n\u001b[1;32m----> 9\u001b[0m resul\u001b[38;5;241m=\u001b[39mcheck(string)\n\u001b[0;32m     10\u001b[0m \u001b[38;5;28mprint\u001b[39m(resul)\n",
      "Cell \u001b[1;32mIn[2], line 3\u001b[0m, in \u001b[0;36mcheck\u001b[1;34m(string)\u001b[0m\n\u001b[0;32m      2\u001b[0m \u001b[38;5;28;01mdef\u001b[39;00m \u001b[38;5;21mcheck\u001b[39m(string):\n\u001b[1;32m----> 3\u001b[0m     res\u001b[38;5;241m=\u001b[39mre\u001b[38;5;241m.\u001b[39mcompile(\u001b[38;5;124mr\u001b[39m\u001b[38;5;124m'\u001b[39m\u001b[38;5;124m\\\u001b[39m\u001b[38;5;124mBz\u001b[39m\u001b[38;5;124m'\u001b[39m)                                                                                  \n\u001b[0;32m      4\u001b[0m     \u001b[38;5;28;01mif\u001b[39;00m re\u001b[38;5;241m.\u001b[39mmatch(res,string):\n\u001b[0;32m      5\u001b[0m         \u001b[38;5;28;01mreturn\u001b[39;00m \u001b[38;5;28;01mTrue\u001b[39;00m\n",
      "\u001b[1;31mNameError\u001b[0m: name 're' is not defined"
     ]
    }
   ],
   "source": [
    "#12\n",
    "def check(string):\n",
    "    res=re.compile(r'\\Bz')                                                                                  \n",
    "    if re.match(res,string):\n",
    "        return True\n",
    "    else:\n",
    "        return False\n",
    "string='tezas'\n",
    "resul=check(string)\n",
    "print(resul) "
   ]
  },
  {
   "cell_type": "code",
   "execution_count": 1,
   "id": "a27b209d-e421-44ea-aed1-2d8717b0c24b",
   "metadata": {},
   "outputs": [
    {
     "ename": "NameError",
     "evalue": "name 're' is not defined",
     "output_type": "error",
     "traceback": [
      "\u001b[1;31m---------------------------------------------------------------------------\u001b[0m",
      "\u001b[1;31mNameError\u001b[0m                                 Traceback (most recent call last)",
      "Cell \u001b[1;32mIn[1], line 9\u001b[0m\n\u001b[0;32m      7\u001b[0m         \u001b[38;5;28;01mreturn\u001b[39;00m \u001b[38;5;28;01mFalse\u001b[39;00m\n\u001b[0;32m      8\u001b[0m string\u001b[38;5;241m=\u001b[39m\u001b[38;5;124m'\u001b[39m\u001b[38;5;124mabc1254\u001b[39m\u001b[38;5;124m'\u001b[39m\n\u001b[1;32m----> 9\u001b[0m result\u001b[38;5;241m=\u001b[39mcheck(string)\n\u001b[0;32m     10\u001b[0m \u001b[38;5;28mprint\u001b[39m(result)\n",
      "Cell \u001b[1;32mIn[1], line 3\u001b[0m, in \u001b[0;36mcheck\u001b[1;34m(string)\u001b[0m\n\u001b[0;32m      2\u001b[0m \u001b[38;5;28;01mdef\u001b[39;00m \u001b[38;5;21mcheck\u001b[39m(string):\n\u001b[1;32m----> 3\u001b[0m     res\u001b[38;5;241m=\u001b[39mre\u001b[38;5;241m.\u001b[39mcompile(\u001b[38;5;124mr\u001b[39m\u001b[38;5;124m'\u001b[39m\u001b[38;5;124m[a..zA..Z_]\u001b[39m\u001b[38;5;124m'\u001b[39m)\n\u001b[0;32m      4\u001b[0m     \u001b[38;5;28;01mif\u001b[39;00m re\u001b[38;5;241m.\u001b[39mmatch(res,string):\n\u001b[0;32m      5\u001b[0m         \u001b[38;5;28;01mreturn\u001b[39;00m \u001b[38;5;28;01mTrue\u001b[39;00m\n",
      "\u001b[1;31mNameError\u001b[0m: name 're' is not defined"
     ]
    }
   ],
   "source": [
    "#Q13\n",
    "def check(string):\n",
    "    res=re.compile(r'[a..zA..Z_]')\n",
    "    if re.match(res,string):\n",
    "        return True\n",
    "    else:\n",
    "        return False\n",
    "string='abc1254'\n",
    "result=check(string)\n",
    "print(result)"
   ]
  },
  {
   "cell_type": "code",
   "execution_count": null,
   "id": "7c6c8143-f783-4b27-b4e0-1b2695317274",
   "metadata": {},
   "outputs": [],
   "source": []
  }
 ],
 "metadata": {
  "kernelspec": {
   "display_name": "Python 3 (ipykernel)",
   "language": "python",
   "name": "python3"
  },
  "language_info": {
   "codemirror_mode": {
    "name": "ipython",
    "version": 3
   },
   "file_extension": ".py",
   "mimetype": "text/x-python",
   "name": "python",
   "nbconvert_exporter": "python",
   "pygments_lexer": "ipython3",
   "version": "3.11.5"
  }
 },
 "nbformat": 4,
 "nbformat_minor": 5
}
