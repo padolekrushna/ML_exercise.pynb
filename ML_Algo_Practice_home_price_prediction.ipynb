{
  "cells": [
    {
      "cell_type": "markdown",
      "metadata": {
        "id": "view-in-github",
        "colab_type": "text"
      },
      "source": [
        "<a href=\"https://colab.research.google.com/github/padolekrushna/ML_exercise.pynb/blob/main/ML_Algo_Practice_home_price_prediction.ipynb\" target=\"_parent\"><img src=\"https://colab.research.google.com/assets/colab-badge.svg\" alt=\"Open In Colab\"/></a>"
      ]
    },
    {
      "cell_type": "markdown",
      "id": "1a4b87fc",
      "metadata": {
        "papermill": {
          "duration": 0.028568,
          "end_time": "2024-02-09T11:07:50.841330",
          "exception": false,
          "start_time": "2024-02-09T11:07:50.812762",
          "status": "completed"
        },
        "tags": [],
        "id": "1a4b87fc"
      },
      "source": [
        "# BANGALORE HOUSE PRICE PREDICTION MODEL"
      ]
    },
    {
      "cell_type": "markdown",
      "id": "62ff5e5e",
      "metadata": {
        "papermill": {
          "duration": 0.027208,
          "end_time": "2024-02-09T11:07:50.952330",
          "exception": false,
          "start_time": "2024-02-09T11:07:50.925122",
          "status": "completed"
        },
        "tags": [],
        "id": "62ff5e5e"
      },
      "source": [
        "### IMPORT LIBRARIES"
      ]
    },
    {
      "cell_type": "code",
      "execution_count": 2,
      "id": "8a4e6070",
      "metadata": {
        "execution": {
          "iopub.execute_input": "2024-02-09T11:07:51.009155Z",
          "iopub.status.busy": "2024-02-09T11:07:51.008690Z",
          "iopub.status.idle": "2024-02-09T11:07:51.963772Z",
          "shell.execute_reply": "2024-02-09T11:07:51.962853Z"
        },
        "papermill": {
          "duration": 0.986719,
          "end_time": "2024-02-09T11:07:51.966394",
          "exception": false,
          "start_time": "2024-02-09T11:07:50.979675",
          "status": "completed"
        },
        "tags": [],
        "id": "8a4e6070"
      },
      "outputs": [],
      "source": [
        "import pandas as pd\n",
        "import numpy as np\n",
        "from matplotlib import pyplot as plt\n",
        "%matplotlib inline\n",
        "import matplotlib\n",
        "matplotlib.rcParams[\"figure.figsize\"] = (20,10)"
      ]
    },
    {
      "cell_type": "markdown",
      "id": "d3e2337f",
      "metadata": {
        "papermill": {
          "duration": 0.027896,
          "end_time": "2024-02-09T11:07:52.022694",
          "exception": false,
          "start_time": "2024-02-09T11:07:51.994798",
          "status": "completed"
        },
        "tags": [],
        "id": "d3e2337f"
      },
      "source": [
        "### LOAD DATASET"
      ]
    },
    {
      "cell_type": "code",
      "execution_count": 33,
      "id": "1fd49944",
      "metadata": {
        "execution": {
          "iopub.execute_input": "2024-02-09T11:07:52.080792Z",
          "iopub.status.busy": "2024-02-09T11:07:52.079907Z",
          "iopub.status.idle": "2024-02-09T11:07:52.153180Z",
          "shell.execute_reply": "2024-02-09T11:07:52.152028Z"
        },
        "papermill": {
          "duration": 0.105571,
          "end_time": "2024-02-09T11:07:52.155801",
          "exception": false,
          "start_time": "2024-02-09T11:07:52.050230",
          "status": "completed"
        },
        "scrolled": true,
        "tags": [],
        "colab": {
          "base_uri": "https://localhost:8080/",
          "height": 339
        },
        "id": "1fd49944",
        "outputId": "82ae1d81-5f9e-4c14-aaaa-9fee5d566e3b"
      },
      "outputs": [
        {
          "output_type": "error",
          "ename": "EmptyDataError",
          "evalue": "No columns to parse from file",
          "traceback": [
            "\u001b[0;31m---------------------------------------------------------------------------\u001b[0m",
            "\u001b[0;31mEmptyDataError\u001b[0m                            Traceback (most recent call last)",
            "\u001b[0;32m<ipython-input-33-656244cffbaa>\u001b[0m in \u001b[0;36m<cell line: 1>\u001b[0;34m()\u001b[0m\n\u001b[0;32m----> 1\u001b[0;31m \u001b[0mdf1\u001b[0m \u001b[0;34m=\u001b[0m \u001b[0mpd\u001b[0m\u001b[0;34m.\u001b[0m\u001b[0mread_csv\u001b[0m\u001b[0;34m(\u001b[0m\u001b[0;34m\"/content/banglore_home_prices_model.pickle\"\u001b[0m\u001b[0;34m)\u001b[0m\u001b[0;34m\u001b[0m\u001b[0;34m\u001b[0m\u001b[0m\n\u001b[0m\u001b[1;32m      2\u001b[0m \u001b[0mdf1\u001b[0m\u001b[0;34m.\u001b[0m\u001b[0mhead\u001b[0m\u001b[0;34m(\u001b[0m\u001b[0;34m)\u001b[0m\u001b[0;34m\u001b[0m\u001b[0;34m\u001b[0m\u001b[0m\n",
            "\u001b[0;32m/usr/local/lib/python3.10/dist-packages/pandas/io/parsers/readers.py\u001b[0m in \u001b[0;36mread_csv\u001b[0;34m(filepath_or_buffer, sep, delimiter, header, names, index_col, usecols, dtype, engine, converters, true_values, false_values, skipinitialspace, skiprows, skipfooter, nrows, na_values, keep_default_na, na_filter, verbose, skip_blank_lines, parse_dates, infer_datetime_format, keep_date_col, date_parser, date_format, dayfirst, cache_dates, iterator, chunksize, compression, thousands, decimal, lineterminator, quotechar, quoting, doublequote, escapechar, comment, encoding, encoding_errors, dialect, on_bad_lines, delim_whitespace, low_memory, memory_map, float_precision, storage_options, dtype_backend)\u001b[0m\n\u001b[1;32m    946\u001b[0m     \u001b[0mkwds\u001b[0m\u001b[0;34m.\u001b[0m\u001b[0mupdate\u001b[0m\u001b[0;34m(\u001b[0m\u001b[0mkwds_defaults\u001b[0m\u001b[0;34m)\u001b[0m\u001b[0;34m\u001b[0m\u001b[0;34m\u001b[0m\u001b[0m\n\u001b[1;32m    947\u001b[0m \u001b[0;34m\u001b[0m\u001b[0m\n\u001b[0;32m--> 948\u001b[0;31m     \u001b[0;32mreturn\u001b[0m \u001b[0m_read\u001b[0m\u001b[0;34m(\u001b[0m\u001b[0mfilepath_or_buffer\u001b[0m\u001b[0;34m,\u001b[0m \u001b[0mkwds\u001b[0m\u001b[0;34m)\u001b[0m\u001b[0;34m\u001b[0m\u001b[0;34m\u001b[0m\u001b[0m\n\u001b[0m\u001b[1;32m    949\u001b[0m \u001b[0;34m\u001b[0m\u001b[0m\n\u001b[1;32m    950\u001b[0m \u001b[0;34m\u001b[0m\u001b[0m\n",
            "\u001b[0;32m/usr/local/lib/python3.10/dist-packages/pandas/io/parsers/readers.py\u001b[0m in \u001b[0;36m_read\u001b[0;34m(filepath_or_buffer, kwds)\u001b[0m\n\u001b[1;32m    609\u001b[0m \u001b[0;34m\u001b[0m\u001b[0m\n\u001b[1;32m    610\u001b[0m     \u001b[0;31m# Create the parser.\u001b[0m\u001b[0;34m\u001b[0m\u001b[0;34m\u001b[0m\u001b[0m\n\u001b[0;32m--> 611\u001b[0;31m     \u001b[0mparser\u001b[0m \u001b[0;34m=\u001b[0m \u001b[0mTextFileReader\u001b[0m\u001b[0;34m(\u001b[0m\u001b[0mfilepath_or_buffer\u001b[0m\u001b[0;34m,\u001b[0m \u001b[0;34m**\u001b[0m\u001b[0mkwds\u001b[0m\u001b[0;34m)\u001b[0m\u001b[0;34m\u001b[0m\u001b[0;34m\u001b[0m\u001b[0m\n\u001b[0m\u001b[1;32m    612\u001b[0m \u001b[0;34m\u001b[0m\u001b[0m\n\u001b[1;32m    613\u001b[0m     \u001b[0;32mif\u001b[0m \u001b[0mchunksize\u001b[0m \u001b[0;32mor\u001b[0m \u001b[0miterator\u001b[0m\u001b[0;34m:\u001b[0m\u001b[0;34m\u001b[0m\u001b[0;34m\u001b[0m\u001b[0m\n",
            "\u001b[0;32m/usr/local/lib/python3.10/dist-packages/pandas/io/parsers/readers.py\u001b[0m in \u001b[0;36m__init__\u001b[0;34m(self, f, engine, **kwds)\u001b[0m\n\u001b[1;32m   1446\u001b[0m \u001b[0;34m\u001b[0m\u001b[0m\n\u001b[1;32m   1447\u001b[0m         \u001b[0mself\u001b[0m\u001b[0;34m.\u001b[0m\u001b[0mhandles\u001b[0m\u001b[0;34m:\u001b[0m \u001b[0mIOHandles\u001b[0m \u001b[0;34m|\u001b[0m \u001b[0;32mNone\u001b[0m \u001b[0;34m=\u001b[0m \u001b[0;32mNone\u001b[0m\u001b[0;34m\u001b[0m\u001b[0;34m\u001b[0m\u001b[0m\n\u001b[0;32m-> 1448\u001b[0;31m         \u001b[0mself\u001b[0m\u001b[0;34m.\u001b[0m\u001b[0m_engine\u001b[0m \u001b[0;34m=\u001b[0m \u001b[0mself\u001b[0m\u001b[0;34m.\u001b[0m\u001b[0m_make_engine\u001b[0m\u001b[0;34m(\u001b[0m\u001b[0mf\u001b[0m\u001b[0;34m,\u001b[0m \u001b[0mself\u001b[0m\u001b[0;34m.\u001b[0m\u001b[0mengine\u001b[0m\u001b[0;34m)\u001b[0m\u001b[0;34m\u001b[0m\u001b[0;34m\u001b[0m\u001b[0m\n\u001b[0m\u001b[1;32m   1449\u001b[0m \u001b[0;34m\u001b[0m\u001b[0m\n\u001b[1;32m   1450\u001b[0m     \u001b[0;32mdef\u001b[0m \u001b[0mclose\u001b[0m\u001b[0;34m(\u001b[0m\u001b[0mself\u001b[0m\u001b[0;34m)\u001b[0m \u001b[0;34m->\u001b[0m \u001b[0;32mNone\u001b[0m\u001b[0;34m:\u001b[0m\u001b[0;34m\u001b[0m\u001b[0;34m\u001b[0m\u001b[0m\n",
            "\u001b[0;32m/usr/local/lib/python3.10/dist-packages/pandas/io/parsers/readers.py\u001b[0m in \u001b[0;36m_make_engine\u001b[0;34m(self, f, engine)\u001b[0m\n\u001b[1;32m   1721\u001b[0m \u001b[0;34m\u001b[0m\u001b[0m\n\u001b[1;32m   1722\u001b[0m         \u001b[0;32mtry\u001b[0m\u001b[0;34m:\u001b[0m\u001b[0;34m\u001b[0m\u001b[0;34m\u001b[0m\u001b[0m\n\u001b[0;32m-> 1723\u001b[0;31m             \u001b[0;32mreturn\u001b[0m \u001b[0mmapping\u001b[0m\u001b[0;34m[\u001b[0m\u001b[0mengine\u001b[0m\u001b[0;34m]\u001b[0m\u001b[0;34m(\u001b[0m\u001b[0mf\u001b[0m\u001b[0;34m,\u001b[0m \u001b[0;34m**\u001b[0m\u001b[0mself\u001b[0m\u001b[0;34m.\u001b[0m\u001b[0moptions\u001b[0m\u001b[0;34m)\u001b[0m\u001b[0;34m\u001b[0m\u001b[0;34m\u001b[0m\u001b[0m\n\u001b[0m\u001b[1;32m   1724\u001b[0m         \u001b[0;32mexcept\u001b[0m \u001b[0mException\u001b[0m\u001b[0;34m:\u001b[0m\u001b[0;34m\u001b[0m\u001b[0;34m\u001b[0m\u001b[0m\n\u001b[1;32m   1725\u001b[0m             \u001b[0;32mif\u001b[0m \u001b[0mself\u001b[0m\u001b[0;34m.\u001b[0m\u001b[0mhandles\u001b[0m \u001b[0;32mis\u001b[0m \u001b[0;32mnot\u001b[0m \u001b[0;32mNone\u001b[0m\u001b[0;34m:\u001b[0m\u001b[0;34m\u001b[0m\u001b[0;34m\u001b[0m\u001b[0m\n",
            "\u001b[0;32m/usr/local/lib/python3.10/dist-packages/pandas/io/parsers/c_parser_wrapper.py\u001b[0m in \u001b[0;36m__init__\u001b[0;34m(self, src, **kwds)\u001b[0m\n\u001b[1;32m     91\u001b[0m             \u001b[0;31m# Fail here loudly instead of in cython after reading\u001b[0m\u001b[0;34m\u001b[0m\u001b[0;34m\u001b[0m\u001b[0m\n\u001b[1;32m     92\u001b[0m             \u001b[0mimport_optional_dependency\u001b[0m\u001b[0;34m(\u001b[0m\u001b[0;34m\"pyarrow\"\u001b[0m\u001b[0;34m)\u001b[0m\u001b[0;34m\u001b[0m\u001b[0;34m\u001b[0m\u001b[0m\n\u001b[0;32m---> 93\u001b[0;31m         \u001b[0mself\u001b[0m\u001b[0;34m.\u001b[0m\u001b[0m_reader\u001b[0m \u001b[0;34m=\u001b[0m \u001b[0mparsers\u001b[0m\u001b[0;34m.\u001b[0m\u001b[0mTextReader\u001b[0m\u001b[0;34m(\u001b[0m\u001b[0msrc\u001b[0m\u001b[0;34m,\u001b[0m \u001b[0;34m**\u001b[0m\u001b[0mkwds\u001b[0m\u001b[0;34m)\u001b[0m\u001b[0;34m\u001b[0m\u001b[0;34m\u001b[0m\u001b[0m\n\u001b[0m\u001b[1;32m     94\u001b[0m \u001b[0;34m\u001b[0m\u001b[0m\n\u001b[1;32m     95\u001b[0m         \u001b[0mself\u001b[0m\u001b[0;34m.\u001b[0m\u001b[0munnamed_cols\u001b[0m \u001b[0;34m=\u001b[0m \u001b[0mself\u001b[0m\u001b[0;34m.\u001b[0m\u001b[0m_reader\u001b[0m\u001b[0;34m.\u001b[0m\u001b[0munnamed_cols\u001b[0m\u001b[0;34m\u001b[0m\u001b[0;34m\u001b[0m\u001b[0m\n",
            "\u001b[0;32mparsers.pyx\u001b[0m in \u001b[0;36mpandas._libs.parsers.TextReader.__cinit__\u001b[0;34m()\u001b[0m\n",
            "\u001b[0;31mEmptyDataError\u001b[0m: No columns to parse from file"
          ]
        }
      ],
      "source": [
        "df1 = pd.read_csv(\"/content/banglore_home_prices_model.pickle\")\n",
        "df1.head()"
      ]
    },
    {
      "cell_type": "markdown",
      "id": "f7b90300",
      "metadata": {
        "papermill": {
          "duration": 0.027988,
          "end_time": "2024-02-09T11:07:52.211926",
          "exception": false,
          "start_time": "2024-02-09T11:07:52.183938",
          "status": "completed"
        },
        "tags": [],
        "id": "f7b90300"
      },
      "source": [
        "### EXPLORATORY DATA ANALYSIS"
      ]
    },
    {
      "cell_type": "code",
      "execution_count": 4,
      "id": "8fdb3eb4",
      "metadata": {
        "execution": {
          "iopub.execute_input": "2024-02-09T11:07:52.270479Z",
          "iopub.status.busy": "2024-02-09T11:07:52.269659Z",
          "iopub.status.idle": "2024-02-09T11:07:52.276601Z",
          "shell.execute_reply": "2024-02-09T11:07:52.275504Z"
        },
        "papermill": {
          "duration": 0.038642,
          "end_time": "2024-02-09T11:07:52.278820",
          "exception": false,
          "start_time": "2024-02-09T11:07:52.240178",
          "status": "completed"
        },
        "tags": [],
        "colab": {
          "base_uri": "https://localhost:8080/",
          "height": 141
        },
        "id": "8fdb3eb4",
        "outputId": "5a96ea68-838e-49df-c1ee-d083c791ab54"
      },
      "outputs": [
        {
          "output_type": "error",
          "ename": "NameError",
          "evalue": "name 'df1' is not defined",
          "traceback": [
            "\u001b[0;31m---------------------------------------------------------------------------\u001b[0m",
            "\u001b[0;31mNameError\u001b[0m                                 Traceback (most recent call last)",
            "\u001b[0;32m<ipython-input-4-1915fbb7ef2c>\u001b[0m in \u001b[0;36m<cell line: 1>\u001b[0;34m()\u001b[0m\n\u001b[0;32m----> 1\u001b[0;31m \u001b[0mdf1\u001b[0m\u001b[0;34m.\u001b[0m\u001b[0mshape\u001b[0m\u001b[0;34m\u001b[0m\u001b[0;34m\u001b[0m\u001b[0m\n\u001b[0m",
            "\u001b[0;31mNameError\u001b[0m: name 'df1' is not defined"
          ]
        }
      ],
      "source": [
        "df1.shape"
      ]
    },
    {
      "cell_type": "code",
      "execution_count": null,
      "id": "2a0a928b",
      "metadata": {
        "execution": {
          "iopub.execute_input": "2024-02-09T11:07:52.339055Z",
          "iopub.status.busy": "2024-02-09T11:07:52.338244Z",
          "iopub.status.idle": "2024-02-09T11:07:52.345559Z",
          "shell.execute_reply": "2024-02-09T11:07:52.344507Z"
        },
        "papermill": {
          "duration": 0.040009,
          "end_time": "2024-02-09T11:07:52.347950",
          "exception": false,
          "start_time": "2024-02-09T11:07:52.307941",
          "status": "completed"
        },
        "tags": [],
        "id": "2a0a928b"
      },
      "outputs": [],
      "source": [
        "df1.columns"
      ]
    },
    {
      "cell_type": "code",
      "execution_count": null,
      "id": "7d3a0bbc",
      "metadata": {
        "execution": {
          "iopub.execute_input": "2024-02-09T11:07:52.406657Z",
          "iopub.status.busy": "2024-02-09T11:07:52.405877Z",
          "iopub.status.idle": "2024-02-09T11:07:52.419840Z",
          "shell.execute_reply": "2024-02-09T11:07:52.418946Z"
        },
        "papermill": {
          "duration": 0.046139,
          "end_time": "2024-02-09T11:07:52.422337",
          "exception": false,
          "start_time": "2024-02-09T11:07:52.376198",
          "status": "completed"
        },
        "tags": [],
        "id": "7d3a0bbc"
      },
      "outputs": [],
      "source": [
        "df1['area_type'].unique()"
      ]
    },
    {
      "cell_type": "code",
      "execution_count": null,
      "id": "054c425b",
      "metadata": {
        "execution": {
          "iopub.execute_input": "2024-02-09T11:07:52.544720Z",
          "iopub.status.busy": "2024-02-09T11:07:52.543945Z",
          "iopub.status.idle": "2024-02-09T11:07:52.558566Z",
          "shell.execute_reply": "2024-02-09T11:07:52.557738Z"
        },
        "papermill": {
          "duration": 0.11005,
          "end_time": "2024-02-09T11:07:52.561015",
          "exception": false,
          "start_time": "2024-02-09T11:07:52.450965",
          "status": "completed"
        },
        "tags": [],
        "id": "054c425b"
      },
      "outputs": [],
      "source": [
        "df1['area_type'].value_counts()"
      ]
    },
    {
      "cell_type": "markdown",
      "id": "4ff0c14c",
      "metadata": {
        "papermill": {
          "duration": 0.029603,
          "end_time": "2024-02-09T11:07:52.621152",
          "exception": false,
          "start_time": "2024-02-09T11:07:52.591549",
          "status": "completed"
        },
        "tags": [],
        "id": "4ff0c14c"
      },
      "source": [
        "**NOTE:** DROP UNNECESSARY FEATURES"
      ]
    },
    {
      "cell_type": "code",
      "execution_count": 5,
      "id": "92bc52b3",
      "metadata": {
        "execution": {
          "iopub.execute_input": "2024-02-09T11:07:52.680983Z",
          "iopub.status.busy": "2024-02-09T11:07:52.680120Z",
          "iopub.status.idle": "2024-02-09T11:07:52.693649Z",
          "shell.execute_reply": "2024-02-09T11:07:52.692775Z"
        },
        "papermill": {
          "duration": 0.045562,
          "end_time": "2024-02-09T11:07:52.695889",
          "exception": false,
          "start_time": "2024-02-09T11:07:52.650327",
          "status": "completed"
        },
        "tags": [],
        "colab": {
          "base_uri": "https://localhost:8080/",
          "height": 159
        },
        "id": "92bc52b3",
        "outputId": "395ef8bb-00fa-43b1-cf27-65925b0ed06d"
      },
      "outputs": [
        {
          "output_type": "error",
          "ename": "NameError",
          "evalue": "name 'df1' is not defined",
          "traceback": [
            "\u001b[0;31m---------------------------------------------------------------------------\u001b[0m",
            "\u001b[0;31mNameError\u001b[0m                                 Traceback (most recent call last)",
            "\u001b[0;32m<ipython-input-5-ac0c5e82379c>\u001b[0m in \u001b[0;36m<cell line: 1>\u001b[0;34m()\u001b[0m\n\u001b[0;32m----> 1\u001b[0;31m \u001b[0mdf2\u001b[0m \u001b[0;34m=\u001b[0m \u001b[0mdf1\u001b[0m\u001b[0;34m.\u001b[0m\u001b[0mdrop\u001b[0m\u001b[0;34m(\u001b[0m\u001b[0;34m[\u001b[0m\u001b[0;34m'area_type'\u001b[0m\u001b[0;34m,\u001b[0m\u001b[0;34m'society'\u001b[0m\u001b[0;34m,\u001b[0m\u001b[0;34m'balcony'\u001b[0m\u001b[0;34m,\u001b[0m\u001b[0;34m'availability'\u001b[0m\u001b[0;34m]\u001b[0m\u001b[0;34m,\u001b[0m\u001b[0maxis\u001b[0m\u001b[0;34m=\u001b[0m\u001b[0;34m'columns'\u001b[0m\u001b[0;34m)\u001b[0m\u001b[0;34m\u001b[0m\u001b[0;34m\u001b[0m\u001b[0m\n\u001b[0m\u001b[1;32m      2\u001b[0m \u001b[0mdf2\u001b[0m\u001b[0;34m.\u001b[0m\u001b[0mshape\u001b[0m\u001b[0;34m\u001b[0m\u001b[0;34m\u001b[0m\u001b[0m\n",
            "\u001b[0;31mNameError\u001b[0m: name 'df1' is not defined"
          ]
        }
      ],
      "source": [
        "df2 = df1.drop(['area_type','society','balcony','availability'],axis='columns')\n",
        "df2.shape"
      ]
    },
    {
      "cell_type": "markdown",
      "id": "8bfa3cd1",
      "metadata": {
        "papermill": {
          "duration": 0.030699,
          "end_time": "2024-02-09T11:07:52.755574",
          "exception": false,
          "start_time": "2024-02-09T11:07:52.724875",
          "status": "completed"
        },
        "tags": [],
        "id": "8bfa3cd1"
      },
      "source": [
        "### DATA CLEANING"
      ]
    },
    {
      "cell_type": "code",
      "execution_count": 6,
      "id": "c104ac3d",
      "metadata": {
        "execution": {
          "iopub.execute_input": "2024-02-09T11:07:52.815129Z",
          "iopub.status.busy": "2024-02-09T11:07:52.814764Z",
          "iopub.status.idle": "2024-02-09T11:07:52.828789Z",
          "shell.execute_reply": "2024-02-09T11:07:52.827951Z"
        },
        "papermill": {
          "duration": 0.046634,
          "end_time": "2024-02-09T11:07:52.831015",
          "exception": false,
          "start_time": "2024-02-09T11:07:52.784381",
          "status": "completed"
        },
        "tags": [],
        "colab": {
          "base_uri": "https://localhost:8080/",
          "height": 141
        },
        "id": "c104ac3d",
        "outputId": "90355194-f1d8-4fdb-d5b7-dd93d7f1cdec"
      },
      "outputs": [
        {
          "output_type": "error",
          "ename": "NameError",
          "evalue": "name 'df2' is not defined",
          "traceback": [
            "\u001b[0;31m---------------------------------------------------------------------------\u001b[0m",
            "\u001b[0;31mNameError\u001b[0m                                 Traceback (most recent call last)",
            "\u001b[0;32m<ipython-input-6-7469d1d99ec7>\u001b[0m in \u001b[0;36m<cell line: 1>\u001b[0;34m()\u001b[0m\n\u001b[0;32m----> 1\u001b[0;31m \u001b[0mdf2\u001b[0m\u001b[0;34m.\u001b[0m\u001b[0misnull\u001b[0m\u001b[0;34m(\u001b[0m\u001b[0;34m)\u001b[0m\u001b[0;34m.\u001b[0m\u001b[0msum\u001b[0m\u001b[0;34m(\u001b[0m\u001b[0;34m)\u001b[0m\u001b[0;34m\u001b[0m\u001b[0;34m\u001b[0m\u001b[0m\n\u001b[0m",
            "\u001b[0;31mNameError\u001b[0m: name 'df2' is not defined"
          ]
        }
      ],
      "source": [
        "df2.isnull().sum()"
      ]
    },
    {
      "cell_type": "code",
      "execution_count": null,
      "id": "26f2a1f9",
      "metadata": {
        "execution": {
          "iopub.execute_input": "2024-02-09T11:07:52.891127Z",
          "iopub.status.busy": "2024-02-09T11:07:52.890401Z",
          "iopub.status.idle": "2024-02-09T11:07:52.896882Z",
          "shell.execute_reply": "2024-02-09T11:07:52.895804Z"
        },
        "papermill": {
          "duration": 0.039332,
          "end_time": "2024-02-09T11:07:52.899400",
          "exception": false,
          "start_time": "2024-02-09T11:07:52.860068",
          "status": "completed"
        },
        "tags": [],
        "id": "26f2a1f9"
      },
      "outputs": [],
      "source": [
        "df2.shape"
      ]
    },
    {
      "cell_type": "code",
      "execution_count": null,
      "id": "5d3c7531",
      "metadata": {
        "execution": {
          "iopub.execute_input": "2024-02-09T11:07:52.959792Z",
          "iopub.status.busy": "2024-02-09T11:07:52.959369Z",
          "iopub.status.idle": "2024-02-09T11:07:52.981138Z",
          "shell.execute_reply": "2024-02-09T11:07:52.980037Z"
        },
        "papermill": {
          "duration": 0.054689,
          "end_time": "2024-02-09T11:07:52.983578",
          "exception": false,
          "start_time": "2024-02-09T11:07:52.928889",
          "status": "completed"
        },
        "tags": [],
        "id": "5d3c7531"
      },
      "outputs": [],
      "source": [
        "df3 = df2.dropna()\n",
        "df3.isnull().sum()"
      ]
    },
    {
      "cell_type": "code",
      "execution_count": null,
      "id": "0f568e22",
      "metadata": {
        "execution": {
          "iopub.execute_input": "2024-02-09T11:07:53.043388Z",
          "iopub.status.busy": "2024-02-09T11:07:53.043016Z",
          "iopub.status.idle": "2024-02-09T11:07:53.049653Z",
          "shell.execute_reply": "2024-02-09T11:07:53.048587Z"
        },
        "papermill": {
          "duration": 0.039367,
          "end_time": "2024-02-09T11:07:53.052047",
          "exception": false,
          "start_time": "2024-02-09T11:07:53.012680",
          "status": "completed"
        },
        "tags": [],
        "id": "0f568e22"
      },
      "outputs": [],
      "source": [
        "df3.shape"
      ]
    },
    {
      "cell_type": "markdown",
      "id": "be8cfd5d",
      "metadata": {
        "papermill": {
          "duration": 0.028924,
          "end_time": "2024-02-09T11:07:53.110305",
          "exception": false,
          "start_time": "2024-02-09T11:07:53.081381",
          "status": "completed"
        },
        "tags": [],
        "id": "be8cfd5d"
      },
      "source": [
        "### FEATURE ENGINEERING"
      ]
    },
    {
      "cell_type": "code",
      "execution_count": 7,
      "id": "113995ca",
      "metadata": {
        "execution": {
          "iopub.execute_input": "2024-02-09T11:07:53.171134Z",
          "iopub.status.busy": "2024-02-09T11:07:53.170746Z",
          "iopub.status.idle": "2024-02-09T11:07:53.198068Z",
          "shell.execute_reply": "2024-02-09T11:07:53.196592Z"
        },
        "papermill": {
          "duration": 0.060439,
          "end_time": "2024-02-09T11:07:53.200227",
          "exception": false,
          "start_time": "2024-02-09T11:07:53.139788",
          "status": "completed"
        },
        "tags": [],
        "colab": {
          "base_uri": "https://localhost:8080/",
          "height": 159
        },
        "id": "113995ca",
        "outputId": "9e986275-b004-4048-9ac7-b471aa5141fc"
      },
      "outputs": [
        {
          "output_type": "error",
          "ename": "NameError",
          "evalue": "name 'df3' is not defined",
          "traceback": [
            "\u001b[0;31m---------------------------------------------------------------------------\u001b[0m",
            "\u001b[0;31mNameError\u001b[0m                                 Traceback (most recent call last)",
            "\u001b[0;32m<ipython-input-7-681cf3aca53d>\u001b[0m in \u001b[0;36m<cell line: 1>\u001b[0;34m()\u001b[0m\n\u001b[0;32m----> 1\u001b[0;31m \u001b[0mdf3\u001b[0m\u001b[0;34m[\u001b[0m\u001b[0;34m'bhk'\u001b[0m\u001b[0;34m]\u001b[0m \u001b[0;34m=\u001b[0m \u001b[0mdf3\u001b[0m\u001b[0;34m[\u001b[0m\u001b[0;34m'size'\u001b[0m\u001b[0;34m]\u001b[0m\u001b[0;34m.\u001b[0m\u001b[0mapply\u001b[0m\u001b[0;34m(\u001b[0m\u001b[0;32mlambda\u001b[0m \u001b[0mx\u001b[0m\u001b[0;34m:\u001b[0m \u001b[0mint\u001b[0m\u001b[0;34m(\u001b[0m\u001b[0mx\u001b[0m\u001b[0;34m.\u001b[0m\u001b[0msplit\u001b[0m\u001b[0;34m(\u001b[0m\u001b[0;34m' '\u001b[0m\u001b[0;34m)\u001b[0m\u001b[0;34m[\u001b[0m\u001b[0;36m0\u001b[0m\u001b[0;34m]\u001b[0m\u001b[0;34m)\u001b[0m\u001b[0;34m)\u001b[0m\u001b[0;34m\u001b[0m\u001b[0;34m\u001b[0m\u001b[0m\n\u001b[0m\u001b[1;32m      2\u001b[0m \u001b[0mdf3\u001b[0m\u001b[0;34m.\u001b[0m\u001b[0mbhk\u001b[0m\u001b[0;34m.\u001b[0m\u001b[0munique\u001b[0m\u001b[0;34m(\u001b[0m\u001b[0;34m)\u001b[0m\u001b[0;34m\u001b[0m\u001b[0;34m\u001b[0m\u001b[0m\n",
            "\u001b[0;31mNameError\u001b[0m: name 'df3' is not defined"
          ]
        }
      ],
      "source": [
        "df3['bhk'] = df3['size'].apply(lambda x: int(x.split(' ')[0]))\n",
        "df3.bhk.unique()"
      ]
    },
    {
      "cell_type": "code",
      "execution_count": null,
      "id": "94a7a7b7",
      "metadata": {
        "execution": {
          "iopub.execute_input": "2024-02-09T11:07:53.458529Z",
          "iopub.status.busy": "2024-02-09T11:07:53.458077Z",
          "iopub.status.idle": "2024-02-09T11:07:53.481943Z",
          "shell.execute_reply": "2024-02-09T11:07:53.481140Z"
        },
        "papermill": {
          "duration": 0.05786,
          "end_time": "2024-02-09T11:07:53.484253",
          "exception": false,
          "start_time": "2024-02-09T11:07:53.426393",
          "status": "completed"
        },
        "scrolled": true,
        "tags": [],
        "id": "94a7a7b7"
      },
      "outputs": [],
      "source": [
        "df3[df3['total_sqft'].apply(is_float)].head(10)"
      ]
    },
    {
      "cell_type": "code",
      "source": [
        "df3.head(3)"
      ],
      "metadata": {
        "colab": {
          "base_uri": "https://localhost:8080/",
          "height": 141
        },
        "id": "j5YRyWdbslrr",
        "outputId": "6e87014c-32f0-4ae0-b61c-889ffbe09ea9"
      },
      "id": "j5YRyWdbslrr",
      "execution_count": 8,
      "outputs": [
        {
          "output_type": "error",
          "ename": "NameError",
          "evalue": "name 'df3' is not defined",
          "traceback": [
            "\u001b[0;31m---------------------------------------------------------------------------\u001b[0m",
            "\u001b[0;31mNameError\u001b[0m                                 Traceback (most recent call last)",
            "\u001b[0;32m<ipython-input-8-b8a32ba94492>\u001b[0m in \u001b[0;36m<cell line: 1>\u001b[0;34m()\u001b[0m\n\u001b[0;32m----> 1\u001b[0;31m \u001b[0mdf3\u001b[0m\u001b[0;34m.\u001b[0m\u001b[0mhead\u001b[0m\u001b[0;34m(\u001b[0m\u001b[0;36m3\u001b[0m\u001b[0;34m)\u001b[0m\u001b[0;34m\u001b[0m\u001b[0;34m\u001b[0m\u001b[0m\n\u001b[0m",
            "\u001b[0;31mNameError\u001b[0m: name 'df3' is not defined"
          ]
        }
      ]
    },
    {
      "cell_type": "code",
      "source": [
        "df3['total_sqft']\n"
      ],
      "metadata": {
        "id": "TX6wxlfCt-ji"
      },
      "id": "TX6wxlfCt-ji",
      "execution_count": null,
      "outputs": []
    },
    {
      "cell_type": "markdown",
      "id": "7b237fb4",
      "metadata": {
        "papermill": {
          "duration": 0.03025,
          "end_time": "2024-02-09T11:07:53.544459",
          "exception": false,
          "start_time": "2024-02-09T11:07:53.514209",
          "status": "completed"
        },
        "tags": [],
        "id": "7b237fb4"
      },
      "source": [
        "**ABOVE DATA SHOWS THAT TOTAL SQFT CAN BE A RANGE (E.G. 2100-2850). FOR SUCH CASES WE CAN JUST TAKE AVERAGE OF MIN & MAX VALUE IN THE RANGE. THERE ARE OTHER CASES WHERE VALUES ARE IN SQM WHICH CAN BE CONVERTED TO SQFT USING UNIT CONVERSION.**"
      ]
    },
    {
      "cell_type": "markdown",
      "source": [
        "###  1 Square foot is equal to 0.0023 Decimal\n",
        "## Decimal = Square foot x 0.0023\n",
        "##Usage:\n",
        "If you input a string like \"1000-1200\", it will return 1100.0.                  \n",
        "If you input \"900\", it will return 900.0.                                       \n",
        "If you input an invalid string, it will return None."
      ],
      "metadata": {
        "id": "eM-7YrI4tNKJ"
      },
      "id": "eM-7YrI4tNKJ"
    },
    {
      "cell_type": "code",
      "execution_count": 9,
      "id": "77d816cd",
      "metadata": {
        "execution": {
          "iopub.execute_input": "2024-02-09T11:07:53.607383Z",
          "iopub.status.busy": "2024-02-09T11:07:53.606739Z",
          "iopub.status.idle": "2024-02-09T11:07:53.611908Z",
          "shell.execute_reply": "2024-02-09T11:07:53.611165Z"
        },
        "papermill": {
          "duration": 0.038898,
          "end_time": "2024-02-09T11:07:53.614026",
          "exception": false,
          "start_time": "2024-02-09T11:07:53.575128",
          "status": "completed"
        },
        "tags": [],
        "id": "77d816cd"
      },
      "outputs": [],
      "source": [
        "def convert_sqft_to_num(x):\n",
        "    tokens = x.split('-')\n",
        "    if len(tokens) == 2:\n",
        "        return (float(tokens[0])+float(tokens[1]))/2\n",
        "    try:\n",
        "        return float(x)\n",
        "    except:\n",
        "        return None"
      ]
    },
    {
      "cell_type": "code",
      "execution_count": 10,
      "id": "5415dd00",
      "metadata": {
        "execution": {
          "iopub.execute_input": "2024-02-09T11:07:53.676781Z",
          "iopub.status.busy": "2024-02-09T11:07:53.676364Z",
          "iopub.status.idle": "2024-02-09T11:07:53.707017Z",
          "shell.execute_reply": "2024-02-09T11:07:53.705889Z"
        },
        "papermill": {
          "duration": 0.064755,
          "end_time": "2024-02-09T11:07:53.709421",
          "exception": false,
          "start_time": "2024-02-09T11:07:53.644666",
          "status": "completed"
        },
        "tags": [],
        "colab": {
          "base_uri": "https://localhost:8080/",
          "height": 193
        },
        "id": "5415dd00",
        "outputId": "66e3a634-45b4-4f14-87ad-d5e996a1204d"
      },
      "outputs": [
        {
          "output_type": "error",
          "ename": "NameError",
          "evalue": "name 'df3' is not defined",
          "traceback": [
            "\u001b[0;31m---------------------------------------------------------------------------\u001b[0m",
            "\u001b[0;31mNameError\u001b[0m                                 Traceback (most recent call last)",
            "\u001b[0;32m<ipython-input-10-5b0d1d06e278>\u001b[0m in \u001b[0;36m<cell line: 1>\u001b[0;34m()\u001b[0m\n\u001b[0;32m----> 1\u001b[0;31m \u001b[0mdf4\u001b[0m \u001b[0;34m=\u001b[0m \u001b[0mdf3\u001b[0m\u001b[0;34m.\u001b[0m\u001b[0mcopy\u001b[0m\u001b[0;34m(\u001b[0m\u001b[0;34m)\u001b[0m\u001b[0;34m\u001b[0m\u001b[0;34m\u001b[0m\u001b[0m\n\u001b[0m\u001b[1;32m      2\u001b[0m \u001b[0mdf4\u001b[0m\u001b[0;34m.\u001b[0m\u001b[0mtotal_sqft\u001b[0m \u001b[0;34m=\u001b[0m \u001b[0mdf4\u001b[0m\u001b[0;34m.\u001b[0m\u001b[0mtotal_sqft\u001b[0m\u001b[0;34m.\u001b[0m\u001b[0mapply\u001b[0m\u001b[0;34m(\u001b[0m\u001b[0mconvert_sqft_to_num\u001b[0m\u001b[0;34m)\u001b[0m\u001b[0;34m\u001b[0m\u001b[0;34m\u001b[0m\u001b[0m\n\u001b[1;32m      3\u001b[0m \u001b[0mdf4\u001b[0m \u001b[0;34m=\u001b[0m \u001b[0mdf4\u001b[0m\u001b[0;34m[\u001b[0m\u001b[0mdf4\u001b[0m\u001b[0;34m.\u001b[0m\u001b[0mtotal_sqft\u001b[0m\u001b[0;34m.\u001b[0m\u001b[0mnotnull\u001b[0m\u001b[0;34m(\u001b[0m\u001b[0;34m)\u001b[0m\u001b[0;34m]\u001b[0m\u001b[0;34m\u001b[0m\u001b[0;34m\u001b[0m\u001b[0m\n\u001b[1;32m      4\u001b[0m \u001b[0mdf4\u001b[0m\u001b[0;34m.\u001b[0m\u001b[0mhead\u001b[0m\u001b[0;34m(\u001b[0m\u001b[0;36m2\u001b[0m\u001b[0;34m)\u001b[0m\u001b[0;34m\u001b[0m\u001b[0;34m\u001b[0m\u001b[0m\n",
            "\u001b[0;31mNameError\u001b[0m: name 'df3' is not defined"
          ]
        }
      ],
      "source": [
        "df4 = df3.copy()\n",
        "df4.total_sqft = df4.total_sqft.apply(convert_sqft_to_num)\n",
        "df4 = df4[df4.total_sqft.notnull()]\n",
        "df4.head(2)"
      ]
    },
    {
      "cell_type": "markdown",
      "id": "6271ff03",
      "metadata": {
        "papermill": {
          "duration": 0.03032,
          "end_time": "2024-02-09T11:07:53.771144",
          "exception": false,
          "start_time": "2024-02-09T11:07:53.740824",
          "status": "completed"
        },
        "tags": [],
        "id": "6271ff03"
      },
      "source": [
        "**FOR ROW BELOW, IT SHOWS TOTAL SQFT AS 2475 WHICH IS AN AVERAGE OF THE RANGE 2100-2850**"
      ]
    },
    {
      "cell_type": "code",
      "execution_count": null,
      "id": "88a93c84",
      "metadata": {
        "execution": {
          "iopub.execute_input": "2024-02-09T11:07:53.833363Z",
          "iopub.status.busy": "2024-02-09T11:07:53.832989Z",
          "iopub.status.idle": "2024-02-09T11:07:53.841020Z",
          "shell.execute_reply": "2024-02-09T11:07:53.839899Z"
        },
        "papermill": {
          "duration": 0.042101,
          "end_time": "2024-02-09T11:07:53.843330",
          "exception": false,
          "start_time": "2024-02-09T11:07:53.801229",
          "status": "completed"
        },
        "scrolled": true,
        "tags": [],
        "id": "88a93c84"
      },
      "outputs": [],
      "source": [
        "df4.loc[30]"
      ]
    },
    {
      "cell_type": "code",
      "execution_count": 11,
      "id": "a8c0f0a1",
      "metadata": {
        "execution": {
          "iopub.execute_input": "2024-02-09T11:07:53.906054Z",
          "iopub.status.busy": "2024-02-09T11:07:53.905683Z",
          "iopub.status.idle": "2024-02-09T11:07:53.912243Z",
          "shell.execute_reply": "2024-02-09T11:07:53.911209Z"
        },
        "papermill": {
          "duration": 0.04077,
          "end_time": "2024-02-09T11:07:53.914546",
          "exception": false,
          "start_time": "2024-02-09T11:07:53.873776",
          "status": "completed"
        },
        "tags": [],
        "colab": {
          "base_uri": "https://localhost:8080/"
        },
        "id": "a8c0f0a1",
        "outputId": "b2f8addb-2ab4-4235-e815-55505cfe8a39"
      },
      "outputs": [
        {
          "output_type": "execute_result",
          "data": {
            "text/plain": [
              "2475.0"
            ]
          },
          "metadata": {},
          "execution_count": 11
        }
      ],
      "source": [
        "(2100+2850)/2"
      ]
    },
    {
      "cell_type": "markdown",
      "id": "9aed3f4d",
      "metadata": {
        "papermill": {
          "duration": 0.030616,
          "end_time": "2024-02-09T11:07:53.975887",
          "exception": false,
          "start_time": "2024-02-09T11:07:53.945271",
          "status": "completed"
        },
        "tags": [],
        "id": "9aed3f4d"
      },
      "source": [
        "**ADD NEW FEATURE CALLED PRICE PER SQUARE FEET**\n",
        "\n",
        "price_per_sqft= price×100,000/total_sqft\n",
        "\n",
        "multiplying by 100,000 adjusts the value to match the scale of the square footage"
      ]
    },
    {
      "cell_type": "code",
      "execution_count": 12,
      "id": "1d68011b",
      "metadata": {
        "execution": {
          "iopub.execute_input": "2024-02-09T11:07:54.039787Z",
          "iopub.status.busy": "2024-02-09T11:07:54.039150Z",
          "iopub.status.idle": "2024-02-09T11:07:54.057924Z",
          "shell.execute_reply": "2024-02-09T11:07:54.056713Z"
        },
        "papermill": {
          "duration": 0.053822,
          "end_time": "2024-02-09T11:07:54.060458",
          "exception": false,
          "start_time": "2024-02-09T11:07:54.006636",
          "status": "completed"
        },
        "tags": [],
        "colab": {
          "base_uri": "https://localhost:8080/",
          "height": 176
        },
        "id": "1d68011b",
        "outputId": "3dae0bea-99a2-4a99-d5ae-819f43e33389"
      },
      "outputs": [
        {
          "output_type": "error",
          "ename": "NameError",
          "evalue": "name 'df4' is not defined",
          "traceback": [
            "\u001b[0;31m---------------------------------------------------------------------------\u001b[0m",
            "\u001b[0;31mNameError\u001b[0m                                 Traceback (most recent call last)",
            "\u001b[0;32m<ipython-input-12-e8b8b36efb96>\u001b[0m in \u001b[0;36m<cell line: 1>\u001b[0;34m()\u001b[0m\n\u001b[0;32m----> 1\u001b[0;31m \u001b[0mdf5\u001b[0m \u001b[0;34m=\u001b[0m \u001b[0mdf4\u001b[0m\u001b[0;34m.\u001b[0m\u001b[0mcopy\u001b[0m\u001b[0;34m(\u001b[0m\u001b[0;34m)\u001b[0m\u001b[0;34m\u001b[0m\u001b[0;34m\u001b[0m\u001b[0m\n\u001b[0m\u001b[1;32m      2\u001b[0m \u001b[0mdf5\u001b[0m\u001b[0;34m[\u001b[0m\u001b[0;34m'price_per_sqft'\u001b[0m\u001b[0;34m]\u001b[0m \u001b[0;34m=\u001b[0m \u001b[0mdf5\u001b[0m\u001b[0;34m[\u001b[0m\u001b[0;34m'price'\u001b[0m\u001b[0;34m]\u001b[0m\u001b[0;34m*\u001b[0m\u001b[0;36m100000\u001b[0m\u001b[0;34m/\u001b[0m\u001b[0mdf5\u001b[0m\u001b[0;34m[\u001b[0m\u001b[0;34m'total_sqft'\u001b[0m\u001b[0;34m]\u001b[0m\u001b[0;34m\u001b[0m\u001b[0;34m\u001b[0m\u001b[0m\n\u001b[1;32m      3\u001b[0m \u001b[0mdf5\u001b[0m\u001b[0;34m.\u001b[0m\u001b[0mhead\u001b[0m\u001b[0;34m(\u001b[0m\u001b[0;34m)\u001b[0m\u001b[0;34m\u001b[0m\u001b[0;34m\u001b[0m\u001b[0m\n",
            "\u001b[0;31mNameError\u001b[0m: name 'df4' is not defined"
          ]
        }
      ],
      "source": [
        "df5 = df4.copy()\n",
        "df5['price_per_sqft'] = df5['price']*100000/df5['total_sqft']\n",
        "df5.head()"
      ]
    },
    {
      "cell_type": "code",
      "execution_count": 13,
      "id": "1784bbe7",
      "metadata": {
        "execution": {
          "iopub.execute_input": "2024-02-09T11:07:54.124306Z",
          "iopub.status.busy": "2024-02-09T11:07:54.123927Z",
          "iopub.status.idle": "2024-02-09T11:07:54.139413Z",
          "shell.execute_reply": "2024-02-09T11:07:54.138370Z"
        },
        "papermill": {
          "duration": 0.0503,
          "end_time": "2024-02-09T11:07:54.141751",
          "exception": false,
          "start_time": "2024-02-09T11:07:54.091451",
          "status": "completed"
        },
        "scrolled": true,
        "tags": [],
        "colab": {
          "base_uri": "https://localhost:8080/",
          "height": 159
        },
        "id": "1784bbe7",
        "outputId": "1028a26d-0e6f-4f18-a927-74fda52ec2f8"
      },
      "outputs": [
        {
          "output_type": "error",
          "ename": "NameError",
          "evalue": "name 'df5' is not defined",
          "traceback": [
            "\u001b[0;31m---------------------------------------------------------------------------\u001b[0m",
            "\u001b[0;31mNameError\u001b[0m                                 Traceback (most recent call last)",
            "\u001b[0;32m<ipython-input-13-b40d55741116>\u001b[0m in \u001b[0;36m<cell line: 1>\u001b[0;34m()\u001b[0m\n\u001b[0;32m----> 1\u001b[0;31m \u001b[0mdf5_stats\u001b[0m \u001b[0;34m=\u001b[0m \u001b[0mdf5\u001b[0m\u001b[0;34m[\u001b[0m\u001b[0;34m'price_per_sqft'\u001b[0m\u001b[0;34m]\u001b[0m\u001b[0;34m.\u001b[0m\u001b[0mdescribe\u001b[0m\u001b[0;34m(\u001b[0m\u001b[0;34m)\u001b[0m\u001b[0;34m\u001b[0m\u001b[0;34m\u001b[0m\u001b[0m\n\u001b[0m\u001b[1;32m      2\u001b[0m \u001b[0mdf5_stats\u001b[0m\u001b[0;34m\u001b[0m\u001b[0;34m\u001b[0m\u001b[0m\n",
            "\u001b[0;31mNameError\u001b[0m: name 'df5' is not defined"
          ]
        }
      ],
      "source": [
        "df5_stats = df5['price_per_sqft'].describe()\n",
        "df5_stats"
      ]
    },
    {
      "cell_type": "code",
      "execution_count": null,
      "id": "6c9d08f4",
      "metadata": {
        "execution": {
          "iopub.execute_input": "2024-02-09T11:07:54.207439Z",
          "iopub.status.busy": "2024-02-09T11:07:54.206664Z",
          "iopub.status.idle": "2024-02-09T11:07:54.316566Z",
          "shell.execute_reply": "2024-02-09T11:07:54.315574Z"
        },
        "papermill": {
          "duration": 0.145727,
          "end_time": "2024-02-09T11:07:54.319313",
          "exception": false,
          "start_time": "2024-02-09T11:07:54.173586",
          "status": "completed"
        },
        "tags": [],
        "id": "6c9d08f4"
      },
      "outputs": [],
      "source": [
        "df5.to_csv(\"bhp.csv\",index=False)\n",
        "df5.head()"
      ]
    },
    {
      "cell_type": "markdown",
      "id": "3abb5452",
      "metadata": {
        "papermill": {
          "duration": 0.030781,
          "end_time": "2024-02-09T11:07:54.381303",
          "exception": false,
          "start_time": "2024-02-09T11:07:54.350522",
          "status": "completed"
        },
        "tags": [],
        "id": "3abb5452"
      },
      "source": [
        "**EXAMINE LOCATIONS WHICH IS A CATEGORICAL VARIABLE. WE NEED TO APPLY THE DIMENSIONALITY REDUCTION TECHNIQUE HERE TO REDUCE THE NUMBER OF LOCATIONS**"
      ]
    },
    {
      "cell_type": "code",
      "execution_count": null,
      "id": "a4bb9d25",
      "metadata": {
        "execution": {
          "iopub.execute_input": "2024-02-09T11:07:54.445704Z",
          "iopub.status.busy": "2024-02-09T11:07:54.445278Z",
          "iopub.status.idle": "2024-02-09T11:07:54.463356Z",
          "shell.execute_reply": "2024-02-09T11:07:54.462244Z"
        },
        "papermill": {
          "duration": 0.053219,
          "end_time": "2024-02-09T11:07:54.465746",
          "exception": false,
          "start_time": "2024-02-09T11:07:54.412527",
          "status": "completed"
        },
        "tags": [],
        "id": "a4bb9d25"
      },
      "outputs": [],
      "source": [
        "df5.location = df5.location.apply(lambda x: x.strip())\n",
        "location_stats = df5['location'].value_counts(ascending=False)\n",
        "location_stats"
      ]
    },
    {
      "cell_type": "code",
      "execution_count": 14,
      "id": "f9794da6",
      "metadata": {
        "execution": {
          "iopub.execute_input": "2024-02-09T11:07:54.530623Z",
          "iopub.status.busy": "2024-02-09T11:07:54.529852Z",
          "iopub.status.idle": "2024-02-09T11:07:54.536768Z",
          "shell.execute_reply": "2024-02-09T11:07:54.535798Z"
        },
        "papermill": {
          "duration": 0.041845,
          "end_time": "2024-02-09T11:07:54.538983",
          "exception": false,
          "start_time": "2024-02-09T11:07:54.497138",
          "status": "completed"
        },
        "tags": [],
        "colab": {
          "base_uri": "https://localhost:8080/",
          "height": 141
        },
        "id": "f9794da6",
        "outputId": "6a2a37b8-ade9-4011-8c7d-08abae4e0586"
      },
      "outputs": [
        {
          "output_type": "error",
          "ename": "NameError",
          "evalue": "name 'location_stats' is not defined",
          "traceback": [
            "\u001b[0;31m---------------------------------------------------------------------------\u001b[0m",
            "\u001b[0;31mNameError\u001b[0m                                 Traceback (most recent call last)",
            "\u001b[0;32m<ipython-input-14-31881f24de68>\u001b[0m in \u001b[0;36m<cell line: 1>\u001b[0;34m()\u001b[0m\n\u001b[0;32m----> 1\u001b[0;31m \u001b[0mlocation_stats\u001b[0m\u001b[0;34m.\u001b[0m\u001b[0mvalues\u001b[0m\u001b[0;34m.\u001b[0m\u001b[0msum\u001b[0m\u001b[0;34m(\u001b[0m\u001b[0;34m)\u001b[0m\u001b[0;34m\u001b[0m\u001b[0;34m\u001b[0m\u001b[0m\n\u001b[0m",
            "\u001b[0;31mNameError\u001b[0m: name 'location_stats' is not defined"
          ]
        }
      ],
      "source": [
        "location_stats.values.sum()"
      ]
    },
    {
      "cell_type": "code",
      "execution_count": null,
      "id": "fd18d2c7",
      "metadata": {
        "execution": {
          "iopub.execute_input": "2024-02-09T11:07:54.604491Z",
          "iopub.status.busy": "2024-02-09T11:07:54.604082Z",
          "iopub.status.idle": "2024-02-09T11:07:54.611121Z",
          "shell.execute_reply": "2024-02-09T11:07:54.610030Z"
        },
        "papermill": {
          "duration": 0.043142,
          "end_time": "2024-02-09T11:07:54.613601",
          "exception": false,
          "start_time": "2024-02-09T11:07:54.570459",
          "status": "completed"
        },
        "scrolled": true,
        "tags": [],
        "id": "fd18d2c7"
      },
      "outputs": [],
      "source": [
        "len(location_stats[location_stats>10])"
      ]
    },
    {
      "cell_type": "code",
      "execution_count": null,
      "id": "e7494347",
      "metadata": {
        "execution": {
          "iopub.execute_input": "2024-02-09T11:07:54.678917Z",
          "iopub.status.busy": "2024-02-09T11:07:54.678243Z",
          "iopub.status.idle": "2024-02-09T11:07:54.684739Z",
          "shell.execute_reply": "2024-02-09T11:07:54.683722Z"
        },
        "papermill": {
          "duration": 0.041734,
          "end_time": "2024-02-09T11:07:54.686868",
          "exception": false,
          "start_time": "2024-02-09T11:07:54.645134",
          "status": "completed"
        },
        "tags": [],
        "id": "e7494347"
      },
      "outputs": [],
      "source": [
        "len(location_stats)"
      ]
    },
    {
      "cell_type": "code",
      "execution_count": 15,
      "id": "f194268a",
      "metadata": {
        "execution": {
          "iopub.execute_input": "2024-02-09T11:07:54.753519Z",
          "iopub.status.busy": "2024-02-09T11:07:54.752398Z",
          "iopub.status.idle": "2024-02-09T11:07:54.760044Z",
          "shell.execute_reply": "2024-02-09T11:07:54.758940Z"
        },
        "papermill": {
          "duration": 0.043522,
          "end_time": "2024-02-09T11:07:54.762185",
          "exception": false,
          "start_time": "2024-02-09T11:07:54.718663",
          "status": "completed"
        },
        "tags": [],
        "colab": {
          "base_uri": "https://localhost:8080/",
          "height": 141
        },
        "id": "f194268a",
        "outputId": "9914cdd1-3846-461e-da49-834acbe90704"
      },
      "outputs": [
        {
          "output_type": "error",
          "ename": "NameError",
          "evalue": "name 'location_stats' is not defined",
          "traceback": [
            "\u001b[0;31m---------------------------------------------------------------------------\u001b[0m",
            "\u001b[0;31mNameError\u001b[0m                                 Traceback (most recent call last)",
            "\u001b[0;32m<ipython-input-15-3aa48fd959de>\u001b[0m in \u001b[0;36m<cell line: 1>\u001b[0;34m()\u001b[0m\n\u001b[0;32m----> 1\u001b[0;31m \u001b[0mlen\u001b[0m\u001b[0;34m(\u001b[0m\u001b[0mlocation_stats\u001b[0m\u001b[0;34m[\u001b[0m\u001b[0mlocation_stats\u001b[0m\u001b[0;34m<=\u001b[0m\u001b[0;36m10\u001b[0m\u001b[0;34m]\u001b[0m\u001b[0;34m)\u001b[0m\u001b[0;34m\u001b[0m\u001b[0;34m\u001b[0m\u001b[0m\n\u001b[0m",
            "\u001b[0;31mNameError\u001b[0m: name 'location_stats' is not defined"
          ]
        }
      ],
      "source": [
        "len(location_stats[location_stats<=10])"
      ]
    },
    {
      "cell_type": "markdown",
      "id": "71938626",
      "metadata": {
        "papermill": {
          "duration": 0.031872,
          "end_time": "2024-02-09T11:07:54.826521",
          "exception": false,
          "start_time": "2024-02-09T11:07:54.794649",
          "status": "completed"
        },
        "tags": [],
        "id": "71938626"
      },
      "source": [
        "### DIMENSIONALITY REDUCTIONS"
      ]
    },
    {
      "cell_type": "markdown",
      "id": "73c28b97",
      "metadata": {
        "papermill": {
          "duration": 0.031839,
          "end_time": "2024-02-09T11:07:54.891639",
          "exception": false,
          "start_time": "2024-02-09T11:07:54.859800",
          "status": "completed"
        },
        "tags": [],
        "id": "73c28b97"
      },
      "source": [
        "**ANY LOCATION HAVING LESS THAN 10 DATA PINTS SHOULD BE TAGGED AS \"OTHER\" LOCATION. THIS WAY NUMBER OF CATEGORIES CAN BE REDUCED BY HUGE AMOUNT. LATER ON WHEN WE DO ONE HOT ENCODING, IT WILL HELP US WITH HAVING FEWER DUMMY COLUMNS.**"
      ]
    },
    {
      "cell_type": "code",
      "execution_count": 16,
      "id": "181cec24",
      "metadata": {
        "execution": {
          "iopub.execute_input": "2024-02-09T11:07:54.957822Z",
          "iopub.status.busy": "2024-02-09T11:07:54.957435Z",
          "iopub.status.idle": "2024-02-09T11:07:54.967209Z",
          "shell.execute_reply": "2024-02-09T11:07:54.965992Z"
        },
        "papermill": {
          "duration": 0.045819,
          "end_time": "2024-02-09T11:07:54.969678",
          "exception": false,
          "start_time": "2024-02-09T11:07:54.923859",
          "status": "completed"
        },
        "tags": [],
        "colab": {
          "base_uri": "https://localhost:8080/",
          "height": 159
        },
        "id": "181cec24",
        "outputId": "ab24a3a9-7185-4eec-dc96-e65c110312cc"
      },
      "outputs": [
        {
          "output_type": "error",
          "ename": "NameError",
          "evalue": "name 'location_stats' is not defined",
          "traceback": [
            "\u001b[0;31m---------------------------------------------------------------------------\u001b[0m",
            "\u001b[0;31mNameError\u001b[0m                                 Traceback (most recent call last)",
            "\u001b[0;32m<ipython-input-16-633cdb0ba15c>\u001b[0m in \u001b[0;36m<cell line: 1>\u001b[0;34m()\u001b[0m\n\u001b[0;32m----> 1\u001b[0;31m \u001b[0mlocation_stats_less_than_10\u001b[0m \u001b[0;34m=\u001b[0m \u001b[0mlocation_stats\u001b[0m\u001b[0;34m[\u001b[0m\u001b[0mlocation_stats\u001b[0m\u001b[0;34m<=\u001b[0m\u001b[0;36m10\u001b[0m\u001b[0;34m]\u001b[0m\u001b[0;34m\u001b[0m\u001b[0;34m\u001b[0m\u001b[0m\n\u001b[0m\u001b[1;32m      2\u001b[0m \u001b[0mlocation_stats_less_than_10\u001b[0m\u001b[0;34m\u001b[0m\u001b[0;34m\u001b[0m\u001b[0m\n",
            "\u001b[0;31mNameError\u001b[0m: name 'location_stats' is not defined"
          ]
        }
      ],
      "source": [
        "location_stats_less_than_10 = location_stats[location_stats<=10]\n",
        "location_stats_less_than_10"
      ]
    },
    {
      "cell_type": "code",
      "execution_count": null,
      "id": "c6b4f0c0",
      "metadata": {
        "execution": {
          "iopub.execute_input": "2024-02-09T11:07:55.036743Z",
          "iopub.status.busy": "2024-02-09T11:07:55.036341Z",
          "iopub.status.idle": "2024-02-09T11:07:55.044746Z",
          "shell.execute_reply": "2024-02-09T11:07:55.043688Z"
        },
        "papermill": {
          "duration": 0.044657,
          "end_time": "2024-02-09T11:07:55.046953",
          "exception": false,
          "start_time": "2024-02-09T11:07:55.002296",
          "status": "completed"
        },
        "tags": [],
        "id": "c6b4f0c0"
      },
      "outputs": [],
      "source": [
        "len(df5.location.unique())"
      ]
    },
    {
      "cell_type": "code",
      "execution_count": null,
      "id": "fac48e3f",
      "metadata": {
        "execution": {
          "iopub.execute_input": "2024-02-09T11:07:55.114057Z",
          "iopub.status.busy": "2024-02-09T11:07:55.113665Z",
          "iopub.status.idle": "2024-02-09T11:07:55.167780Z",
          "shell.execute_reply": "2024-02-09T11:07:55.166490Z"
        },
        "papermill": {
          "duration": 0.090899,
          "end_time": "2024-02-09T11:07:55.170264",
          "exception": false,
          "start_time": "2024-02-09T11:07:55.079365",
          "status": "completed"
        },
        "tags": [],
        "id": "fac48e3f"
      },
      "outputs": [],
      "source": [
        "df5.location = df5.location.apply(lambda x: 'other' if x in location_stats_less_than_10 else x)\n",
        "len(df5.location.unique())"
      ]
    },
    {
      "cell_type": "code",
      "execution_count": 17,
      "id": "cd819b95",
      "metadata": {
        "execution": {
          "iopub.execute_input": "2024-02-09T11:07:55.238713Z",
          "iopub.status.busy": "2024-02-09T11:07:55.237752Z",
          "iopub.status.idle": "2024-02-09T11:07:55.255736Z",
          "shell.execute_reply": "2024-02-09T11:07:55.254897Z"
        },
        "papermill": {
          "duration": 0.054976,
          "end_time": "2024-02-09T11:07:55.258054",
          "exception": false,
          "start_time": "2024-02-09T11:07:55.203078",
          "status": "completed"
        },
        "scrolled": true,
        "tags": [],
        "colab": {
          "base_uri": "https://localhost:8080/",
          "height": 141
        },
        "id": "cd819b95",
        "outputId": "a307b04f-dcba-412c-8380-07a93468d4b8"
      },
      "outputs": [
        {
          "output_type": "error",
          "ename": "NameError",
          "evalue": "name 'df5' is not defined",
          "traceback": [
            "\u001b[0;31m---------------------------------------------------------------------------\u001b[0m",
            "\u001b[0;31mNameError\u001b[0m                                 Traceback (most recent call last)",
            "\u001b[0;32m<ipython-input-17-5ddae240e121>\u001b[0m in \u001b[0;36m<cell line: 1>\u001b[0;34m()\u001b[0m\n\u001b[0;32m----> 1\u001b[0;31m \u001b[0mdf5\u001b[0m\u001b[0;34m.\u001b[0m\u001b[0mhead\u001b[0m\u001b[0;34m(\u001b[0m\u001b[0;36m10\u001b[0m\u001b[0;34m)\u001b[0m\u001b[0;34m\u001b[0m\u001b[0;34m\u001b[0m\u001b[0m\n\u001b[0m",
            "\u001b[0;31mNameError\u001b[0m: name 'df5' is not defined"
          ]
        }
      ],
      "source": [
        "df5.head(10)"
      ]
    },
    {
      "cell_type": "markdown",
      "id": "da6145db",
      "metadata": {
        "papermill": {
          "duration": 0.032908,
          "end_time": "2024-02-09T11:07:55.324356",
          "exception": false,
          "start_time": "2024-02-09T11:07:55.291448",
          "status": "completed"
        },
        "tags": [],
        "id": "da6145db"
      },
      "source": [
        "### OUTLIER REMOVAL USING BUSINESS LOGIC"
      ]
    },
    {
      "cell_type": "markdown",
      "id": "5f06c7d5",
      "metadata": {
        "papermill": {
          "duration": 0.032651,
          "end_time": "2024-02-09T11:07:55.389849",
          "exception": false,
          "start_time": "2024-02-09T11:07:55.357198",
          "status": "completed"
        },
        "tags": [],
        "id": "5f06c7d5"
      },
      "source": [
        "**AS A DATA SCIENTIST S A DATA SCIENTIST WHEN YOU HAVE A CONVERSATION WITH YOUR BUSINESS MANAGER (WHO HAS EXPERTISE IN REAL ESTATE), HE WILL TELL YOU THAT NORMALLY SQUARE FT PER BEDROOM IS 300 (I.E. 2 BHK APARTMENT IS MINIMUM 600 SQFT. IF YOU HAVE FOR EXAMPLE 400 SQFT APARTMENT WITH 2 BHK THAN THAT SEEMS SUSPICIOUS AND CAN BE REMOVED AS AN OUTLIER. WE WILL REMOVE SUCH OUTLIERS BY KEEPING OUR MINIMUM THRESOLD PER BHK TO BE 300 SQFT**"
      ]
    },
    {
      "cell_type": "code",
      "execution_count": 18,
      "id": "6a209b31",
      "metadata": {
        "execution": {
          "iopub.execute_input": "2024-02-09T11:07:55.459021Z",
          "iopub.status.busy": "2024-02-09T11:07:55.458212Z",
          "iopub.status.idle": "2024-02-09T11:07:55.476049Z",
          "shell.execute_reply": "2024-02-09T11:07:55.475201Z"
        },
        "papermill": {
          "duration": 0.054847,
          "end_time": "2024-02-09T11:07:55.478345",
          "exception": false,
          "start_time": "2024-02-09T11:07:55.423498",
          "status": "completed"
        },
        "scrolled": true,
        "tags": [],
        "colab": {
          "base_uri": "https://localhost:8080/",
          "height": 141
        },
        "id": "6a209b31",
        "outputId": "3c7f3711-f45a-4641-8f97-c9df63b47314"
      },
      "outputs": [
        {
          "output_type": "error",
          "ename": "NameError",
          "evalue": "name 'df5' is not defined",
          "traceback": [
            "\u001b[0;31m---------------------------------------------------------------------------\u001b[0m",
            "\u001b[0;31mNameError\u001b[0m                                 Traceback (most recent call last)",
            "\u001b[0;32m<ipython-input-18-503e9806ae4d>\u001b[0m in \u001b[0;36m<cell line: 1>\u001b[0;34m()\u001b[0m\n\u001b[0;32m----> 1\u001b[0;31m \u001b[0mdf5\u001b[0m\u001b[0;34m[\u001b[0m\u001b[0mdf5\u001b[0m\u001b[0;34m.\u001b[0m\u001b[0mtotal_sqft\u001b[0m\u001b[0;34m/\u001b[0m\u001b[0mdf5\u001b[0m\u001b[0;34m.\u001b[0m\u001b[0mbhk\u001b[0m\u001b[0;34m<\u001b[0m\u001b[0;36m300\u001b[0m\u001b[0;34m]\u001b[0m\u001b[0;34m.\u001b[0m\u001b[0mhead\u001b[0m\u001b[0;34m(\u001b[0m\u001b[0;34m)\u001b[0m\u001b[0;34m\u001b[0m\u001b[0;34m\u001b[0m\u001b[0m\n\u001b[0m",
            "\u001b[0;31mNameError\u001b[0m: name 'df5' is not defined"
          ]
        }
      ],
      "source": [
        "df5[df5.total_sqft/df5.bhk<300].head()"
      ]
    },
    {
      "cell_type": "markdown",
      "id": "e80d2e43",
      "metadata": {
        "papermill": {
          "duration": 0.03308,
          "end_time": "2024-02-09T11:07:55.545645",
          "exception": false,
          "start_time": "2024-02-09T11:07:55.512565",
          "status": "completed"
        },
        "tags": [],
        "id": "e80d2e43"
      },
      "source": [
        "**CHECK THE ABOVE DATA POINTS. WE HAVE 6 BHK APARTMENTS WITH 1020 SQFT. ANOTHER ONE IS 8 BHK AND THE TOTAL SQFT IS 600. THESE ARE CLEAR DATA ERRORS THAT CAN BE REMOVED SAFELY**"
      ]
    },
    {
      "cell_type": "code",
      "execution_count": 19,
      "id": "7d459478",
      "metadata": {
        "execution": {
          "iopub.execute_input": "2024-02-09T11:07:55.615318Z",
          "iopub.status.busy": "2024-02-09T11:07:55.614904Z",
          "iopub.status.idle": "2024-02-09T11:07:55.621437Z",
          "shell.execute_reply": "2024-02-09T11:07:55.620474Z"
        },
        "papermill": {
          "duration": 0.043238,
          "end_time": "2024-02-09T11:07:55.623636",
          "exception": false,
          "start_time": "2024-02-09T11:07:55.580398",
          "status": "completed"
        },
        "tags": [],
        "colab": {
          "base_uri": "https://localhost:8080/",
          "height": 141
        },
        "id": "7d459478",
        "outputId": "8dac1017-9171-46bd-ca4f-2c31941aed5f"
      },
      "outputs": [
        {
          "output_type": "error",
          "ename": "NameError",
          "evalue": "name 'df5' is not defined",
          "traceback": [
            "\u001b[0;31m---------------------------------------------------------------------------\u001b[0m",
            "\u001b[0;31mNameError\u001b[0m                                 Traceback (most recent call last)",
            "\u001b[0;32m<ipython-input-19-c70d21f16a47>\u001b[0m in \u001b[0;36m<cell line: 1>\u001b[0;34m()\u001b[0m\n\u001b[0;32m----> 1\u001b[0;31m \u001b[0mdf5\u001b[0m\u001b[0;34m.\u001b[0m\u001b[0mshape\u001b[0m\u001b[0;34m\u001b[0m\u001b[0;34m\u001b[0m\u001b[0m\n\u001b[0m",
            "\u001b[0;31mNameError\u001b[0m: name 'df5' is not defined"
          ]
        }
      ],
      "source": [
        "df5.shape"
      ]
    },
    {
      "cell_type": "code",
      "execution_count": null,
      "id": "875f4762",
      "metadata": {
        "execution": {
          "iopub.execute_input": "2024-02-09T11:07:55.692317Z",
          "iopub.status.busy": "2024-02-09T11:07:55.691896Z",
          "iopub.status.idle": "2024-02-09T11:07:55.702446Z",
          "shell.execute_reply": "2024-02-09T11:07:55.701205Z"
        },
        "papermill": {
          "duration": 0.047739,
          "end_time": "2024-02-09T11:07:55.704956",
          "exception": false,
          "start_time": "2024-02-09T11:07:55.657217",
          "status": "completed"
        },
        "scrolled": true,
        "tags": [],
        "id": "875f4762"
      },
      "outputs": [],
      "source": [
        "df6 = df5[~(df5.total_sqft/df5.bhk<300)]\n",
        "df6.shape"
      ]
    },
    {
      "cell_type": "markdown",
      "id": "1b2fd6f5",
      "metadata": {
        "papermill": {
          "duration": 0.03561,
          "end_time": "2024-02-09T11:07:55.774372",
          "exception": false,
          "start_time": "2024-02-09T11:07:55.738762",
          "status": "completed"
        },
        "tags": [],
        "id": "1b2fd6f5"
      },
      "source": [
        "### OUTLIER REMOVAL USING STANDARD DEVIATION AND MEAN"
      ]
    },
    {
      "cell_type": "code",
      "execution_count": 20,
      "id": "4411b791",
      "metadata": {
        "execution": {
          "iopub.execute_input": "2024-02-09T11:07:55.843870Z",
          "iopub.status.busy": "2024-02-09T11:07:55.843474Z",
          "iopub.status.idle": "2024-02-09T11:07:55.853799Z",
          "shell.execute_reply": "2024-02-09T11:07:55.852787Z"
        },
        "papermill": {
          "duration": 0.047631,
          "end_time": "2024-02-09T11:07:55.855974",
          "exception": false,
          "start_time": "2024-02-09T11:07:55.808343",
          "status": "completed"
        },
        "tags": [],
        "colab": {
          "base_uri": "https://localhost:8080/",
          "height": 141
        },
        "id": "4411b791",
        "outputId": "9c9904ce-f4a7-4983-820c-9bc705fec37d"
      },
      "outputs": [
        {
          "output_type": "error",
          "ename": "NameError",
          "evalue": "name 'df6' is not defined",
          "traceback": [
            "\u001b[0;31m---------------------------------------------------------------------------\u001b[0m",
            "\u001b[0;31mNameError\u001b[0m                                 Traceback (most recent call last)",
            "\u001b[0;32m<ipython-input-20-20d7864228cd>\u001b[0m in \u001b[0;36m<cell line: 1>\u001b[0;34m()\u001b[0m\n\u001b[0;32m----> 1\u001b[0;31m \u001b[0mdf6\u001b[0m\u001b[0;34m.\u001b[0m\u001b[0mprice_per_sqft\u001b[0m\u001b[0;34m.\u001b[0m\u001b[0mdescribe\u001b[0m\u001b[0;34m(\u001b[0m\u001b[0;34m)\u001b[0m\u001b[0;34m\u001b[0m\u001b[0;34m\u001b[0m\u001b[0m\n\u001b[0m",
            "\u001b[0;31mNameError\u001b[0m: name 'df6' is not defined"
          ]
        }
      ],
      "source": [
        "df6.price_per_sqft.describe()"
      ]
    },
    {
      "cell_type": "markdown",
      "id": "b1979db0",
      "metadata": {
        "papermill": {
          "duration": 0.03361,
          "end_time": "2024-02-09T11:07:55.923610",
          "exception": false,
          "start_time": "2024-02-09T11:07:55.890000",
          "status": "completed"
        },
        "tags": [],
        "id": "b1979db0"
      },
      "source": [
        "**HERE WE FIND THAT MIN PRICE PER SQFT IS 267 RS/SQFT WHEREAS MAX IS 12000000, THIS SHOWS A WIDE VARIATION IN PROPERTY PRICES. WE SHOULD REMOVE OUTLIERS PER LOCATION USING MEAN AND ONE STANDARD DEVIATION**"
      ]
    },
    {
      "cell_type": "code",
      "execution_count": null,
      "id": "7fed9663",
      "metadata": {
        "execution": {
          "iopub.execute_input": "2024-02-09T11:07:55.993351Z",
          "iopub.status.busy": "2024-02-09T11:07:55.992634Z",
          "iopub.status.idle": "2024-02-09T11:07:56.355231Z",
          "shell.execute_reply": "2024-02-09T11:07:56.353473Z"
        },
        "papermill": {
          "duration": 0.400652,
          "end_time": "2024-02-09T11:07:56.357871",
          "exception": false,
          "start_time": "2024-02-09T11:07:55.957219",
          "status": "completed"
        },
        "tags": [],
        "id": "7fed9663"
      },
      "outputs": [],
      "source": [
        "def remove_pps_outliers(df):\n",
        "    df_out = pd.DataFrame()\n",
        "    for key, subdf in df.groupby('location'):\n",
        "        m = np.mean(subdf.price_per_sqft)\n",
        "        st = np.std(subdf.price_per_sqft)\n",
        "        reduced_df = subdf[(subdf.price_per_sqft>(m-st)) & (subdf.price_per_sqft<=(m+st))]\n",
        "        df_out = pd.concat([df_out,reduced_df],ignore_index=True)\n",
        "    return df_out\n",
        "df7 = remove_pps_outliers(df6)\n",
        "df7.shape"
      ]
    },
    {
      "cell_type": "markdown",
      "id": "f4163f7a",
      "metadata": {
        "papermill": {
          "duration": 0.034122,
          "end_time": "2024-02-09T11:07:56.427480",
          "exception": false,
          "start_time": "2024-02-09T11:07:56.393358",
          "status": "completed"
        },
        "tags": [],
        "id": "f4163f7a"
      },
      "source": [
        "**LET'S CHECK IF FOR A GIVEN LOCATION HOW DOES THE 2 BHK AND 3 BHK PROPERTY PRICES LOOK LIKE**"
      ]
    },
    {
      "cell_type": "code",
      "execution_count": 21,
      "id": "c86b74dc",
      "metadata": {
        "execution": {
          "iopub.execute_input": "2024-02-09T11:07:56.498180Z",
          "iopub.status.busy": "2024-02-09T11:07:56.497801Z",
          "iopub.status.idle": "2024-02-09T11:07:56.993868Z",
          "shell.execute_reply": "2024-02-09T11:07:56.992765Z"
        },
        "papermill": {
          "duration": 0.534332,
          "end_time": "2024-02-09T11:07:56.996547",
          "exception": false,
          "start_time": "2024-02-09T11:07:56.462215",
          "status": "completed"
        },
        "tags": [],
        "colab": {
          "base_uri": "https://localhost:8080/",
          "height": 176
        },
        "id": "c86b74dc",
        "outputId": "74e5bb40-3d77-48d3-d176-8a5cae4630eb"
      },
      "outputs": [
        {
          "output_type": "error",
          "ename": "NameError",
          "evalue": "name 'df7' is not defined",
          "traceback": [
            "\u001b[0;31m---------------------------------------------------------------------------\u001b[0m",
            "\u001b[0;31mNameError\u001b[0m                                 Traceback (most recent call last)",
            "\u001b[0;32m<ipython-input-21-01dd4fbd1713>\u001b[0m in \u001b[0;36m<cell line: 12>\u001b[0;34m()\u001b[0m\n\u001b[1;32m     10\u001b[0m     \u001b[0mplt\u001b[0m\u001b[0;34m.\u001b[0m\u001b[0mlegend\u001b[0m\u001b[0;34m(\u001b[0m\u001b[0;34m)\u001b[0m\u001b[0;34m\u001b[0m\u001b[0;34m\u001b[0m\u001b[0m\n\u001b[1;32m     11\u001b[0m \u001b[0;34m\u001b[0m\u001b[0m\n\u001b[0;32m---> 12\u001b[0;31m \u001b[0mplot_scatter_chart\u001b[0m\u001b[0;34m(\u001b[0m\u001b[0mdf7\u001b[0m\u001b[0;34m,\u001b[0m\u001b[0;34m\"Rajaji Nagar\"\u001b[0m\u001b[0;34m)\u001b[0m\u001b[0;34m\u001b[0m\u001b[0;34m\u001b[0m\u001b[0m\n\u001b[0m",
            "\u001b[0;31mNameError\u001b[0m: name 'df7' is not defined"
          ]
        }
      ],
      "source": [
        "def plot_scatter_chart(df,location):\n",
        "    bhk2 = df[(df.location==location) & (df.bhk==2)]\n",
        "    bhk3 = df[(df.location==location) & (df.bhk==3)]\n",
        "    matplotlib.rcParams['figure.figsize'] = (15,10)\n",
        "    plt.scatter(bhk2.total_sqft,bhk2.price,color='blue',label='2 BHK', s=50)\n",
        "    plt.scatter(bhk3.total_sqft,bhk3.price,marker='+', color='green',label='3 BHK', s=50)\n",
        "    plt.xlabel(\"Total Square Feet Area\")\n",
        "    plt.ylabel(\"Price (Lakh Indian Rupees)\")\n",
        "    plt.title(location)\n",
        "    plt.legend()\n",
        "\n",
        "plot_scatter_chart(df7,\"Rajaji Nagar\")"
      ]
    },
    {
      "cell_type": "code",
      "execution_count": null,
      "id": "a9037b9c",
      "metadata": {
        "execution": {
          "iopub.execute_input": "2024-02-09T11:07:57.071599Z",
          "iopub.status.busy": "2024-02-09T11:07:57.071064Z",
          "iopub.status.idle": "2024-02-09T11:07:57.479352Z",
          "shell.execute_reply": "2024-02-09T11:07:57.478123Z"
        },
        "papermill": {
          "duration": 0.450929,
          "end_time": "2024-02-09T11:07:57.482068",
          "exception": false,
          "start_time": "2024-02-09T11:07:57.031139",
          "status": "completed"
        },
        "tags": [],
        "id": "a9037b9c"
      },
      "outputs": [],
      "source": [
        "plot_scatter_chart(df7,\"Hebbal\")"
      ]
    },
    {
      "cell_type": "code",
      "execution_count": 22,
      "id": "4f422944",
      "metadata": {
        "execution": {
          "iopub.execute_input": "2024-02-09T11:07:57.628211Z",
          "iopub.status.busy": "2024-02-09T11:07:57.626313Z",
          "iopub.status.idle": "2024-02-09T11:07:58.283897Z",
          "shell.execute_reply": "2024-02-09T11:07:58.282756Z"
        },
        "papermill": {
          "duration": 0.696974,
          "end_time": "2024-02-09T11:07:58.286484",
          "exception": false,
          "start_time": "2024-02-09T11:07:57.589510",
          "status": "completed"
        },
        "tags": [],
        "colab": {
          "base_uri": "https://localhost:8080/",
          "height": 211
        },
        "id": "4f422944",
        "outputId": "bd5aa6a2-9c00-4611-8472-0645102eb802"
      },
      "outputs": [
        {
          "output_type": "error",
          "ename": "NameError",
          "evalue": "name 'df7' is not defined",
          "traceback": [
            "\u001b[0;31m---------------------------------------------------------------------------\u001b[0m",
            "\u001b[0;31mNameError\u001b[0m                                 Traceback (most recent call last)",
            "\u001b[0;32m<ipython-input-22-0b8999a08b9c>\u001b[0m in \u001b[0;36m<cell line: 16>\u001b[0;34m()\u001b[0m\n\u001b[1;32m     14\u001b[0m                 \u001b[0mexclude_indices\u001b[0m \u001b[0;34m=\u001b[0m \u001b[0mnp\u001b[0m\u001b[0;34m.\u001b[0m\u001b[0mappend\u001b[0m\u001b[0;34m(\u001b[0m\u001b[0mexclude_indices\u001b[0m\u001b[0;34m,\u001b[0m \u001b[0mbhk_df\u001b[0m\u001b[0;34m[\u001b[0m\u001b[0mbhk_df\u001b[0m\u001b[0;34m.\u001b[0m\u001b[0mprice_per_sqft\u001b[0m\u001b[0;34m<\u001b[0m\u001b[0;34m(\u001b[0m\u001b[0mstats\u001b[0m\u001b[0;34m[\u001b[0m\u001b[0;34m'mean'\u001b[0m\u001b[0;34m]\u001b[0m\u001b[0;34m)\u001b[0m\u001b[0;34m]\u001b[0m\u001b[0;34m.\u001b[0m\u001b[0mindex\u001b[0m\u001b[0;34m.\u001b[0m\u001b[0mvalues\u001b[0m\u001b[0;34m)\u001b[0m\u001b[0;34m\u001b[0m\u001b[0;34m\u001b[0m\u001b[0m\n\u001b[1;32m     15\u001b[0m     \u001b[0;32mreturn\u001b[0m \u001b[0mdf\u001b[0m\u001b[0;34m.\u001b[0m\u001b[0mdrop\u001b[0m\u001b[0;34m(\u001b[0m\u001b[0mexclude_indices\u001b[0m\u001b[0;34m,\u001b[0m\u001b[0maxis\u001b[0m\u001b[0;34m=\u001b[0m\u001b[0;34m'index'\u001b[0m\u001b[0;34m)\u001b[0m\u001b[0;34m\u001b[0m\u001b[0;34m\u001b[0m\u001b[0m\n\u001b[0;32m---> 16\u001b[0;31m \u001b[0mdf8\u001b[0m \u001b[0;34m=\u001b[0m \u001b[0mremove_bhk_outliers\u001b[0m\u001b[0;34m(\u001b[0m\u001b[0mdf7\u001b[0m\u001b[0;34m)\u001b[0m\u001b[0;34m\u001b[0m\u001b[0;34m\u001b[0m\u001b[0m\n\u001b[0m\u001b[1;32m     17\u001b[0m \u001b[0mdf8\u001b[0m \u001b[0;34m=\u001b[0m \u001b[0mdf7\u001b[0m\u001b[0;34m.\u001b[0m\u001b[0mcopy\u001b[0m\u001b[0;34m(\u001b[0m\u001b[0;34m)\u001b[0m\u001b[0;34m\u001b[0m\u001b[0;34m\u001b[0m\u001b[0m\n\u001b[1;32m     18\u001b[0m \u001b[0mdf8\u001b[0m\u001b[0;34m.\u001b[0m\u001b[0mshape\u001b[0m\u001b[0;34m\u001b[0m\u001b[0;34m\u001b[0m\u001b[0m\n",
            "\u001b[0;31mNameError\u001b[0m: name 'df7' is not defined"
          ]
        }
      ],
      "source": [
        "def remove_bhk_outliers(df):\n",
        "    exclude_indices = np.array([])\n",
        "    for location, location_df in df.groupby('location'):\n",
        "        bhk_stats = {}\n",
        "        for bhk, bhk_df in location_df.groupby('bhk'):\n",
        "            bhk_stats[bhk] = {\n",
        "                'mean': np.mean(bhk_df.price_per_sqft),\n",
        "                'std': np.std(bhk_df.price_per_sqft),\n",
        "                'count': bhk_df.shape[0]\n",
        "            }\n",
        "        for bhk, bhk_df in location_df.groupby('bhk'):\n",
        "            stats = bhk_stats.get(bhk-1)\n",
        "            if stats and stats['count']>5:\n",
        "                exclude_indices = np.append(exclude_indices, bhk_df[bhk_df.price_per_sqft<(stats['mean'])].index.values)\n",
        "    return df.drop(exclude_indices,axis='index')\n",
        "df8 = remove_bhk_outliers(df7)\n",
        "df8 = df7.copy()\n",
        "df8.shape"
      ]
    },
    {
      "cell_type": "markdown",
      "id": "8361b776",
      "metadata": {
        "papermill": {
          "duration": 0.035811,
          "end_time": "2024-02-09T11:07:58.358495",
          "exception": false,
          "start_time": "2024-02-09T11:07:58.322684",
          "status": "completed"
        },
        "tags": [],
        "id": "8361b776"
      },
      "source": [
        "**PLOT SAME SCATTER CHART AGAIN TO VISUALIZE PRICE_PER_SQFT FOR 2 BHK AND 3 BHK PROPERTIES**"
      ]
    },
    {
      "cell_type": "code",
      "execution_count": null,
      "id": "f35e4554",
      "metadata": {
        "execution": {
          "iopub.execute_input": "2024-02-09T11:07:58.430571Z",
          "iopub.status.busy": "2024-02-09T11:07:58.430141Z",
          "iopub.status.idle": "2024-02-09T11:07:58.834042Z",
          "shell.execute_reply": "2024-02-09T11:07:58.832876Z"
        },
        "papermill": {
          "duration": 0.443062,
          "end_time": "2024-02-09T11:07:58.836547",
          "exception": false,
          "start_time": "2024-02-09T11:07:58.393485",
          "status": "completed"
        },
        "tags": [],
        "id": "f35e4554"
      },
      "outputs": [],
      "source": [
        "plot_scatter_chart(df8,\"Rajaji Nagar\")"
      ]
    },
    {
      "cell_type": "code",
      "execution_count": 23,
      "id": "d30d1bf2",
      "metadata": {
        "execution": {
          "iopub.execute_input": "2024-02-09T11:07:58.911588Z",
          "iopub.status.busy": "2024-02-09T11:07:58.911136Z",
          "iopub.status.idle": "2024-02-09T11:07:59.299887Z",
          "shell.execute_reply": "2024-02-09T11:07:59.298680Z"
        },
        "papermill": {
          "duration": 0.428873,
          "end_time": "2024-02-09T11:07:59.302235",
          "exception": false,
          "start_time": "2024-02-09T11:07:58.873362",
          "status": "completed"
        },
        "scrolled": true,
        "tags": [],
        "colab": {
          "base_uri": "https://localhost:8080/",
          "height": 141
        },
        "id": "d30d1bf2",
        "outputId": "d8d86a9f-cccb-472d-b128-4dbe6632e401"
      },
      "outputs": [
        {
          "output_type": "error",
          "ename": "NameError",
          "evalue": "name 'df8' is not defined",
          "traceback": [
            "\u001b[0;31m---------------------------------------------------------------------------\u001b[0m",
            "\u001b[0;31mNameError\u001b[0m                                 Traceback (most recent call last)",
            "\u001b[0;32m<ipython-input-23-0406f970d6df>\u001b[0m in \u001b[0;36m<cell line: 1>\u001b[0;34m()\u001b[0m\n\u001b[0;32m----> 1\u001b[0;31m \u001b[0mplot_scatter_chart\u001b[0m\u001b[0;34m(\u001b[0m\u001b[0mdf8\u001b[0m\u001b[0;34m,\u001b[0m\u001b[0;34m\"Hebbal\"\u001b[0m\u001b[0;34m)\u001b[0m\u001b[0;34m\u001b[0m\u001b[0;34m\u001b[0m\u001b[0m\n\u001b[0m",
            "\u001b[0;31mNameError\u001b[0m: name 'df8' is not defined"
          ]
        }
      ],
      "source": [
        "plot_scatter_chart(df8,\"Hebbal\")"
      ]
    },
    {
      "cell_type": "markdown",
      "id": "aa47c11a",
      "metadata": {
        "papermill": {
          "duration": 0.036348,
          "end_time": "2024-02-09T11:07:59.375145",
          "exception": false,
          "start_time": "2024-02-09T11:07:59.338797",
          "status": "completed"
        },
        "tags": [],
        "id": "aa47c11a"
      },
      "source": [
        "**BASED ON ABOVE CHARTS WE CAN SEE THAT DATA POINTS HIGHLIGHTED IN RED BELOW ARE OUTLIERS AND THEY ARE BEING REMOVED DUE TO REMOVE_BHK_OUTLIERS FUNCTION**"
      ]
    },
    {
      "cell_type": "code",
      "execution_count": null,
      "id": "c8ddf2ca",
      "metadata": {
        "execution": {
          "iopub.execute_input": "2024-02-09T11:07:59.745346Z",
          "iopub.status.busy": "2024-02-09T11:07:59.744921Z",
          "iopub.status.idle": "2024-02-09T11:08:00.053119Z",
          "shell.execute_reply": "2024-02-09T11:08:00.051993Z"
        },
        "papermill": {
          "duration": 0.34906,
          "end_time": "2024-02-09T11:08:00.055999",
          "exception": false,
          "start_time": "2024-02-09T11:07:59.706939",
          "status": "completed"
        },
        "tags": [],
        "id": "c8ddf2ca"
      },
      "outputs": [],
      "source": [
        "import matplotlib\n",
        "matplotlib.rcParams[\"figure.figsize\"] = (20,10)\n",
        "plt.hist(df8.price_per_sqft,rwidth=0.8)\n",
        "plt.xlabel(\"Price Per Square Feet\")\n",
        "plt.ylabel(\"Count\")"
      ]
    },
    {
      "cell_type": "markdown",
      "id": "7d10a556",
      "metadata": {
        "papermill": {
          "duration": 0.036815,
          "end_time": "2024-02-09T11:08:00.129905",
          "exception": false,
          "start_time": "2024-02-09T11:08:00.093090",
          "status": "completed"
        },
        "tags": [],
        "id": "7d10a556"
      },
      "source": [
        "### OUTLIER REMOVAL USING BATHROOMS FEATURE"
      ]
    },
    {
      "cell_type": "code",
      "execution_count": 24,
      "id": "1809d689",
      "metadata": {
        "execution": {
          "iopub.execute_input": "2024-02-09T11:08:00.207966Z",
          "iopub.status.busy": "2024-02-09T11:08:00.206800Z",
          "iopub.status.idle": "2024-02-09T11:08:00.215550Z",
          "shell.execute_reply": "2024-02-09T11:08:00.214491Z"
        },
        "papermill": {
          "duration": 0.050562,
          "end_time": "2024-02-09T11:08:00.217940",
          "exception": false,
          "start_time": "2024-02-09T11:08:00.167378",
          "status": "completed"
        },
        "tags": [],
        "colab": {
          "base_uri": "https://localhost:8080/",
          "height": 141
        },
        "id": "1809d689",
        "outputId": "653f9698-671d-4fd7-f511-2359a7b92180"
      },
      "outputs": [
        {
          "output_type": "error",
          "ename": "NameError",
          "evalue": "name 'df8' is not defined",
          "traceback": [
            "\u001b[0;31m---------------------------------------------------------------------------\u001b[0m",
            "\u001b[0;31mNameError\u001b[0m                                 Traceback (most recent call last)",
            "\u001b[0;32m<ipython-input-24-52cda4b53147>\u001b[0m in \u001b[0;36m<cell line: 1>\u001b[0;34m()\u001b[0m\n\u001b[0;32m----> 1\u001b[0;31m \u001b[0mdf8\u001b[0m\u001b[0;34m.\u001b[0m\u001b[0mbath\u001b[0m\u001b[0;34m.\u001b[0m\u001b[0munique\u001b[0m\u001b[0;34m(\u001b[0m\u001b[0;34m)\u001b[0m\u001b[0;34m\u001b[0m\u001b[0;34m\u001b[0m\u001b[0m\n\u001b[0m",
            "\u001b[0;31mNameError\u001b[0m: name 'df8' is not defined"
          ]
        }
      ],
      "source": [
        "df8.bath.unique()"
      ]
    },
    {
      "cell_type": "code",
      "execution_count": null,
      "id": "5fe2f108",
      "metadata": {
        "execution": {
          "iopub.execute_input": "2024-02-09T11:08:00.297045Z",
          "iopub.status.busy": "2024-02-09T11:08:00.296439Z",
          "iopub.status.idle": "2024-02-09T11:08:00.606445Z",
          "shell.execute_reply": "2024-02-09T11:08:00.605271Z"
        },
        "papermill": {
          "duration": 0.353695,
          "end_time": "2024-02-09T11:08:00.609065",
          "exception": false,
          "start_time": "2024-02-09T11:08:00.255370",
          "status": "completed"
        },
        "tags": [],
        "id": "5fe2f108"
      },
      "outputs": [],
      "source": [
        "plt.hist(df8.bath,rwidth=0.8)\n",
        "plt.xlabel(\"Number of bathrooms\")\n",
        "plt.ylabel(\"Count\")"
      ]
    },
    {
      "cell_type": "code",
      "execution_count": 25,
      "id": "0c2973d6",
      "metadata": {
        "execution": {
          "iopub.execute_input": "2024-02-09T11:08:00.687146Z",
          "iopub.status.busy": "2024-02-09T11:08:00.686748Z",
          "iopub.status.idle": "2024-02-09T11:08:00.703839Z",
          "shell.execute_reply": "2024-02-09T11:08:00.702740Z"
        },
        "papermill": {
          "duration": 0.059011,
          "end_time": "2024-02-09T11:08:00.706059",
          "exception": false,
          "start_time": "2024-02-09T11:08:00.647048",
          "status": "completed"
        },
        "tags": [],
        "colab": {
          "base_uri": "https://localhost:8080/",
          "height": 141
        },
        "id": "0c2973d6",
        "outputId": "1972e3aa-7c6c-420b-edd1-855a54e1a74d"
      },
      "outputs": [
        {
          "output_type": "error",
          "ename": "NameError",
          "evalue": "name 'df8' is not defined",
          "traceback": [
            "\u001b[0;31m---------------------------------------------------------------------------\u001b[0m",
            "\u001b[0;31mNameError\u001b[0m                                 Traceback (most recent call last)",
            "\u001b[0;32m<ipython-input-25-d6c7fea6a8c4>\u001b[0m in \u001b[0;36m<cell line: 1>\u001b[0;34m()\u001b[0m\n\u001b[0;32m----> 1\u001b[0;31m \u001b[0mdf8\u001b[0m\u001b[0;34m[\u001b[0m\u001b[0mdf8\u001b[0m\u001b[0;34m.\u001b[0m\u001b[0mbath\u001b[0m\u001b[0;34m>\u001b[0m\u001b[0;36m10\u001b[0m\u001b[0;34m]\u001b[0m\u001b[0;34m\u001b[0m\u001b[0;34m\u001b[0m\u001b[0m\n\u001b[0m",
            "\u001b[0;31mNameError\u001b[0m: name 'df8' is not defined"
          ]
        }
      ],
      "source": [
        "df8[df8.bath>10]"
      ]
    },
    {
      "cell_type": "markdown",
      "id": "d7af8193",
      "metadata": {
        "papermill": {
          "duration": 0.039838,
          "end_time": "2024-02-09T11:08:00.784109",
          "exception": false,
          "start_time": "2024-02-09T11:08:00.744271",
          "status": "completed"
        },
        "tags": [],
        "id": "d7af8193"
      },
      "source": [
        "**IT IS UNUSUAL TO HAVE 2 MORE BATHROOMS THAN NUMBER OF BEDROOMS IN A HOME**"
      ]
    },
    {
      "cell_type": "code",
      "execution_count": null,
      "id": "fc31bd89",
      "metadata": {
        "execution": {
          "iopub.execute_input": "2024-02-09T11:08:00.864624Z",
          "iopub.status.busy": "2024-02-09T11:08:00.863639Z",
          "iopub.status.idle": "2024-02-09T11:08:00.879898Z",
          "shell.execute_reply": "2024-02-09T11:08:00.878738Z"
        },
        "papermill": {
          "duration": 0.060204,
          "end_time": "2024-02-09T11:08:00.882412",
          "exception": false,
          "start_time": "2024-02-09T11:08:00.822208",
          "status": "completed"
        },
        "tags": [],
        "id": "fc31bd89"
      },
      "outputs": [],
      "source": [
        "df8[df8.bath>df8.bhk+2]"
      ]
    },
    {
      "cell_type": "markdown",
      "id": "3c0cfb93",
      "metadata": {
        "papermill": {
          "duration": 0.038123,
          "end_time": "2024-02-09T11:08:00.959125",
          "exception": false,
          "start_time": "2024-02-09T11:08:00.921002",
          "status": "completed"
        },
        "tags": [],
        "id": "3c0cfb93"
      },
      "source": [
        "**AGAIN THE BUSINESS MANAGER HAS A CONVERSATION WITH YOU (I.E. A DATA SCIENTIST) THAT IF YOU HAVE A 4 BEDROOM HOME AND EVEN IF YOU HAVE A BATHROOM IN ALL 4 ROOMS PLUS ONE GUEST BATHROOM, YOU WILL HAVE A TOTAL BATH = TOTAL BED + 1 MAX. ANYTHING ABOVE THAT IS AN OUTLIER OR A DATA ERROR AND CAN BE REMOVED**"
      ]
    },
    {
      "cell_type": "code",
      "execution_count": 26,
      "id": "e0ef1a56",
      "metadata": {
        "execution": {
          "iopub.execute_input": "2024-02-09T11:08:01.037666Z",
          "iopub.status.busy": "2024-02-09T11:08:01.036985Z",
          "iopub.status.idle": "2024-02-09T11:08:01.045754Z",
          "shell.execute_reply": "2024-02-09T11:08:01.044654Z"
        },
        "papermill": {
          "duration": 0.050226,
          "end_time": "2024-02-09T11:08:01.047839",
          "exception": false,
          "start_time": "2024-02-09T11:08:00.997613",
          "status": "completed"
        },
        "tags": [],
        "colab": {
          "base_uri": "https://localhost:8080/",
          "height": 159
        },
        "id": "e0ef1a56",
        "outputId": "d8c4257c-eca5-436d-9497-6a598db39f34"
      },
      "outputs": [
        {
          "output_type": "error",
          "ename": "NameError",
          "evalue": "name 'df8' is not defined",
          "traceback": [
            "\u001b[0;31m---------------------------------------------------------------------------\u001b[0m",
            "\u001b[0;31mNameError\u001b[0m                                 Traceback (most recent call last)",
            "\u001b[0;32m<ipython-input-26-bfec7dc4db8c>\u001b[0m in \u001b[0;36m<cell line: 1>\u001b[0;34m()\u001b[0m\n\u001b[0;32m----> 1\u001b[0;31m \u001b[0mdf9\u001b[0m \u001b[0;34m=\u001b[0m \u001b[0mdf8\u001b[0m\u001b[0;34m[\u001b[0m\u001b[0mdf8\u001b[0m\u001b[0;34m.\u001b[0m\u001b[0mbath\u001b[0m\u001b[0;34m<\u001b[0m\u001b[0mdf8\u001b[0m\u001b[0;34m.\u001b[0m\u001b[0mbhk\u001b[0m\u001b[0;34m+\u001b[0m\u001b[0;36m2\u001b[0m\u001b[0;34m]\u001b[0m\u001b[0;34m\u001b[0m\u001b[0;34m\u001b[0m\u001b[0m\n\u001b[0m\u001b[1;32m      2\u001b[0m \u001b[0mdf9\u001b[0m\u001b[0;34m.\u001b[0m\u001b[0mshape\u001b[0m\u001b[0;34m\u001b[0m\u001b[0;34m\u001b[0m\u001b[0m\n",
            "\u001b[0;31mNameError\u001b[0m: name 'df8' is not defined"
          ]
        }
      ],
      "source": [
        "df9 = df8[df8.bath<df8.bhk+2]\n",
        "df9.shape"
      ]
    },
    {
      "cell_type": "code",
      "execution_count": null,
      "id": "ca7230e0",
      "metadata": {
        "execution": {
          "iopub.execute_input": "2024-02-09T11:08:01.126978Z",
          "iopub.status.busy": "2024-02-09T11:08:01.126308Z",
          "iopub.status.idle": "2024-02-09T11:08:01.140015Z",
          "shell.execute_reply": "2024-02-09T11:08:01.138917Z"
        },
        "papermill": {
          "duration": 0.055903,
          "end_time": "2024-02-09T11:08:01.142198",
          "exception": false,
          "start_time": "2024-02-09T11:08:01.086295",
          "status": "completed"
        },
        "tags": [],
        "id": "ca7230e0"
      },
      "outputs": [],
      "source": [
        "df9.head(2)"
      ]
    },
    {
      "cell_type": "code",
      "execution_count": 27,
      "id": "ec5ea2ea",
      "metadata": {
        "execution": {
          "iopub.execute_input": "2024-02-09T11:08:01.223478Z",
          "iopub.status.busy": "2024-02-09T11:08:01.222780Z",
          "iopub.status.idle": "2024-02-09T11:08:01.237822Z",
          "shell.execute_reply": "2024-02-09T11:08:01.236625Z"
        },
        "papermill": {
          "duration": 0.059341,
          "end_time": "2024-02-09T11:08:01.240220",
          "exception": false,
          "start_time": "2024-02-09T11:08:01.180879",
          "status": "completed"
        },
        "scrolled": true,
        "tags": [],
        "colab": {
          "base_uri": "https://localhost:8080/",
          "height": 176
        },
        "id": "ec5ea2ea",
        "outputId": "87f34e4f-48cd-4b8b-9dab-90f63d87ff64"
      },
      "outputs": [
        {
          "output_type": "error",
          "ename": "NameError",
          "evalue": "name 'df9' is not defined",
          "traceback": [
            "\u001b[0;31m---------------------------------------------------------------------------\u001b[0m",
            "\u001b[0;31mNameError\u001b[0m                                 Traceback (most recent call last)",
            "\u001b[0;32m<ipython-input-27-d2120a33e0bb>\u001b[0m in \u001b[0;36m<cell line: 1>\u001b[0;34m()\u001b[0m\n\u001b[0;32m----> 1\u001b[0;31m \u001b[0mdf10\u001b[0m \u001b[0;34m=\u001b[0m \u001b[0mdf9\u001b[0m\u001b[0;34m.\u001b[0m\u001b[0mdrop\u001b[0m\u001b[0;34m(\u001b[0m\u001b[0;34m[\u001b[0m\u001b[0;34m'size'\u001b[0m\u001b[0;34m,\u001b[0m\u001b[0;34m'price_per_sqft'\u001b[0m\u001b[0;34m]\u001b[0m\u001b[0;34m,\u001b[0m\u001b[0maxis\u001b[0m\u001b[0;34m=\u001b[0m\u001b[0;34m'columns'\u001b[0m\u001b[0;34m)\u001b[0m\u001b[0;34m\u001b[0m\u001b[0;34m\u001b[0m\u001b[0m\n\u001b[0m\u001b[1;32m      2\u001b[0m \u001b[0mdf10\u001b[0m\u001b[0;34m.\u001b[0m\u001b[0mhead\u001b[0m\u001b[0;34m(\u001b[0m\u001b[0;36m3\u001b[0m\u001b[0;34m)\u001b[0m\u001b[0;34m\u001b[0m\u001b[0;34m\u001b[0m\u001b[0m\n\u001b[1;32m      3\u001b[0m \u001b[0mdf10\u001b[0m\u001b[0;34m.\u001b[0m\u001b[0mlocation\u001b[0m\u001b[0;34m\u001b[0m\u001b[0;34m\u001b[0m\u001b[0m\n",
            "\u001b[0;31mNameError\u001b[0m: name 'df9' is not defined"
          ]
        }
      ],
      "source": [
        "df10 = df9.drop(['size','price_per_sqft'],axis='columns')\n",
        "df10.head(3)\n",
        "df10.location"
      ]
    },
    {
      "cell_type": "markdown",
      "id": "47147fa3",
      "metadata": {
        "papermill": {
          "duration": 0.039869,
          "end_time": "2024-02-09T11:08:01.318925",
          "exception": false,
          "start_time": "2024-02-09T11:08:01.279056",
          "status": "completed"
        },
        "tags": [],
        "id": "47147fa3"
      },
      "source": [
        "### USE ONE HOT ENCODING FOR LOCATION"
      ]
    },
    {
      "cell_type": "code",
      "execution_count": null,
      "id": "9993b565",
      "metadata": {
        "execution": {
          "iopub.execute_input": "2024-02-09T11:08:01.400382Z",
          "iopub.status.busy": "2024-02-09T11:08:01.399746Z",
          "iopub.status.idle": "2024-02-09T11:08:01.423914Z",
          "shell.execute_reply": "2024-02-09T11:08:01.422822Z"
        },
        "papermill": {
          "duration": 0.068032,
          "end_time": "2024-02-09T11:08:01.426269",
          "exception": false,
          "start_time": "2024-02-09T11:08:01.358237",
          "status": "completed"
        },
        "tags": [],
        "id": "9993b565"
      },
      "outputs": [],
      "source": [
        "dummies = pd.get_dummies(df10.location)\n",
        "dummies.head(10)"
      ]
    },
    {
      "cell_type": "code",
      "execution_count": 28,
      "id": "1ef8aa45",
      "metadata": {
        "execution": {
          "iopub.execute_input": "2024-02-09T11:08:01.509431Z",
          "iopub.status.busy": "2024-02-09T11:08:01.508787Z",
          "iopub.status.idle": "2024-02-09T11:08:01.537367Z",
          "shell.execute_reply": "2024-02-09T11:08:01.536212Z"
        },
        "papermill": {
          "duration": 0.073138,
          "end_time": "2024-02-09T11:08:01.539785",
          "exception": false,
          "start_time": "2024-02-09T11:08:01.466647",
          "status": "completed"
        },
        "tags": [],
        "id": "1ef8aa45",
        "outputId": "c056ef4c-5864-45bf-e5a2-d8fa85a8fbf1",
        "colab": {
          "base_uri": "https://localhost:8080/",
          "height": 159
        }
      },
      "outputs": [
        {
          "output_type": "error",
          "ename": "NameError",
          "evalue": "name 'df10' is not defined",
          "traceback": [
            "\u001b[0;31m---------------------------------------------------------------------------\u001b[0m",
            "\u001b[0;31mNameError\u001b[0m                                 Traceback (most recent call last)",
            "\u001b[0;32m<ipython-input-28-16b2fc5579e0>\u001b[0m in \u001b[0;36m<cell line: 1>\u001b[0;34m()\u001b[0m\n\u001b[0;32m----> 1\u001b[0;31m \u001b[0mdf11\u001b[0m \u001b[0;34m=\u001b[0m \u001b[0mpd\u001b[0m\u001b[0;34m.\u001b[0m\u001b[0mconcat\u001b[0m\u001b[0;34m(\u001b[0m\u001b[0;34m[\u001b[0m\u001b[0mdf10\u001b[0m\u001b[0;34m,\u001b[0m\u001b[0mdummies\u001b[0m\u001b[0;34m.\u001b[0m\u001b[0mdrop\u001b[0m\u001b[0;34m(\u001b[0m\u001b[0;34m'other'\u001b[0m\u001b[0;34m,\u001b[0m\u001b[0maxis\u001b[0m\u001b[0;34m=\u001b[0m\u001b[0;34m'columns'\u001b[0m\u001b[0;34m)\u001b[0m\u001b[0;34m]\u001b[0m\u001b[0;34m,\u001b[0m\u001b[0maxis\u001b[0m\u001b[0;34m=\u001b[0m\u001b[0;34m'columns'\u001b[0m\u001b[0;34m)\u001b[0m\u001b[0;34m\u001b[0m\u001b[0;34m\u001b[0m\u001b[0m\n\u001b[0m\u001b[1;32m      2\u001b[0m \u001b[0mdf11\u001b[0m\u001b[0;34m.\u001b[0m\u001b[0mhead\u001b[0m\u001b[0;34m(\u001b[0m\u001b[0;34m)\u001b[0m\u001b[0;34m\u001b[0m\u001b[0;34m\u001b[0m\u001b[0m\n",
            "\u001b[0;31mNameError\u001b[0m: name 'df10' is not defined"
          ]
        }
      ],
      "source": [
        "df11 = pd.concat([df10,dummies.drop('other',axis='columns')],axis='columns')\n",
        "df11.head()"
      ]
    },
    {
      "cell_type": "code",
      "execution_count": null,
      "id": "e0c88a0d",
      "metadata": {
        "execution": {
          "iopub.execute_input": "2024-02-09T11:08:01.622614Z",
          "iopub.status.busy": "2024-02-09T11:08:01.622189Z",
          "iopub.status.idle": "2024-02-09T11:08:01.647387Z",
          "shell.execute_reply": "2024-02-09T11:08:01.646227Z"
        },
        "papermill": {
          "duration": 0.069735,
          "end_time": "2024-02-09T11:08:01.649737",
          "exception": false,
          "start_time": "2024-02-09T11:08:01.580002",
          "status": "completed"
        },
        "tags": [],
        "id": "e0c88a0d"
      },
      "outputs": [],
      "source": [
        "df12 = df11.drop('location',axis='columns')\n",
        "df12.head(2)"
      ]
    },
    {
      "cell_type": "markdown",
      "id": "e0af0bb0",
      "metadata": {
        "papermill": {
          "duration": 0.040145,
          "end_time": "2024-02-09T11:08:01.730460",
          "exception": false,
          "start_time": "2024-02-09T11:08:01.690315",
          "status": "completed"
        },
        "tags": [],
        "id": "e0af0bb0"
      },
      "source": [
        "### BUILDING A MODEL"
      ]
    },
    {
      "cell_type": "code",
      "execution_count": 29,
      "id": "a9ba1c63",
      "metadata": {
        "execution": {
          "iopub.execute_input": "2024-02-09T11:08:01.814484Z",
          "iopub.status.busy": "2024-02-09T11:08:01.814095Z",
          "iopub.status.idle": "2024-02-09T11:08:01.820742Z",
          "shell.execute_reply": "2024-02-09T11:08:01.819596Z"
        },
        "papermill": {
          "duration": 0.052198,
          "end_time": "2024-02-09T11:08:01.823136",
          "exception": false,
          "start_time": "2024-02-09T11:08:01.770938",
          "status": "completed"
        },
        "tags": [],
        "id": "a9ba1c63",
        "outputId": "161e150c-79b8-48a1-9e9c-95ca2ed91b37",
        "colab": {
          "base_uri": "https://localhost:8080/",
          "height": 141
        }
      },
      "outputs": [
        {
          "output_type": "error",
          "ename": "NameError",
          "evalue": "name 'df12' is not defined",
          "traceback": [
            "\u001b[0;31m---------------------------------------------------------------------------\u001b[0m",
            "\u001b[0;31mNameError\u001b[0m                                 Traceback (most recent call last)",
            "\u001b[0;32m<ipython-input-29-a9893aecffbd>\u001b[0m in \u001b[0;36m<cell line: 1>\u001b[0;34m()\u001b[0m\n\u001b[0;32m----> 1\u001b[0;31m \u001b[0mdf12\u001b[0m\u001b[0;34m.\u001b[0m\u001b[0mshape\u001b[0m\u001b[0;34m\u001b[0m\u001b[0;34m\u001b[0m\u001b[0m\n\u001b[0m",
            "\u001b[0;31mNameError\u001b[0m: name 'df12' is not defined"
          ]
        }
      ],
      "source": [
        "df12.shape"
      ]
    },
    {
      "cell_type": "code",
      "execution_count": null,
      "id": "bae04704",
      "metadata": {
        "execution": {
          "iopub.execute_input": "2024-02-09T11:08:01.907208Z",
          "iopub.status.busy": "2024-02-09T11:08:01.906577Z",
          "iopub.status.idle": "2024-02-09T11:08:01.932192Z",
          "shell.execute_reply": "2024-02-09T11:08:01.930839Z"
        },
        "papermill": {
          "duration": 0.070638,
          "end_time": "2024-02-09T11:08:01.934775",
          "exception": false,
          "start_time": "2024-02-09T11:08:01.864137",
          "status": "completed"
        },
        "scrolled": true,
        "tags": [],
        "id": "bae04704"
      },
      "outputs": [],
      "source": [
        "X = df12.drop(['price'],axis='columns')\n",
        "X.head(3)"
      ]
    },
    {
      "cell_type": "code",
      "execution_count": 30,
      "id": "753d922c",
      "metadata": {
        "execution": {
          "iopub.execute_input": "2024-02-09T11:08:02.019915Z",
          "iopub.status.busy": "2024-02-09T11:08:02.019029Z",
          "iopub.status.idle": "2024-02-09T11:08:02.026342Z",
          "shell.execute_reply": "2024-02-09T11:08:02.025289Z"
        },
        "papermill": {
          "duration": 0.052533,
          "end_time": "2024-02-09T11:08:02.028463",
          "exception": false,
          "start_time": "2024-02-09T11:08:01.975930",
          "status": "completed"
        },
        "tags": [],
        "id": "753d922c",
        "outputId": "686d2b9f-e477-486a-a721-b8f1d1087909",
        "colab": {
          "base_uri": "https://localhost:8080/",
          "height": 141
        }
      },
      "outputs": [
        {
          "output_type": "error",
          "ename": "NameError",
          "evalue": "name 'X' is not defined",
          "traceback": [
            "\u001b[0;31m---------------------------------------------------------------------------\u001b[0m",
            "\u001b[0;31mNameError\u001b[0m                                 Traceback (most recent call last)",
            "\u001b[0;32m<ipython-input-30-bc5f1a0adac8>\u001b[0m in \u001b[0;36m<cell line: 1>\u001b[0;34m()\u001b[0m\n\u001b[0;32m----> 1\u001b[0;31m \u001b[0mX\u001b[0m\u001b[0;34m.\u001b[0m\u001b[0mshape\u001b[0m\u001b[0;34m\u001b[0m\u001b[0;34m\u001b[0m\u001b[0m\n\u001b[0m",
            "\u001b[0;31mNameError\u001b[0m: name 'X' is not defined"
          ]
        }
      ],
      "source": [
        "X.shape"
      ]
    },
    {
      "cell_type": "code",
      "execution_count": null,
      "id": "bf987b19",
      "metadata": {
        "execution": {
          "iopub.execute_input": "2024-02-09T11:08:02.113579Z",
          "iopub.status.busy": "2024-02-09T11:08:02.112396Z",
          "iopub.status.idle": "2024-02-09T11:08:02.121558Z",
          "shell.execute_reply": "2024-02-09T11:08:02.120437Z"
        },
        "papermill": {
          "duration": 0.054029,
          "end_time": "2024-02-09T11:08:02.123892",
          "exception": false,
          "start_time": "2024-02-09T11:08:02.069863",
          "status": "completed"
        },
        "scrolled": true,
        "tags": [],
        "id": "bf987b19"
      },
      "outputs": [],
      "source": [
        "y = df12.price\n",
        "y.head(3)"
      ]
    },
    {
      "cell_type": "code",
      "execution_count": null,
      "id": "df45d88c",
      "metadata": {
        "execution": {
          "iopub.execute_input": "2024-02-09T11:08:02.209285Z",
          "iopub.status.busy": "2024-02-09T11:08:02.208480Z",
          "iopub.status.idle": "2024-02-09T11:08:02.215986Z",
          "shell.execute_reply": "2024-02-09T11:08:02.214770Z"
        },
        "papermill": {
          "duration": 0.053088,
          "end_time": "2024-02-09T11:08:02.218275",
          "exception": false,
          "start_time": "2024-02-09T11:08:02.165187",
          "status": "completed"
        },
        "tags": [],
        "id": "df45d88c"
      },
      "outputs": [],
      "source": [
        "len(y)"
      ]
    },
    {
      "cell_type": "code",
      "execution_count": 31,
      "id": "09f5d8c1",
      "metadata": {
        "execution": {
          "iopub.execute_input": "2024-02-09T11:08:02.304275Z",
          "iopub.status.busy": "2024-02-09T11:08:02.303878Z",
          "iopub.status.idle": "2024-02-09T11:08:03.835336Z",
          "shell.execute_reply": "2024-02-09T11:08:03.834214Z"
        },
        "papermill": {
          "duration": 1.577665,
          "end_time": "2024-02-09T11:08:03.838198",
          "exception": false,
          "start_time": "2024-02-09T11:08:02.260533",
          "status": "completed"
        },
        "tags": [],
        "id": "09f5d8c1",
        "colab": {
          "base_uri": "https://localhost:8080/",
          "height": 159
        },
        "outputId": "b5b29f29-df33-41cc-8047-d0c9887c73d3"
      },
      "outputs": [
        {
          "output_type": "error",
          "ename": "NameError",
          "evalue": "name 'X' is not defined",
          "traceback": [
            "\u001b[0;31m---------------------------------------------------------------------------\u001b[0m",
            "\u001b[0;31mNameError\u001b[0m                                 Traceback (most recent call last)",
            "\u001b[0;32m<ipython-input-31-016de27e1073>\u001b[0m in \u001b[0;36m<cell line: 2>\u001b[0;34m()\u001b[0m\n\u001b[1;32m      1\u001b[0m \u001b[0;32mfrom\u001b[0m \u001b[0msklearn\u001b[0m\u001b[0;34m.\u001b[0m\u001b[0mmodel_selection\u001b[0m \u001b[0;32mimport\u001b[0m \u001b[0mtrain_test_split\u001b[0m\u001b[0;34m\u001b[0m\u001b[0;34m\u001b[0m\u001b[0m\n\u001b[0;32m----> 2\u001b[0;31m \u001b[0mX_train\u001b[0m\u001b[0;34m,\u001b[0m \u001b[0mX_test\u001b[0m\u001b[0;34m,\u001b[0m \u001b[0my_train\u001b[0m\u001b[0;34m,\u001b[0m \u001b[0my_test\u001b[0m \u001b[0;34m=\u001b[0m \u001b[0mtrain_test_split\u001b[0m\u001b[0;34m(\u001b[0m\u001b[0mX\u001b[0m\u001b[0;34m,\u001b[0m\u001b[0my\u001b[0m\u001b[0;34m,\u001b[0m\u001b[0mtest_size\u001b[0m\u001b[0;34m=\u001b[0m\u001b[0;36m0.2\u001b[0m\u001b[0;34m,\u001b[0m\u001b[0mrandom_state\u001b[0m\u001b[0;34m=\u001b[0m\u001b[0;36m10\u001b[0m\u001b[0;34m)\u001b[0m\u001b[0;34m\u001b[0m\u001b[0;34m\u001b[0m\u001b[0m\n\u001b[0m",
            "\u001b[0;31mNameError\u001b[0m: name 'X' is not defined"
          ]
        }
      ],
      "source": [
        "from sklearn.model_selection import train_test_split\n",
        "X_train, X_test, y_train, y_test = train_test_split(X,y,test_size=0.2,random_state=10)"
      ]
    },
    {
      "cell_type": "code",
      "execution_count": null,
      "id": "a6b7d5b7",
      "metadata": {
        "execution": {
          "iopub.execute_input": "2024-02-09T11:08:03.925615Z",
          "iopub.status.busy": "2024-02-09T11:08:03.925191Z",
          "iopub.status.idle": "2024-02-09T11:08:04.261777Z",
          "shell.execute_reply": "2024-02-09T11:08:04.260001Z"
        },
        "papermill": {
          "duration": 0.384882,
          "end_time": "2024-02-09T11:08:04.266634",
          "exception": false,
          "start_time": "2024-02-09T11:08:03.881752",
          "status": "completed"
        },
        "tags": [],
        "id": "a6b7d5b7"
      },
      "outputs": [],
      "source": [
        "from sklearn.linear_model import LinearRegression\n",
        "lr_clf = LinearRegression()\n",
        "lr_clf.fit(X_train,y_train)\n",
        "lr_clf.score(X_test,y_test)"
      ]
    },
    {
      "cell_type": "markdown",
      "id": "80898449",
      "metadata": {
        "papermill": {
          "duration": 0.046375,
          "end_time": "2024-02-09T11:08:04.399414",
          "exception": false,
          "start_time": "2024-02-09T11:08:04.353039",
          "status": "completed"
        },
        "tags": [],
        "id": "80898449"
      },
      "source": [
        "### USE K FOLD CROSS VALIDATION TO MEASURE ACCURACY OF OUR LINEAR REGRESSION MODEL"
      ]
    },
    {
      "cell_type": "code",
      "execution_count": null,
      "id": "c811d5db",
      "metadata": {
        "execution": {
          "iopub.execute_input": "2024-02-09T11:08:04.485506Z",
          "iopub.status.busy": "2024-02-09T11:08:04.485107Z",
          "iopub.status.idle": "2024-02-09T11:08:05.396609Z",
          "shell.execute_reply": "2024-02-09T11:08:05.394247Z"
        },
        "papermill": {
          "duration": 0.959425,
          "end_time": "2024-02-09T11:08:05.400509",
          "exception": false,
          "start_time": "2024-02-09T11:08:04.441084",
          "status": "completed"
        },
        "tags": [],
        "id": "c811d5db"
      },
      "outputs": [],
      "source": [
        "from sklearn.model_selection import ShuffleSplit\n",
        "from sklearn.model_selection import cross_val_score\n",
        "\n",
        "cv = ShuffleSplit(n_splits=5, test_size=0.2, random_state=0)\n",
        "\n",
        "cross_val_score(LinearRegression(), X, y, cv=cv)"
      ]
    },
    {
      "cell_type": "markdown",
      "id": "90c8d31a",
      "metadata": {
        "papermill": {
          "duration": 0.04256,
          "end_time": "2024-02-09T11:08:05.555485",
          "exception": false,
          "start_time": "2024-02-09T11:08:05.512925",
          "status": "completed"
        },
        "tags": [],
        "id": "90c8d31a"
      },
      "source": [
        "**WE CAN SEE THAT IN 5 ITERATIONS WE GET A SCORE ABOVE 80% ALL THE TIME. THIS IS PRETTY GOOD BUT WE WANT TO TEST FEW OTHER ALGORITHMS FOR REGRESSION TO SEE IF WE CAN GET AN EVEN BETTER SCORE. WE WILL USE GRIDSEARCHCV FOR THIS PURPOSE**"
      ]
    },
    {
      "cell_type": "code",
      "execution_count": 32,
      "id": "347208b3",
      "metadata": {
        "execution": {
          "iopub.execute_input": "2024-02-09T11:08:12.193846Z",
          "iopub.status.busy": "2024-02-09T11:08:12.193390Z",
          "iopub.status.idle": "2024-02-09T11:08:12.198956Z",
          "shell.execute_reply": "2024-02-09T11:08:12.198099Z"
        },
        "papermill": {
          "duration": 0.052578,
          "end_time": "2024-02-09T11:08:12.201202",
          "exception": false,
          "start_time": "2024-02-09T11:08:12.148624",
          "status": "completed"
        },
        "tags": [],
        "id": "347208b3",
        "colab": {
          "base_uri": "https://localhost:8080/",
          "height": 176
        },
        "outputId": "9bea4e19-11de-4e9f-d498-9b9484fc35df"
      },
      "outputs": [
        {
          "output_type": "error",
          "ename": "NameError",
          "evalue": "name 'lr_clf' is not defined",
          "traceback": [
            "\u001b[0;31m---------------------------------------------------------------------------\u001b[0m",
            "\u001b[0;31mNameError\u001b[0m                                 Traceback (most recent call last)",
            "\u001b[0;32m<ipython-input-32-69b2eaef45cc>\u001b[0m in \u001b[0;36m<cell line: 2>\u001b[0;34m()\u001b[0m\n\u001b[1;32m      1\u001b[0m \u001b[0;32mimport\u001b[0m \u001b[0mpickle\u001b[0m\u001b[0;34m\u001b[0m\u001b[0;34m\u001b[0m\u001b[0m\n\u001b[1;32m      2\u001b[0m \u001b[0;32mwith\u001b[0m \u001b[0mopen\u001b[0m\u001b[0;34m(\u001b[0m\u001b[0;34m'banglore_home_prices_model.pickle'\u001b[0m\u001b[0;34m,\u001b[0m\u001b[0;34m'wb'\u001b[0m\u001b[0;34m)\u001b[0m \u001b[0;32mas\u001b[0m \u001b[0mf\u001b[0m\u001b[0;34m:\u001b[0m\u001b[0;34m\u001b[0m\u001b[0;34m\u001b[0m\u001b[0m\n\u001b[0;32m----> 3\u001b[0;31m     \u001b[0mpickle\u001b[0m\u001b[0;34m.\u001b[0m\u001b[0mdump\u001b[0m\u001b[0;34m(\u001b[0m\u001b[0mlr_clf\u001b[0m\u001b[0;34m,\u001b[0m\u001b[0mf\u001b[0m\u001b[0;34m)\u001b[0m\u001b[0;34m\u001b[0m\u001b[0;34m\u001b[0m\u001b[0m\n\u001b[0m",
            "\u001b[0;31mNameError\u001b[0m: name 'lr_clf' is not defined"
          ]
        }
      ],
      "source": [
        "import pickle\n",
        "with open('banglore_home_prices_model.pickle','wb') as f:\n",
        "    pickle.dump(lr_clf,f)"
      ]
    },
    {
      "cell_type": "markdown",
      "id": "dae23824",
      "metadata": {
        "papermill": {
          "duration": 0.043072,
          "end_time": "2024-02-09T11:08:12.288014",
          "exception": false,
          "start_time": "2024-02-09T11:08:12.244942",
          "status": "completed"
        },
        "tags": [],
        "id": "dae23824"
      },
      "source": [
        "### EXPORT LOCATION AND COLUMN INFORMATION TO A FILE THAT WILL BE USEFUL LATER ON IN OUR PREDICTION APPLICATION"
      ]
    },
    {
      "cell_type": "code",
      "execution_count": null,
      "id": "18593da0",
      "metadata": {
        "execution": {
          "iopub.execute_input": "2024-02-09T11:08:12.377064Z",
          "iopub.status.busy": "2024-02-09T11:08:12.376537Z",
          "iopub.status.idle": "2024-02-09T11:08:12.383537Z",
          "shell.execute_reply": "2024-02-09T11:08:12.382020Z"
        },
        "papermill": {
          "duration": 0.054778,
          "end_time": "2024-02-09T11:08:12.385844",
          "exception": false,
          "start_time": "2024-02-09T11:08:12.331066",
          "status": "completed"
        },
        "tags": [],
        "id": "18593da0"
      },
      "outputs": [],
      "source": [
        "import json\n",
        "columns = {\n",
        "    'data_columns' : [col.lower() for col in X.columns]\n",
        "}\n",
        "with open(\"columns.json\",\"w\") as f:\n",
        "    f.write(json.dumps(columns))"
      ]
    },
    {
      "cell_type": "code",
      "source": [],
      "metadata": {
        "id": "9HCyUQysWBos"
      },
      "id": "9HCyUQysWBos",
      "execution_count": null,
      "outputs": []
    }
  ],
  "metadata": {
    "kaggle": {
      "accelerator": "none",
      "dataSources": [
        {
          "datasetId": 1501505,
          "sourceId": 2480855,
          "sourceType": "datasetVersion"
        },
        {
          "datasetId": 4420855,
          "sourceId": 7595123,
          "sourceType": "datasetVersion"
        }
      ],
      "isGpuEnabled": false,
      "isInternetEnabled": true,
      "language": "python",
      "sourceType": "notebook"
    },
    "kernelspec": {
      "display_name": "Python 3",
      "language": "python",
      "name": "python3"
    },
    "language_info": {
      "codemirror_mode": {
        "name": "ipython",
        "version": 3
      },
      "file_extension": ".py",
      "mimetype": "text/x-python",
      "name": "python",
      "nbconvert_exporter": "python",
      "pygments_lexer": "ipython3",
      "version": "3.10.13"
    },
    "papermill": {
      "default_parameters": {},
      "duration": 25.372795,
      "end_time": "2024-02-09T11:08:13.050883",
      "environment_variables": {},
      "exception": null,
      "input_path": "__notebook__.ipynb",
      "output_path": "__notebook__.ipynb",
      "parameters": {},
      "start_time": "2024-02-09T11:07:47.678088",
      "version": "2.5.0"
    },
    "colab": {
      "provenance": [],
      "include_colab_link": true
    }
  },
  "nbformat": 4,
  "nbformat_minor": 5
}