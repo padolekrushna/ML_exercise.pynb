{
  "cells": [
    {
      "cell_type": "markdown",
      "metadata": {
        "id": "view-in-github",
        "colab_type": "text"
      },
      "source": [
        "<a href=\"https://colab.research.google.com/github/padolekrushna/ML_exercise.pynb/blob/main/regular_expressions_python.ipynb\" target=\"_parent\"><img src=\"https://colab.research.google.com/assets/colab-badge.svg\" alt=\"Open In Colab\"/></a>"
      ]
    },
    {
      "cell_type": "code",
      "execution_count": null,
      "id": "18265d3a-1ba7-4ebb-a209-789513c2f1b5",
      "metadata": {
        "id": "18265d3a-1ba7-4ebb-a209-789513c2f1b5",
        "outputId": "1660d195-c5ef-4c9b-e651-62c821ac6765"
      },
      "outputs": [
        {
          "name": "stdout",
          "output_type": "stream",
          "text": [
            "True\n"
          ]
        }
      ],
      "source": [
        "#1 Write a Python program to check that a string contains only a certain set of characters (in this case a-z, A-Z and 0-9).\n",
        "import re\n",
        "def check(string):\n",
        "    res = re.compile(r'[a-zA-Z0-9]')\n",
        "    if re.match(res,string):\n",
        "        return True\n",
        "    else:\n",
        "        return False\n",
        "string='12 Krushna padole'\n",
        "result=check(string)\n",
        "print(result)"
      ]
    },
    {
      "cell_type": "code",
      "execution_count": null,
      "id": "edc2b17e-d5ac-4aa1-9b60-4eb35cb4f139",
      "metadata": {
        "id": "edc2b17e-d5ac-4aa1-9b60-4eb35cb4f139",
        "outputId": "1f7c2118-da60-4c26-d287-671033d804da"
      },
      "outputs": [
        {
          "name": "stdout",
          "output_type": "stream",
          "text": [
            "Found a match!\n"
          ]
        }
      ],
      "source": [
        "#2 Write a Python program that matches a string that has an a followed by zero or more b's\n",
        "def check(string):\n",
        "    res=re.compile('^a(b*)$')\n",
        "    if re.match(res,string):\n",
        "        return 'Found a match!'\n",
        "    else:\n",
        "        return 'Not matched!'\n",
        "string='ab'\n",
        "result=check(string)\n",
        "print(result)"
      ]
    },
    {
      "cell_type": "code",
      "execution_count": null,
      "id": "4c00b446-cf72-4380-a6d1-4fa2fab5d78d",
      "metadata": {
        "id": "4c00b446-cf72-4380-a6d1-4fa2fab5d78d",
        "outputId": "bac01628-fb2c-40c9-d2ed-f7b48df6f973"
      },
      "outputs": [
        {
          "name": "stdout",
          "output_type": "stream",
          "text": [
            "True\n"
          ]
        }
      ],
      "source": [
        "#3  Write a Python program that matches a string that has an a followed by one or more b's.\n",
        "def check(string):\n",
        "    res=re.compile('ab+?')\n",
        "    if re.match(res,string):\n",
        "        return True\n",
        "    else:\n",
        "        return False\n",
        "string='ab'\n",
        "result=check(string)\n",
        "print(result)"
      ]
    },
    {
      "cell_type": "code",
      "execution_count": null,
      "id": "7ef30a1d-cc82-411d-8d62-a22f56eadb8c",
      "metadata": {
        "id": "7ef30a1d-cc82-411d-8d62-a22f56eadb8c",
        "outputId": "c0c610c7-5e4d-4c74-9ccc-4763e7223cfc"
      },
      "outputs": [
        {
          "name": "stdout",
          "output_type": "stream",
          "text": [
            "True\n"
          ]
        }
      ],
      "source": [
        "#4. Write a Python program that matches a string that has an a followed by zero or one 'b'.\n",
        "def check(string):\n",
        "    res=re.compile('ab?')\n",
        "    if re.match(res,string):\n",
        "        return True\n",
        "    else:\n",
        "        return False\n",
        "string='abc'\n",
        "result=check(string)\n",
        "print(result)"
      ]
    },
    {
      "cell_type": "code",
      "execution_count": null,
      "id": "a33e6ba1-5ff5-49fc-9411-7c89efd941aa",
      "metadata": {
        "id": "a33e6ba1-5ff5-49fc-9411-7c89efd941aa",
        "outputId": "2ba7e873-90f9-4b56-a456-f607cdc8f52f"
      },
      "outputs": [
        {
          "name": "stdout",
          "output_type": "stream",
          "text": [
            "Found a match!\n"
          ]
        }
      ],
      "source": [
        "#5 Write a Python program that matches a string that has an a followed by three 'b'\n",
        "import re\n",
        "def check(string):\n",
        "        res = 'ab{3}?'\n",
        "        if re.search(res, string):\n",
        "                return 'Found a match!'\n",
        "        else:\n",
        "                return 'Not matched!'\n",
        "\n",
        "print(check(\"abbb\"))"
      ]
    },
    {
      "cell_type": "code",
      "execution_count": null,
      "id": "608ff26b-86bf-4dec-b936-d9ec0e5059ca",
      "metadata": {
        "id": "608ff26b-86bf-4dec-b936-d9ec0e5059ca",
        "outputId": "8316f57a-d0c4-4676-9f58-60d351db0382"
      },
      "outputs": [
        {
          "name": "stdout",
          "output_type": "stream",
          "text": [
            "Found a match\n"
          ]
        }
      ],
      "source": [
        "#6 Write a Python program that matches a string that has an a followed by two to three 'b'\n",
        "def check(string):\n",
        "    res=re.compile('ab{2,3}')\n",
        "    if re.match(res,string):\n",
        "        return 'Found a match'\n",
        "    else:\n",
        "        return 'not matched'\n",
        "string='abbbc'\n",
        "result=check(string)\n",
        "print(result)"
      ]
    },
    {
      "cell_type": "code",
      "execution_count": null,
      "id": "fb619d60-e76c-47b2-841a-b4085675f6ef",
      "metadata": {
        "id": "fb619d60-e76c-47b2-841a-b4085675f6ef",
        "outputId": "cd229454-ee87-4d44-da69-9782c8e1b73a"
      },
      "outputs": [
        {
          "name": "stdout",
          "output_type": "stream",
          "text": [
            "True\n"
          ]
        }
      ],
      "source": [
        "#7 Write a Python program to find sequences of lowercase letters joined by an underscore\n",
        "def check(string):\n",
        "    res=re.compile('^[a-z]+_[a-z]+$')\n",
        "    if re.match(res,string):\n",
        "        return True\n",
        "    else:\n",
        "        return False\n",
        "string='abbc_bbc'\n",
        "result=check(string)\n",
        "print(result)"
      ]
    },
    {
      "cell_type": "code",
      "execution_count": null,
      "id": "fc8b5c50-4d7d-4d12-859a-98dc094139c2",
      "metadata": {
        "id": "fc8b5c50-4d7d-4d12-859a-98dc094139c2",
        "outputId": "49b56d66-ce45-4d0f-bc3d-6f5f8c8703e8"
      },
      "outputs": [
        {
          "name": "stdout",
          "output_type": "stream",
          "text": [
            "True\n"
          ]
        }
      ],
      "source": [
        "#8 Write a Python program to find the sequences of one upper case letter followed by lower case letters.\n",
        "def check(string):\n",
        "    res=re.compile('[A-Z]+[a-z]+$')\n",
        "    if re.match(res,string):\n",
        "        return True\n",
        "    else:\n",
        "        return False\n",
        "string='Aaab'\n",
        "result=check(string)\n",
        "print(result)"
      ]
    },
    {
      "cell_type": "code",
      "execution_count": null,
      "id": "1cd89874-b4c3-4888-9e1c-ec314effa773",
      "metadata": {
        "id": "1cd89874-b4c3-4888-9e1c-ec314effa773",
        "outputId": "93afcac0-dd24-4b1d-9a6f-b98280eb321f"
      },
      "outputs": [
        {
          "name": "stdout",
          "output_type": "stream",
          "text": [
            "True\n"
          ]
        }
      ],
      "source": [
        "#9 Write a Python program that matches a string that has an 'a' followed by anything ending in 'b'.\n",
        "def check(string):\n",
        "    res=re.compile('a.*?b$')\n",
        "    if re.match(res,string):\n",
        "        return True\n",
        "    else:\n",
        "        return False\n",
        "string='a123b'\n",
        "result=check(string)\n",
        "print(result)"
      ]
    },
    {
      "cell_type": "code",
      "execution_count": null,
      "id": "aa3c500a",
      "metadata": {
        "id": "aa3c500a",
        "outputId": "53da54fb-37f4-4492-edef-3056da4cf95d"
      },
      "outputs": [
        {
          "name": "stdout",
          "output_type": "stream",
          "text": [
            "Found a match!\n",
            "Not matched!\n"
          ]
        }
      ],
      "source": [
        "#10 Write a Python program that matches a word at the beginning of a string.\n",
        "import re\n",
        "def check(text):\n",
        "        patterns = '^\\w+'\n",
        "        if re.search(patterns,  text):\n",
        "                return 'Found a match!'\n",
        "        else:\n",
        "                return('Not matched!')\n",
        "\n",
        "print(check(\"The quick brown fox jumps over the lazy dog.\"))\n",
        "print(check(\" The quick brown fox jumps over the lazy dog.\"))\n"
      ]
    },
    {
      "cell_type": "code",
      "execution_count": null,
      "id": "933dd66d",
      "metadata": {
        "id": "933dd66d",
        "outputId": "1f1edf7e-828a-43b3-940c-e3e8b30300f5"
      },
      "outputs": [
        {
          "name": "stdout",
          "output_type": "stream",
          "text": [
            "Found a match!\n",
            "Not matched!\n",
            "Not matched!\n"
          ]
        }
      ],
      "source": [
        "#11 Write a Python program that matches a word at the end of a string, with optional punctuation\n",
        "import re\n",
        "def check(text):\n",
        "        patterns = '\\w+\\S*$'\n",
        "        if re.search(patterns,  text):\n",
        "                return 'Found a match!'\n",
        "        else:\n",
        "                return('Not matched!')\n",
        "\n",
        "print(check(\"The quick brown fox jumps over the lazy dog.\"))\n",
        "print(check(\"The quick brown fox jumps over the lazy dog. \"))\n",
        "print(check(\"The quick brown fox jumps over the lazy dog \"))\n"
      ]
    },
    {
      "cell_type": "code",
      "execution_count": null,
      "id": "064e635e",
      "metadata": {
        "id": "064e635e",
        "outputId": "50477b67-e600-4b04-ff8c-adbbb6515710"
      },
      "outputs": [
        {
          "name": "stdout",
          "output_type": "stream",
          "text": [
            "Found a match!\n",
            "Not matched!\n"
          ]
        }
      ],
      "source": [
        "#12 Write a Python program that matches a word containing 'z'.\n",
        "import re\n",
        "def check(text):\n",
        "        patterns = '\\w*z.\\w*'\n",
        "        if re.search(patterns,  text):\n",
        "                return 'Found a match!'\n",
        "        else:\n",
        "                return('Not matched!')\n",
        "\n",
        "print(check(\"The quick brown fox jumps over the lazy dog.\"))\n",
        "print(check(\"Python Exercises.\"))\n"
      ]
    },
    {
      "cell_type": "code",
      "execution_count": null,
      "id": "4a7f13ee-19cd-4a0e-8d4b-88a6a6cf8103",
      "metadata": {
        "id": "4a7f13ee-19cd-4a0e-8d4b-88a6a6cf8103",
        "outputId": "a6160ed6-2aaa-4bb3-bc69-f088dda1df6c"
      },
      "outputs": [
        {
          "name": "stdout",
          "output_type": "stream",
          "text": [
            "Found a match!\n",
            "Not matched!\n"
          ]
        }
      ],
      "source": [
        "#13 Write a Python program that matches a word containing 'z', not the start or end of the word.\n",
        "import re\n",
        "def check(text):\n",
        "        patterns = '\\Bz\\B'\n",
        "        if re.search(patterns,  text):\n",
        "                return 'Found a match!'\n",
        "        else:\n",
        "                return('Not matched!')\n",
        "\n",
        "print(check(\"The quick brown fox jumps over the lazy dog.\"))\n",
        "print(check(\"Python Exercises.\"))\n"
      ]
    },
    {
      "cell_type": "code",
      "execution_count": null,
      "id": "49335f7d-51df-4b9a-ac01-88c051000723",
      "metadata": {
        "id": "49335f7d-51df-4b9a-ac01-88c051000723",
        "outputId": "8d88f4e8-9686-454c-ffab-5ff90362edb4"
      },
      "outputs": [
        {
          "name": "stdout",
          "output_type": "stream",
          "text": [
            "True\n"
          ]
        }
      ],
      "source": [
        "#14 Write a Python program to match a string that contains only upper and lowercase letters,\\numbers, and underscores\n",
        "import re\n",
        "def check(string):\n",
        "    res=re.compile(r'[a..zA..Z]')\n",
        "    if re.match(res,string):\n",
        "        return True\n",
        "    else:\n",
        "        return False\n",
        "string='abc1254'\n",
        "result=check(string)\n",
        "print(result)"
      ]
    },
    {
      "cell_type": "code",
      "execution_count": null,
      "id": "0e39c1f7",
      "metadata": {
        "id": "0e39c1f7"
      },
      "outputs": [],
      "source": []
    }
  ],
  "metadata": {
    "kernelspec": {
      "display_name": "Python 3 (ipykernel)",
      "language": "python",
      "name": "python3"
    },
    "language_info": {
      "codemirror_mode": {
        "name": "ipython",
        "version": 3
      },
      "file_extension": ".py",
      "mimetype": "text/x-python",
      "name": "python",
      "nbconvert_exporter": "python",
      "pygments_lexer": "ipython3",
      "version": "3.11.5"
    },
    "colab": {
      "provenance": [],
      "include_colab_link": true
    }
  },
  "nbformat": 4,
  "nbformat_minor": 5
}